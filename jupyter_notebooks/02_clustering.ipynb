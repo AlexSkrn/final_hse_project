{
 "cells": [
  {
   "cell_type": "markdown",
   "metadata": {},
   "source": [
    "# Данные\n",
    "\n",
    "https://github.com/facebookresearch/LASER/tree/master/tasks/WikiMatrix"
   ]
  },
  {
   "cell_type": "code",
   "execution_count": 44,
   "metadata": {},
   "outputs": [],
   "source": [
    "import os\n",
    "\n",
    "import pandas as pd"
   ]
  },
  {
   "cell_type": "code",
   "execution_count": 67,
   "metadata": {},
   "outputs": [],
   "source": [
    "DATA_DIR = '../wiki-matrix-data'\n",
    "SRC_EN = 'WikiMatrix.en-ru.txt.en'\n",
    "SRC_RU = 'WikiMatrix.en-ru.txt.ru'"
   ]
  },
  {
   "cell_type": "code",
   "execution_count": 104,
   "metadata": {},
   "outputs": [
    {
     "name": "stdout",
     "output_type": "stream",
     "text": [
      "100_en.txt              WikiMatrix.en-ru.txt.en extract.py\r\n",
      "100_ru.txt              WikiMatrix.en-ru.txt.ru f.gz\r\n"
     ]
    }
   ],
   "source": [
    "!ls {DATA_DIR}"
   ]
  },
  {
   "cell_type": "code",
   "execution_count": 69,
   "metadata": {},
   "outputs": [
    {
     "name": "stdout",
     "output_type": "stream",
     "text": [
      "Количество строк в файлах:\n",
      "  508579 ../wiki-matrix-data/WikiMatrix.en-ru.txt.en\n",
      "  508579 ../wiki-matrix-data/WikiMatrix.en-ru.txt.ru\n"
     ]
    }
   ],
   "source": [
    "print(\"Количество строк в файлах:\")\n",
    "\n",
    "!wc -l {DATA_DIR}/{SRC_EN}\n",
    "!wc -l {DATA_DIR}/{SRC_RU}"
   ]
  },
  {
   "cell_type": "code",
   "execution_count": 71,
   "metadata": {
    "scrolled": true
   },
   "outputs": [
    {
     "name": "stdout",
     "output_type": "stream",
     "text": [
      "Несколько строк с начала и с конца файлов:\n",
      "\n",
      "\n",
      "The glory of the Lord has risen upon thee\".\r\n",
      "Fear of the Lord is aking to wonder (or awe).\r\n",
      "I think I washed his body 50 times.\"\r\n",
      "There has come to you clear evidence from your Lord.\r\n",
      "\"15,000 attend dawn service\".\r\n",
      "And in the mountains they suffer a calamity.\r\n",
      "Ask anybody, particularly the critics.\"\r\n",
      "\"Wiranto – survivor with iron will\".\r\n",
      "\"They Saved Lisa's Brain\".\r\n",
      "However, patients liked banknotes or coins of the Japan Bank.\r\n"
     ]
    }
   ],
   "source": [
    "print(\"Несколько строк с начала и с конца файлов:\\n\\n\")\n",
    "\n",
    "!head -10 {DATA_DIR}/{SRC_EN}"
   ]
  },
  {
   "cell_type": "code",
   "execution_count": 72,
   "metadata": {},
   "outputs": [
    {
     "name": "stdout",
     "output_type": "stream",
     "text": [
      "Какую же из милостей вашего Господа вы считаете ложью?».\r\n",
      "Воистину, мучений от твоего Господа надлежит остерегаться».\r\n",
      "Я думаю, что я омыла его тело 50 раз.»\r\n",
      "К вам пришло ясное знамение от вашего Господа.\r\n",
      "15,000 attend dawn service (англ.).\r\n",
      "И в горах их постигла беда.\r\n",
      "Спросите кого угодно, в особенности критиков.»\r\n",
      "«Wiranto — survivor with iron will».\r\n",
      "«They Saved Lisa’s Brain» (рус.\r\n",
      "Однако пациенты предпочитали банкноты или монеты Банка Японии.\r\n"
     ]
    }
   ],
   "source": [
    "!head -10 {DATA_DIR}/{SRC_RU}"
   ]
  },
  {
   "cell_type": "code",
   "execution_count": 73,
   "metadata": {
    "scrolled": true
   },
   "outputs": [
    {
     "name": "stdout",
     "output_type": "stream",
     "text": [
      "Carothers dropped his research on polymers for several years.\r\n",
      "Broadcasting authorities have the following exclusive economic rights: Fixing, reproducing, broadcasting, re-broadcasting, and communicating to the public the broadcasting programs.\r\n",
      "Additionally, Cameron was a member of Temple of the Dog (with fellow Soundgarden and Pearl Jam bandmates) and has served as the drummer for the side project bands Hater and Wellwater Conspiracy, also acting as the lead singer for the latter.\r\n",
      "Korbelik, Jeff. - \"'Deep End' is a little shallow\". - Lincoln Journal Star. - March 12, 1999.\r\n",
      "\"Under Neon Lights\" was released as the third single on 23 June 2015, and features St. Vincent, credited by her real name (Annie Clark) on vocals.\r\n",
      "The County Governor was tried in court but acquitted.\r\n",
      "The flower ornament prevails, on the frieze the images of pairs of swans are repeated.\r\n",
      "The squadron was in the midst of re-forming at RAF Kenley and he was able to fly the Gloster Gladiator fighter for the first time in May 1937.\r\n",
      "Hough became his partner again in Week 9.\r\n",
      "Towards the end of his first term in office, Pérez's reputation was tarnished by accusations of excessive, and disorderly, government spending.\r\n"
     ]
    }
   ],
   "source": [
    "!tail -10 {DATA_DIR}/{SRC_EN}"
   ]
  },
  {
   "cell_type": "code",
   "execution_count": 74,
   "metadata": {},
   "outputs": [
    {
     "name": "stdout",
     "output_type": "stream",
     "text": [
      "Карозерс бросил исследования полимеров на несколько лет.\r\n",
      "Вещательные органы имеют следующие исключительные имущественные права: Фиксация, воспроизведение, вещание, ретрансляцию, и доведение до общественного вещания программ.\r\n",
      "Кроме того, Кэмерон был участником супергруппы Temple of the Dog, (с коллегами Soundgarden и Pearl Jam) и служил в качестве барабанщика для сайд-проекта Hater и Wellwater Conspiracy, а для последнего выступает в качестве вокалиста.\r\n",
      "'Deep End' is a little shallow (англ.) // Lincoln Journal Star : газета. — 1999.\r\n",
      "Третий сингл «Under Neon Lights» был издан 23 июня 2015 года при участии St. Vincent; она была указана под её настоящим именем Энни Эрин Кларк (Annie Clark, вокал).\r\n",
      "Губернатор округа был судим, но оправдан.\r\n",
      "Преобладает цветочный орнамент, на фризе повторяются изображения пар лебедей.\r\n",
      "Эскадрилья находилась в разгаре реформирования в Kenley, к югу от Лондона, и он смог впервые полететь на истребителе-биплане Gloster Gladiator в мае 1937 года.\r\n",
      "Хаф снова стала его партнершей на 9 неделе проекта.\r\n",
      "Однако под конец первого срока полномочий Переса репутация политика была запятнана обвинениями в чрезмерных и беспорядочных государственных расходах.\r\n"
     ]
    }
   ],
   "source": [
    "!tail -10 {DATA_DIR}/{SRC_RU}"
   ]
  },
  {
   "cell_type": "markdown",
   "metadata": {},
   "source": [
    "# Загрузить данные в ДатаФрейм"
   ]
  },
  {
   "cell_type": "code",
   "execution_count": 176,
   "metadata": {
    "scrolled": true
   },
   "outputs": [
    {
     "data": {
      "text/html": [
       "<div>\n",
       "<style scoped>\n",
       "    .dataframe tbody tr th:only-of-type {\n",
       "        vertical-align: middle;\n",
       "    }\n",
       "\n",
       "    .dataframe tbody tr th {\n",
       "        vertical-align: top;\n",
       "    }\n",
       "\n",
       "    .dataframe thead th {\n",
       "        text-align: right;\n",
       "    }\n",
       "</style>\n",
       "<table border=\"1\" class=\"dataframe\">\n",
       "  <thead>\n",
       "    <tr style=\"text-align: right;\">\n",
       "      <th></th>\n",
       "      <th>en</th>\n",
       "      <th>ru</th>\n",
       "    </tr>\n",
       "  </thead>\n",
       "  <tbody>\n",
       "    <tr>\n",
       "      <th>0</th>\n",
       "      <td>Ćosić had a successful career in Europe, winni...</td>\n",
       "      <td>Чосич имел успешную карьеру в Европе, выиграв ...</td>\n",
       "    </tr>\n",
       "    <tr>\n",
       "      <th>1</th>\n",
       "      <td>Ćosić maintained that he did so in order to be...</td>\n",
       "      <td>Чосич всегда утверждал позднее, что сделал это...</td>\n",
       "    </tr>\n",
       "    <tr>\n",
       "      <th>2</th>\n",
       "      <td>Čabrinović and Princip died of tuberculosis in...</td>\n",
       "      <td>Чабринович, как и Принцип, умер в тюрьме от ту...</td>\n",
       "    </tr>\n",
       "    <tr>\n",
       "      <th>3</th>\n",
       "      <td>Čabrinović moved back into his father's house ...</td>\n",
       "      <td>Чабринович вернулся в дом своего отца в Сараеве.</td>\n",
       "    </tr>\n",
       "    <tr>\n",
       "      <th>4</th>\n",
       "      <td>Čachtice has received the status of a town in ...</td>\n",
       "      <td>Чахтице в 1392 году получило статус города, но...</td>\n",
       "    </tr>\n",
       "  </tbody>\n",
       "</table>\n",
       "</div>"
      ],
      "text/plain": [
       "                                                  en  \\\n",
       "0  Ćosić had a successful career in Europe, winni...   \n",
       "1  Ćosić maintained that he did so in order to be...   \n",
       "2  Čabrinović and Princip died of tuberculosis in...   \n",
       "3  Čabrinović moved back into his father's house ...   \n",
       "4  Čachtice has received the status of a town in ...   \n",
       "\n",
       "                                                  ru  \n",
       "0  Чосич имел успешную карьеру в Европе, выиграв ...  \n",
       "1  Чосич всегда утверждал позднее, что сделал это...  \n",
       "2  Чабринович, как и Принцип, умер в тюрьме от ту...  \n",
       "3   Чабринович вернулся в дом своего отца в Сараеве.  \n",
       "4  Чахтице в 1392 году получило статус города, но...  "
      ]
     },
     "execution_count": 176,
     "metadata": {},
     "output_type": "execute_result"
    }
   ],
   "source": [
    "filename = 'cleaned_bitext.tsv'\n",
    "clean_df = pd.read_csv(os.path.join(DATA_DIR, filename),\n",
    "                 sep='\\t',\n",
    "                )\n",
    "\n",
    "clean_df.head()"
   ]
  },
  {
   "cell_type": "code",
   "execution_count": 177,
   "metadata": {},
   "outputs": [
    {
     "data": {
      "text/plain": [
       "(344458, 2)"
      ]
     },
     "execution_count": 177,
     "metadata": {},
     "output_type": "execute_result"
    }
   ],
   "source": [
    "clean_df.shape"
   ]
  },
  {
   "cell_type": "markdown",
   "metadata": {},
   "source": [
    "https://scikit-learn.org/stable/modules/feature_extraction.html#text-feature-extraction\n",
    "\n",
    "https://scikit-learn.org/stable/auto_examples/text/plot_document_clustering.html#sphx-glr-auto-examples-text-plot-document-clustering-py\n",
    "\n",
    "https://scikit-learn.org/stable/auto_examples/bicluster/plot_bicluster_newsgroups.html#sphx-glr-auto-examples-bicluster-plot-bicluster-newsgroups-py"
   ]
  },
  {
   "cell_type": "markdown",
   "metadata": {},
   "source": [
    "- Привести к нижнему регистру (casefold)\n",
    "- Токенизировать\n",
    "- Удалить стоп-слова, символы и пунктуацию, цифры\n",
    "- Стеммировать или лемматизировать\n",
    "- (Опционально: Создать биграммы или триграммы)\n",
    "- Трансформировать в tf-idf-матрицу"
   ]
  },
  {
   "cell_type": "markdown",
   "metadata": {},
   "source": [
    "## Предобработка текста"
   ]
  },
  {
   "cell_type": "code",
   "execution_count": 210,
   "metadata": {},
   "outputs": [],
   "source": [
    "# import string\n",
    "\n",
    "# from nltk.stem.snowball import EnglishStemmer \n",
    "# from nltk.stem.snowball import RussianStemmer\n",
    "from nltk.corpus import stopwords\n",
    "# from nltk.stem import WordNetLemmatizer \n",
    "\n",
    "# stemmer = EnglishStemmer()\n",
    "# lemmatizer = WordNetLemmatizer()\n",
    "\n",
    "# def remove_punc(text) -> str:\n",
    "#     \"\"\"Return de-punctuated text as string.\"\"\"\n",
    "#     punct_exclude = set(string.punctuation)\n",
    "#     return ''.join(char for char in text if char not in punct_exclude)\n",
    "\n",
    "\n",
    "# def remove_numbers(text) -> str:\n",
    "#     \"\"\"Return de-numericised text.\"\"\"\n",
    "#     return ' '.join(word for word in text.split(' ') if not word.isdigit())\n",
    "\n",
    "\n",
    "# def stem(text) -> str:\n",
    "#     \"\"\"Return stemmed text as string.\"\"\"\n",
    "#     return ' '.join(stemmer.stem(word) for word in text.split(' '))\n",
    "\n",
    "\n",
    "# def lemmatize(text) -> str:\n",
    "#     \"\"\"Return lemmatized text as string.\"\"\"\n",
    "#     return ' '.join(lemmatizer.lemmatize(word) for word in text.split(' '))\n",
    "\n",
    "\n",
    "\n",
    "# def preprocess(text):\n",
    "#     return lemmatize(remove_numbers(remove_punc(text)))\n"
   ]
  },
  {
   "cell_type": "code",
   "execution_count": 201,
   "metadata": {},
   "outputs": [],
   "source": [
    "# example = \"\"\"'Korbelik, Jeff. - \"'Deep End' is a little shallow\". - Journal Star. - March 12, 1999.'\"\"\"\n",
    "example = \"\"\"Čachtice has received the status of a town in 1392, but it was later degraded back to a village.\"\"\""
   ]
  },
  {
   "cell_type": "code",
   "execution_count": 202,
   "metadata": {},
   "outputs": [
    {
     "data": {
      "text/plain": [
       "'Čachtice has received the status of a town in 1392 but it was later degraded back to a village'"
      ]
     },
     "execution_count": 202,
     "metadata": {},
     "output_type": "execute_result"
    }
   ],
   "source": [
    "remove_punc(example)"
   ]
  },
  {
   "cell_type": "code",
   "execution_count": 203,
   "metadata": {},
   "outputs": [
    {
     "data": {
      "text/plain": [
       "'Čachtice has received the status of a town in but it was later degraded back to a village'"
      ]
     },
     "execution_count": 203,
     "metadata": {},
     "output_type": "execute_result"
    }
   ],
   "source": [
    "remove_numbers(remove_punc(example))"
   ]
  },
  {
   "cell_type": "code",
   "execution_count": 205,
   "metadata": {
    "scrolled": false
   },
   "outputs": [
    {
     "data": {
      "text/plain": [
       "'Čachtice ha received the status of a town in but it wa later degraded back to a village'"
      ]
     },
     "execution_count": 205,
     "metadata": {},
     "output_type": "execute_result"
    }
   ],
   "source": [
    "lemmatize(remove_numbers(remove_punc(example)))"
   ]
  },
  {
   "cell_type": "code",
   "execution_count": 209,
   "metadata": {
    "scrolled": true
   },
   "outputs": [
    {
     "data": {
      "text/plain": [
       "'received'"
      ]
     },
     "execution_count": 209,
     "metadata": {},
     "output_type": "execute_result"
    }
   ],
   "source": [
    "lemmatizer.lemmatize('received')"
   ]
  },
  {
   "cell_type": "markdown",
   "metadata": {},
   "source": [
    "## To df"
   ]
  },
  {
   "cell_type": "code",
   "execution_count": 183,
   "metadata": {},
   "outputs": [
    {
     "data": {
      "text/html": [
       "<div>\n",
       "<style scoped>\n",
       "    .dataframe tbody tr th:only-of-type {\n",
       "        vertical-align: middle;\n",
       "    }\n",
       "\n",
       "    .dataframe tbody tr th {\n",
       "        vertical-align: top;\n",
       "    }\n",
       "\n",
       "    .dataframe thead th {\n",
       "        text-align: right;\n",
       "    }\n",
       "</style>\n",
       "<table border=\"1\" class=\"dataframe\">\n",
       "  <thead>\n",
       "    <tr style=\"text-align: right;\">\n",
       "      <th></th>\n",
       "      <th>en</th>\n",
       "    </tr>\n",
       "  </thead>\n",
       "  <tbody>\n",
       "    <tr>\n",
       "      <th>0</th>\n",
       "      <td>ćosić had a success career in europ win numer ...</td>\n",
       "    </tr>\n",
       "    <tr>\n",
       "      <th>1</th>\n",
       "      <td>ćosić maintain that he did so in order to bett...</td>\n",
       "    </tr>\n",
       "    <tr>\n",
       "      <th>2</th>\n",
       "      <td>čabrinović and princip die of tuberculosi in p...</td>\n",
       "    </tr>\n",
       "    <tr>\n",
       "      <th>3</th>\n",
       "      <td>čabrinović move back into his father hous in s...</td>\n",
       "    </tr>\n",
       "    <tr>\n",
       "      <th>4</th>\n",
       "      <td>čachtic has receiv the status of a town in but...</td>\n",
       "    </tr>\n",
       "  </tbody>\n",
       "</table>\n",
       "</div>"
      ],
      "text/plain": [
       "                                                  en\n",
       "0  ćosić had a success career in europ win numer ...\n",
       "1  ćosić maintain that he did so in order to bett...\n",
       "2  čabrinović and princip die of tuberculosi in p...\n",
       "3  čabrinović move back into his father hous in s...\n",
       "4  čachtic has receiv the status of a town in but..."
      ]
     },
     "execution_count": 183,
     "metadata": {},
     "output_type": "execute_result"
    }
   ],
   "source": [
    "# stemmed_df = pd.DataFrame()\n",
    "\n",
    "# stemmed_df['en'] = clean_df['en'].map(preprocess)\n",
    "\n",
    "# stemmed_df.head()"
   ]
  },
  {
   "cell_type": "markdown",
   "metadata": {},
   "source": [
    "## To file"
   ]
  },
  {
   "cell_type": "code",
   "execution_count": 184,
   "metadata": {},
   "outputs": [],
   "source": [
    "# stemmed_df.to_csv(os.path.join(DATA_DIR, 'stemmed_en.csv'),\n",
    "#                   index=False\n",
    "#                  )"
   ]
  },
  {
   "cell_type": "code",
   "execution_count": 185,
   "metadata": {
    "scrolled": false
   },
   "outputs": [
    {
     "data": {
      "text/html": [
       "<div>\n",
       "<style scoped>\n",
       "    .dataframe tbody tr th:only-of-type {\n",
       "        vertical-align: middle;\n",
       "    }\n",
       "\n",
       "    .dataframe tbody tr th {\n",
       "        vertical-align: top;\n",
       "    }\n",
       "\n",
       "    .dataframe thead th {\n",
       "        text-align: right;\n",
       "    }\n",
       "</style>\n",
       "<table border=\"1\" class=\"dataframe\">\n",
       "  <thead>\n",
       "    <tr style=\"text-align: right;\">\n",
       "      <th></th>\n",
       "      <th>en</th>\n",
       "    </tr>\n",
       "  </thead>\n",
       "  <tbody>\n",
       "    <tr>\n",
       "      <th>0</th>\n",
       "      <td>ćosić had a success career in europ win numer ...</td>\n",
       "    </tr>\n",
       "    <tr>\n",
       "      <th>1</th>\n",
       "      <td>ćosić maintain that he did so in order to bett...</td>\n",
       "    </tr>\n",
       "    <tr>\n",
       "      <th>2</th>\n",
       "      <td>čabrinović and princip die of tuberculosi in p...</td>\n",
       "    </tr>\n",
       "    <tr>\n",
       "      <th>3</th>\n",
       "      <td>čabrinović move back into his father hous in s...</td>\n",
       "    </tr>\n",
       "    <tr>\n",
       "      <th>4</th>\n",
       "      <td>čachtic has receiv the status of a town in but...</td>\n",
       "    </tr>\n",
       "  </tbody>\n",
       "</table>\n",
       "</div>"
      ],
      "text/plain": [
       "                                                  en\n",
       "0  ćosić had a success career in europ win numer ...\n",
       "1  ćosić maintain that he did so in order to bett...\n",
       "2  čabrinović and princip die of tuberculosi in p...\n",
       "3  čabrinović move back into his father hous in s...\n",
       "4  čachtic has receiv the status of a town in but..."
      ]
     },
     "execution_count": 185,
     "metadata": {},
     "output_type": "execute_result"
    }
   ],
   "source": [
    "# df = pd.read_csv(os.path.join(DATA_DIR, 'stemmed_en.csv'))\n",
    "\n",
    "# df.head()"
   ]
  },
  {
   "cell_type": "code",
   "execution_count": 186,
   "metadata": {
    "scrolled": true
   },
   "outputs": [
    {
     "data": {
      "text/plain": [
       "(344458, 1)"
      ]
     },
     "execution_count": 186,
     "metadata": {},
     "output_type": "execute_result"
    }
   ],
   "source": [
    "# df.shape"
   ]
  },
  {
   "cell_type": "code",
   "execution_count": 187,
   "metadata": {},
   "outputs": [
    {
     "data": {
      "text/plain": [
       "en    0\n",
       "dtype: int64"
      ]
     },
     "execution_count": 187,
     "metadata": {},
     "output_type": "execute_result"
    }
   ],
   "source": [
    "# df.isna().sum()"
   ]
  },
  {
   "cell_type": "code",
   "execution_count": 190,
   "metadata": {
    "scrolled": true
   },
   "outputs": [],
   "source": [
    "# df.loc[df['en'].isna(), 'en']"
   ]
  },
  {
   "cell_type": "code",
   "execution_count": 189,
   "metadata": {
    "scrolled": true
   },
   "outputs": [],
   "source": [
    "# !sed -n 2373p {DATA_DIR}/'cleaned_bitext.tsv'"
   ]
  },
  {
   "cell_type": "code",
   "execution_count": 188,
   "metadata": {
    "scrolled": false
   },
   "outputs": [],
   "source": [
    "# df.loc[2370:2373, 'en']"
   ]
  },
  {
   "cell_type": "code",
   "execution_count": null,
   "metadata": {},
   "outputs": [],
   "source": []
  },
  {
   "cell_type": "code",
   "execution_count": null,
   "metadata": {},
   "outputs": [],
   "source": [
    "# def number_normalizer(tokens):\n",
    "#     \"\"\" Map all numeric tokens to a placeholder.\n",
    "\n",
    "#     For many applications, tokens that begin with a number are not directly\n",
    "#     useful, but the fact that such a token exists can be relevant.  By applying\n",
    "#     this form of dimensionality reduction, some methods may perform better.\n",
    "#     \"\"\"\n",
    "#     return (\"#NUMBER\" if token[0].isdigit() else token for token in tokens)\n",
    "\n",
    "# class NumberNormalizingVectorizer(TfidfVectorizer):\n",
    "#     def build_tokenizer(self):\n",
    "#         tokenize = super().build_tokenizer()\n",
    "#         return lambda doc: list(number_normalizer(tokenize(doc)))"
   ]
  },
  {
   "cell_type": "code",
   "execution_count": null,
   "metadata": {},
   "outputs": [],
   "source": [
    "# import re\n",
    "# import numpy as np\n",
    "# import pandas as pd\n",
    "# from nltk import word_tokenize\n",
    "# from nltk.corpus import stopwords\n",
    "# df_events = pd.read_csv('events.csv')\n",
    "# from sklearn.feature_extraction.text import TfidfVectorizer\n",
    "# # Загрузили стопслова для русского языка из nltk\n",
    "# stopset = stopwords.words('russian')\n",
    "# # Токенизация, чистка\n",
    "# def tokenize(msg):\n",
    "#     # убрали знаки препинания и привели к нижнему регистру\n",
    "#     msg = re.sub('[!\"?/\\\\().:;,-]', '', msg).lower()\n",
    "#     msg = [w for w in word_tokenize(msg) if not w in stopset] # токенизировали и избавились от стоп слов\n",
    "#     return msg\n",
    "# bow_tfidf = TfidfVectorizer(tokenizer=tokenize)\n",
    "# bowed_news = bow_tfidf.fit_transform(df_news['text'])"
   ]
  },
  {
   "cell_type": "markdown",
   "metadata": {},
   "source": [
    "# Кластеризация"
   ]
  },
  {
   "cell_type": "code",
   "execution_count": 231,
   "metadata": {},
   "outputs": [
    {
     "name": "stdout",
     "output_type": "stream",
     "text": [
      "(344458, 1)\n"
     ]
    },
    {
     "data": {
      "text/html": [
       "<div>\n",
       "<style scoped>\n",
       "    .dataframe tbody tr th:only-of-type {\n",
       "        vertical-align: middle;\n",
       "    }\n",
       "\n",
       "    .dataframe tbody tr th {\n",
       "        vertical-align: top;\n",
       "    }\n",
       "\n",
       "    .dataframe thead th {\n",
       "        text-align: right;\n",
       "    }\n",
       "</style>\n",
       "<table border=\"1\" class=\"dataframe\">\n",
       "  <thead>\n",
       "    <tr style=\"text-align: right;\">\n",
       "      <th></th>\n",
       "      <th>en</th>\n",
       "    </tr>\n",
       "  </thead>\n",
       "  <tbody>\n",
       "    <tr>\n",
       "      <th>0</th>\n",
       "      <td>ćosić successful career europe win numerous le...</td>\n",
       "    </tr>\n",
       "    <tr>\n",
       "      <th>1</th>\n",
       "      <td>ćosić maintain order understand stalinist mind</td>\n",
       "    </tr>\n",
       "    <tr>\n",
       "      <th>2</th>\n",
       "      <td>čabrinović princip die tuberculosis prison</td>\n",
       "    </tr>\n",
       "    <tr>\n",
       "      <th>3</th>\n",
       "      <td>čabrinović move father house sarajevo</td>\n",
       "    </tr>\n",
       "    <tr>\n",
       "      <th>4</th>\n",
       "      <td>čachtice receive status town degrade village</td>\n",
       "    </tr>\n",
       "  </tbody>\n",
       "</table>\n",
       "</div>"
      ],
      "text/plain": [
       "                                                  en\n",
       "0  ćosić successful career europe win numerous le...\n",
       "1     ćosić maintain order understand stalinist mind\n",
       "2         čabrinović princip die tuberculosis prison\n",
       "3              čabrinović move father house sarajevo\n",
       "4       čachtice receive status town degrade village"
      ]
     },
     "execution_count": 231,
     "metadata": {},
     "output_type": "execute_result"
    }
   ],
   "source": [
    "lemmatized_df = pd.read_csv(os.path.join(DATA_DIR, 'lemmatized_pos_en.txt'))\n",
    "\n",
    "print(lemmatized_df.shape)\n",
    "lemmatized_df.head()"
   ]
  },
  {
   "cell_type": "code",
   "execution_count": 244,
   "metadata": {},
   "outputs": [],
   "source": [
    "idx_to_del = list(lemmatized_df.loc[lemmatized_df['en'].isna(), 'en'].index)"
   ]
  },
  {
   "cell_type": "code",
   "execution_count": 245,
   "metadata": {
    "scrolled": true
   },
   "outputs": [
    {
     "data": {
      "text/plain": [
       "(344436, 1)"
      ]
     },
     "execution_count": 245,
     "metadata": {},
     "output_type": "execute_result"
    }
   ],
   "source": [
    "# drop rows with na\n",
    "lemmatized_df.drop(idx_to_del, inplace=True)\n",
    "lemmatized_df.shape"
   ]
  },
  {
   "cell_type": "code",
   "execution_count": 368,
   "metadata": {},
   "outputs": [],
   "source": [
    "lemmatized_df.to_csv(os.path.join(DATA_DIR, 'lemmatized_pos_nonan_en_344436.txt'),\n",
    "                    sep='\\t',\n",
    "                    index=False\n",
    "                   )"
   ]
  },
  {
   "cell_type": "code",
   "execution_count": 382,
   "metadata": {},
   "outputs": [],
   "source": [
    "from nltk.corpus import stopwords\n",
    "\n",
    "stopwords = stopwords.words('english')\n",
    "stopwords.extend(['include', 'would', 'could'])\n",
    "\n",
    "months = ['january', 'february', 'march', 'april',\n",
    "          'may', 'june', 'july', 'august', \n",
    "          'september', 'october', 'november', 'december']\n",
    "stopwords.extend(months)"
   ]
  },
  {
   "cell_type": "code",
   "execution_count": 287,
   "metadata": {},
   "outputs": [
    {
     "name": "stdout",
     "output_type": "stream",
     "text": [
      "Extracting features from the training dataset using TfidfVectorizer\n",
      "done in 61.529330s\n",
      "n_samples: 344436, n_features: 10000\n",
      "\n"
     ]
    }
   ],
   "source": [
    "from sklearn.feature_extraction.text import TfidfVectorizer\n",
    "from sklearn.pipeline import make_pipeline\n",
    "from sklearn import metrics\n",
    "\n",
    "from sklearn.cluster import KMeans\n",
    "\n",
    "import logging\n",
    "\n",
    "from time import time\n",
    "\n",
    "import numpy as np\n",
    "\n",
    "\n",
    "# Display progress logs on stdout\n",
    "logging.basicConfig(level=logging.INFO,\n",
    "                    format='%(asctime)s %(levelname)s %(message)s')\n",
    "\n",
    "\n",
    "NUM_CLUSTERS = 20  \n",
    "# when 10 and stemmed data: Silhouette Coefficient = 0.006\n",
    "# when 10 and lemmatized and pos-limited: = 0.008\n",
    "\n",
    "DATA = lemmatized_df['en']\n",
    "\n",
    "# #############################################################################\n",
    "print(\"Extracting features from the training dataset \"\n",
    "      \"using TfidfVectorizer\")\n",
    "t0 = time()\n",
    "\n",
    "vectorizer = TfidfVectorizer(max_df=0.5,  # ignore terms that appear in > (0.x * 100)% of docs\n",
    "                             max_features=10000,\n",
    "                             min_df=2,    # ignore terms that appear in < n docs\n",
    "                             stop_words=stopwords,\n",
    "                             use_idf=False,\n",
    "                             ngram_range=(2, 3)  # use bi-grams and tri-grams\n",
    "                            )\n",
    "\n",
    "X = vectorizer.fit_transform(DATA)\n",
    "\n",
    "print(\"done in %fs\" % (time() - t0))\n",
    "print(\"n_samples: %d, n_features: %d\" % X.shape)\n",
    "print()"
   ]
  },
  {
   "cell_type": "code",
   "execution_count": 288,
   "metadata": {
    "scrolled": false
   },
   "outputs": [
    {
     "name": "stdout",
     "output_type": "stream",
     "text": [
      "Clustering sparse data with KMeans(algorithm='auto', copy_x=True, init='k-means++', max_iter=100,\n",
      "       n_clusters=20, n_init=1, n_jobs=None, precompute_distances='auto',\n",
      "       random_state=42, tol=0.0001, verbose=1)\n",
      "Initialization complete\n",
      "Iteration  0, inertia 190432.817\n",
      "Iteration  1, inertia 189027.887\n",
      "Iteration  2, inertia 188584.693\n",
      "Iteration  3, inertia 188578.086\n",
      "Iteration  4, inertia 188577.719\n",
      "Iteration  5, inertia 188577.717\n",
      "Converged at iteration 5: center shift 0.000000e+00 within tolerance 5.554968e-09\n",
      "done in 6.896s\n",
      "\n",
      "Silhouette Coefficient: 0.288\n"
     ]
    }
   ],
   "source": [
    "# #############################################################################\n",
    "# Do the actual clustering\n",
    "km = KMeans(n_clusters=NUM_CLUSTERS,\n",
    "            init='k-means++',\n",
    "            max_iter=100,  # сколько раз двигать центроиды\n",
    "            n_init=1,      # сколько раз кидать разные центроиды\n",
    "            random_state=42,\n",
    "            verbose=1)\n",
    "\n",
    "print(\"Clustering sparse data with %s\" % km)\n",
    "t0 = time()\n",
    "km.fit(X)\n",
    "print(\"done in %0.3fs\" % (time() - t0))\n",
    "print()\n",
    "\n",
    "print(\"Silhouette Coefficient: %0.3f\"\n",
    "      % metrics.silhouette_score(X, km.labels_, sample_size=1000))\n",
    "\n",
    "# The best value is 1 and the worst value is -1. Values near 0 indicate overlapping clusters. \n",
    "# Negative values generally indicate \n",
    "# that a sample has been assigned to the wrong cluster, as a different cluster is more similar."
   ]
  },
  {
   "cell_type": "code",
   "execution_count": 293,
   "metadata": {
    "scrolled": false
   },
   "outputs": [
    {
     "name": "stdout",
     "output_type": "stream",
     "text": [
      "Top terms per cluster:\n",
      "Cluster 0: second floor, first second, ground floor, first floor, central part, hotel room, small room, middle east, civil war, coat arm, find dead, museum open, right side, west side, new house, year old, next morning, main entrance, open public, state museum, could live, early 1980, left side, century city, time history, great patriotic, great patriotic war, 21st century, patriotic war, prosecutor office,\n",
      "====================\n",
      "Cluster 1: st petersburg, st petersburg russia, petersburg russia, economic forum, international economic, russian government, saint petersburg, take place, congress hold, begin work, political crisis, regional office, open first, russian city, legislative assembly, state duma, take part, following year, part russia, new york, president russia, russian language, 18th century, first time, event hold, participate election, russian federation, new city, manage find, south east,\n",
      "====================\n",
      "Cluster 2: united states, new york, prime minister, first time, 19th century, year old, los angeles, take part, civil war, united kingdom, soviet union, united nations, 20th century, next day, high school, next year, large number, north america, become first, many year, air force, last year, european union, following year, vice president, york city, new york city, several year, human right, supreme court,\n",
      "====================\n",
      "Cluster 3: young son, eld son, death young, son name, son bear, year age, old brother, young brother, follow death, abu nazir, al assad, son die, pope innocent, give birth, los angeles, brother john, privy council, seek refuge, borrow money, right right, series follow, accord source, le mans, civil service, philip ii, son king, primary source, prime minister, legal basis, reach age,\n",
      "====================\n",
      "Cluster 4: soviet government, soviet union, human right, government announce, member american, album contain, couple month, enter city, government order, japanese people, government consider, government establish, anti soviet, foreign trade, express regret, military district, government release, old building, american jewish, department state, long time, year world, world war, government make, make clear, group know, food supply, government minister, government start, british government,\n",
      "====================\n",
      "Cluster 5: long term, short term, term effect, term use, term memory, technological unemployment, term contract, development plan, side effect, united states, global warming, economic growth, economic development, strategic partnership, increase risk, make long, first decade, evidence suggest, east asia, high quality, european country, last year, high energy, patient receive, commercial bank, term year, 20th century, space mission, use term, 19th century,\n",
      "====================\n",
      "Cluster 6: make decision, could make, decision make, city council, set goal, man make, united states, player make, character make, defence force, order work, long term, begin look, give power, start make, american idol, source energy, economic court, 21st century, choice make, follow day, vince mcmahon, group young, process make, system make, union member, early 1980, order make, declare war, year live,\n",
      "====================\n",
      "Cluster 7: take place, place year, take place year, event take place, event take, ceremony take place, ceremony take, game take, game take place, filming take place, filming take, battle take place, battle take, marriage take, marriage take place, take place day, place day, united states, election take, election take place, meeting take place, meeting take, wedding take, wedding take place, story take place, story take, new york, action take place, action take, film take,\n",
      "====================\n",
      "Cluster 8: new zealand, australia new, australia new zealand, united states, united kingdom, prime minister, visit new, south africa, return new, move new, head state, island new, governor new, sell new, 19th century, soviet union, british empire, national party, come new, industry association, political party, high commissioner, house representatives, become first, foreign affairs, middle east, labour government, transfer new, first commercial, national park,\n",
      "====================\n",
      "Cluster 9: copyright law, united states, united states copyright, states copyright, intellectual property, copyright act, law protect, work copyright, creative work, berne convention, exclusive right, economic right, copyright work, hong kong, enter force, become effective, international copyright, law provide, technological development, many country, work public, russian federation, public domain, copy work, copyright owner, literary artistic, trade organization, world trade, world trade organization, work use,\n",
      "====================\n",
      "Cluster 10: north carolina, united states, south carolina, state university, new york, small town, take place, general assembly, attorney general, wife child, find work, south north, give child, brother john, first president, become permanent, state emergency, year old, pay debt, medical student, miss usa, start year, film production, first husband, personal friend, follow war, southern state, win first, postal service, scene shoot,\n",
      "====================\n",
      "Cluster 11: saudi arabia, king abdullah, arab emirates, united arab emirates, united arab, persian gulf, royal family, civil war, united states, soviet union, gulf war, united kingdom, muslim country, bin laden, oil price, government support, international law, oil company, military equipment, muslim world, syrian civil, syrian civil war, woman right, foreign policy, large number, construction company, south africa, international community, middle east, nuclear program,\n",
      "====================\n",
      "Cluster 12: first season, episode first season, episode first, season episode, show first, season series, end first, second season, season finale, executive producer, episode season, los angeles, season show, take place, season take, several episode, co producer, third season, introduce first, appear first, season premiere, start first, half hour, new york, remain unchanged, series begin, television series, first episode, guest star, write first,\n",
      "====================\n",
      "Cluster 13: make significant, significant contribution, make significant contribution, contribution development, significant impact, world bank, advancement science, dark matter, work make, digital rhetoric, significant change, north south, open access, long time, time make, significant effect, choice make, world health, today consider, white house, land reform, equal right, significant difference, study medicine, government make, life work, ask question, policy change, bbc radio, middle east,\n",
      "====================\n",
      "Cluster 14: increase risk, heart attack, low dose, large quantity, lead increase, play role, parkinson disease, breast cancer, critic argue, meta analysis, use year, study show, blood pressure, blood sugar, early month, disease cause, heart disease, significant increase, study find, month year, procedure use, natural resource, people take, health problem, sea level, long term, receive information, military government, year old, united states,\n",
      "====================\n",
      "Cluster 15: pope john, john paul, paul ii, john paul ii, pope john paul, cultural center, united states, catholic church, remain loyal, make similar, pope benedict xvi, benedict xvi, pope benedict, france italy, need new, new generation, northern france, lose position, new delhi, roman curia, serious threat, film festival, publish article, make official, become close, different country, work complete, ukrainian greek, great importance, year perform,\n",
      "====================\n",
      "Cluster 16: world war, war ii, world war ii, second world war, second world, first world, first world war, united states, end world war, end world, outbreak world, outbreak world war, follow world war, follow world, start world, end second world, end second, beginning world war, beginning world, civil war, german occupation, end first, war world war, war world, war break, prisoner war, united kingdom, post war, use world, soviet union,\n",
      "====================\n",
      "Cluster 17: human genome, transcription factor, research institute, provide new, give idea, non existent, statistical analysis, use information, take role, development new, make world, lead death, us national, project lead, next generation, project complete, world wide, international human, world wide web, leading role, wide web, go take, work lead, present work, people go, play key, associated press, many early, news agency, hong kong,\n",
      "====================\n",
      "Cluster 18: good evil, good time, stage name, man could, eighth army, police officer, royal canadian, full length album, full length, full independence, full diplomatic, full control, fuel injection, youtube video, fruit vegetable, full member, front page, front line, front door, friendly relation, friend family, friend colleague, fruit company, full size, full moon, fund raise, gain independence, gain control, gain access, gaddafi force,\n",
      "====================\n",
      "Cluster 19: use term, first use, begin use, prefer use, become use, work use, term use, prime minister, make use, first record, common use, way speed, total value, english language, roman empire, mid 1970, cold war, field use, general motors, state legislature, nineteenth century, company use, cease exist, second edition, analysis use, co operation, production distribution, native americans, 17th century, system use,\n",
      "====================\n"
     ]
    }
   ],
   "source": [
    "print(\"Top terms per cluster:\")\n",
    "\n",
    "\n",
    "order_centroids = km.cluster_centers_.argsort()[:, ::-1]  # all rows, in desc order\n",
    "\n",
    "terms = vectorizer.get_feature_names()\n",
    "for i in range(NUM_CLUSTERS):\n",
    "    print(\"Cluster %d:\" % i, end='')\n",
    "    for ind in order_centroids[i, :30]:\n",
    "        print(' %s' % terms[ind], end=',')\n",
    "    print()\n",
    "    print('=' * 20)\n",
    "    \n",
    "    \n",
    "    \n",
    "# def print_top_words(model, feature_names, n_top_words):\n",
    "#     for topic_idx, topic in enumerate(model.components_):\n",
    "#         message = \"Topic #%d: \" % topic_idx\n",
    "#         message += \" \".join([feature_names[i] for i in topic.argsort()[:-n_top_words - 1:-1]])\n",
    "#         print(message)\n",
    "#     print()"
   ]
  },
  {
   "cell_type": "code",
   "execution_count": 290,
   "metadata": {
    "scrolled": true
   },
   "outputs": [
    {
     "data": {
      "text/plain": [
       "344436"
      ]
     },
     "execution_count": 290,
     "metadata": {},
     "output_type": "execute_result"
    }
   ],
   "source": [
    "len(km.labels_)"
   ]
  },
  {
   "cell_type": "code",
   "execution_count": 291,
   "metadata": {},
   "outputs": [],
   "source": [
    "temp_df = pd.DataFrame()\n",
    "temp_df['labels'] = km.labels_"
   ]
  },
  {
   "cell_type": "code",
   "execution_count": 292,
   "metadata": {
    "scrolled": false
   },
   "outputs": [
    {
     "data": {
      "text/plain": [
       "2     338893\n",
       "7       1565\n",
       "16      1550\n",
       "8        505\n",
       "5        388\n",
       "1        246\n",
       "11       212\n",
       "12       173\n",
       "19       134\n",
       "3        130\n",
       "6        116\n",
       "9        116\n",
       "10        97\n",
       "13        55\n",
       "14        55\n",
       "15        54\n",
       "4         47\n",
       "0         44\n",
       "17        33\n",
       "18        23\n",
       "Name: labels, dtype: int64"
      ]
     },
     "execution_count": 292,
     "metadata": {},
     "output_type": "execute_result"
    }
   ],
   "source": [
    "temp_df['labels'].value_counts()"
   ]
  },
  {
   "cell_type": "code",
   "execution_count": 296,
   "metadata": {},
   "outputs": [
    {
     "name": "stdout",
     "output_type": "stream",
     "text": [
      "(344436, 2)\n"
     ]
    }
   ],
   "source": [
    "# Glue back to original data\n",
    "temp_df_no_labels = pd.read_csv(os.path.join(DATA_DIR, 'cleaned_bitext_344436.tsv'),\n",
    "                           sep='\\t'\n",
    "                          )\n",
    "\n",
    "print(temp_df_no_labels.shape)\n",
    "temp_df_no_labels['clusters'] = km.labels_\n",
    "\n",
    "temp_df_no_labels.to_csv(os.path.join(DATA_DIR, 'bitext_clusters_344436.tsv'),\n",
    "                    sep='\\t',\n",
    "                    index=False\n",
    "                   )"
   ]
  },
  {
   "cell_type": "code",
   "execution_count": 297,
   "metadata": {
    "scrolled": true
   },
   "outputs": [
    {
     "data": {
      "text/html": [
       "<div>\n",
       "<style scoped>\n",
       "    .dataframe tbody tr th:only-of-type {\n",
       "        vertical-align: middle;\n",
       "    }\n",
       "\n",
       "    .dataframe tbody tr th {\n",
       "        vertical-align: top;\n",
       "    }\n",
       "\n",
       "    .dataframe thead th {\n",
       "        text-align: right;\n",
       "    }\n",
       "</style>\n",
       "<table border=\"1\" class=\"dataframe\">\n",
       "  <thead>\n",
       "    <tr style=\"text-align: right;\">\n",
       "      <th></th>\n",
       "      <th>en</th>\n",
       "      <th>ru</th>\n",
       "      <th>clusters</th>\n",
       "    </tr>\n",
       "  </thead>\n",
       "  <tbody>\n",
       "    <tr>\n",
       "      <th>0</th>\n",
       "      <td>Ćosić had a successful career in Europe, winni...</td>\n",
       "      <td>Чосич имел успешную карьеру в Европе, выиграв ...</td>\n",
       "      <td>2</td>\n",
       "    </tr>\n",
       "    <tr>\n",
       "      <th>1</th>\n",
       "      <td>Ćosić maintained that he did so in order to be...</td>\n",
       "      <td>Чосич всегда утверждал позднее, что сделал это...</td>\n",
       "      <td>2</td>\n",
       "    </tr>\n",
       "    <tr>\n",
       "      <th>2</th>\n",
       "      <td>Čabrinović and Princip died of tuberculosis in...</td>\n",
       "      <td>Чабринович, как и Принцип, умер в тюрьме от ту...</td>\n",
       "      <td>2</td>\n",
       "    </tr>\n",
       "    <tr>\n",
       "      <th>3</th>\n",
       "      <td>Čabrinović moved back into his father's house ...</td>\n",
       "      <td>Чабринович вернулся в дом своего отца в Сараеве.</td>\n",
       "      <td>2</td>\n",
       "    </tr>\n",
       "    <tr>\n",
       "      <th>4</th>\n",
       "      <td>Čachtice has received the status of a town in ...</td>\n",
       "      <td>Чахтице в 1392 году получило статус города, но...</td>\n",
       "      <td>2</td>\n",
       "    </tr>\n",
       "  </tbody>\n",
       "</table>\n",
       "</div>"
      ],
      "text/plain": [
       "                                                  en  \\\n",
       "0  Ćosić had a successful career in Europe, winni...   \n",
       "1  Ćosić maintained that he did so in order to be...   \n",
       "2  Čabrinović and Princip died of tuberculosis in...   \n",
       "3  Čabrinović moved back into his father's house ...   \n",
       "4  Čachtice has received the status of a town in ...   \n",
       "\n",
       "                                                  ru  clusters  \n",
       "0  Чосич имел успешную карьеру в Европе, выиграв ...         2  \n",
       "1  Чосич всегда утверждал позднее, что сделал это...         2  \n",
       "2  Чабринович, как и Принцип, умер в тюрьме от ту...         2  \n",
       "3   Чабринович вернулся в дом своего отца в Сараеве.         2  \n",
       "4  Чахтице в 1392 году получило статус города, но...         2  "
      ]
     },
     "execution_count": 297,
     "metadata": {},
     "output_type": "execute_result"
    }
   ],
   "source": [
    "temp_df_no_labels.head()"
   ]
  },
  {
   "cell_type": "code",
   "execution_count": 336,
   "metadata": {
    "scrolled": true
   },
   "outputs": [],
   "source": [
    "cluster_idx = list(temp_df_no_labels.loc[temp_df_no_labels['clusters'] == 8,].index)"
   ]
  },
  {
   "cell_type": "code",
   "execution_count": 340,
   "metadata": {
    "scrolled": false
   },
   "outputs": [
    {
     "name": "stdout",
     "output_type": "stream",
     "text": [
      "110 soldiers and 44 police officers from Australia and New Zealand arrived to help the local police to establish order.\n",
      "18 ноября 110 солдат и 44 офицера полиции из Австралии и Новой Зеландии прибыли в Нукуалофу, чтобы помочь местной полиции навести порядок.\n",
      "\n",
      "2004: The Reserve Bank of New Zealand required WBC to incorporate its NZ branches network.\n",
      "2004: Резервный банк Новой Зеландии требует от WBC объединения новозеландской сети филиалов.\n",
      "\n",
      "A Knesset delegation visited New Zealand in August 2001.\n",
      "Делегация Кнессета посетила Новую Зеландию в августе 2001 года.\n",
      "\n",
      "A Look-Through Company (LTC) is a kind of tax structure for New Zealand companies with limited liability, which allows the company in question to transfer its income and expenditure to its shareholders directly.\n",
      "Look-Through Company (LTC) - это разновидность налогового режима для новозеландских компании с ограниченной ответственностью, позволяющей передавать доходы и расходы компании её акционерам напрямую.\n",
      "\n",
      "A capital city needed to be decided on, and immediately after the signing of the Treaty of Waitangi on 6 February 1840, Hobson sought advice from those who had been living in New Zealand for some time.\n",
      "Требовалось определить столицу новой территории, и сразу после подписания 6 февраля 1840 года Договора Вайтанги Гобсон обратился за помощью к тем, кто провёл в Новой Зеландии достаточное время.\n",
      "\n"
     ]
    }
   ],
   "source": [
    "for idx, value in enumerate(cluster_idx):\n",
    "    if idx > 4:\n",
    "        break\n",
    "    print(temp_df_no_labels.loc[value, 'en'])\n",
    "    print(temp_df_no_labels.loc[value, 'ru'])\n",
    "    print()"
   ]
  },
  {
   "cell_type": "markdown",
   "metadata": {},
   "source": [
    "# Кластеризация самого большого кластера  "
   ]
  },
  {
   "cell_type": "code",
   "execution_count": 369,
   "metadata": {
    "scrolled": true
   },
   "outputs": [
    {
     "name": "stdout",
     "output_type": "stream",
     "text": [
      "(344436, 3)\n"
     ]
    }
   ],
   "source": [
    "temp_df_with_labels = pd.read_csv(os.path.join(DATA_DIR, 'bitext_clusters_344436.tsv'),\n",
    "                           sep='\\t'\n",
    "                          )\n",
    "\n",
    "print(temp_df_with_labels.shape)"
   ]
  },
  {
   "cell_type": "code",
   "execution_count": 370,
   "metadata": {},
   "outputs": [
    {
     "data": {
      "text/html": [
       "<div>\n",
       "<style scoped>\n",
       "    .dataframe tbody tr th:only-of-type {\n",
       "        vertical-align: middle;\n",
       "    }\n",
       "\n",
       "    .dataframe tbody tr th {\n",
       "        vertical-align: top;\n",
       "    }\n",
       "\n",
       "    .dataframe thead th {\n",
       "        text-align: right;\n",
       "    }\n",
       "</style>\n",
       "<table border=\"1\" class=\"dataframe\">\n",
       "  <thead>\n",
       "    <tr style=\"text-align: right;\">\n",
       "      <th></th>\n",
       "      <th>en</th>\n",
       "      <th>ru</th>\n",
       "      <th>clusters</th>\n",
       "    </tr>\n",
       "  </thead>\n",
       "  <tbody>\n",
       "    <tr>\n",
       "      <th>0</th>\n",
       "      <td>Ćosić had a successful career in Europe, winni...</td>\n",
       "      <td>Чосич имел успешную карьеру в Европе, выиграв ...</td>\n",
       "      <td>2</td>\n",
       "    </tr>\n",
       "    <tr>\n",
       "      <th>1</th>\n",
       "      <td>Ćosić maintained that he did so in order to be...</td>\n",
       "      <td>Чосич всегда утверждал позднее, что сделал это...</td>\n",
       "      <td>2</td>\n",
       "    </tr>\n",
       "    <tr>\n",
       "      <th>2</th>\n",
       "      <td>Čabrinović and Princip died of tuberculosis in...</td>\n",
       "      <td>Чабринович, как и Принцип, умер в тюрьме от ту...</td>\n",
       "      <td>2</td>\n",
       "    </tr>\n",
       "    <tr>\n",
       "      <th>3</th>\n",
       "      <td>Čabrinović moved back into his father's house ...</td>\n",
       "      <td>Чабринович вернулся в дом своего отца в Сараеве.</td>\n",
       "      <td>2</td>\n",
       "    </tr>\n",
       "    <tr>\n",
       "      <th>4</th>\n",
       "      <td>Čachtice has received the status of a town in ...</td>\n",
       "      <td>Чахтице в 1392 году получило статус города, но...</td>\n",
       "      <td>2</td>\n",
       "    </tr>\n",
       "    <tr>\n",
       "      <th>...</th>\n",
       "      <td>...</td>\n",
       "      <td>...</td>\n",
       "      <td>...</td>\n",
       "    </tr>\n",
       "    <tr>\n",
       "      <th>344431</th>\n",
       "      <td>Özal supported the IMF, and to this end he for...</td>\n",
       "      <td>Озал поддерживал международный валютный фонд и...</td>\n",
       "      <td>2</td>\n",
       "    </tr>\n",
       "    <tr>\n",
       "      <th>344432</th>\n",
       "      <td>Özarı's career as a player ended early due to ...</td>\n",
       "      <td>Карьера Озары в качестве игрока закончилась ра...</td>\n",
       "      <td>2</td>\n",
       "    </tr>\n",
       "    <tr>\n",
       "      <th>344433</th>\n",
       "      <td>Özbiliz was given from the President of the Fo...</td>\n",
       "      <td>Озбилиз от президента Федерации футбола Армени...</td>\n",
       "      <td>2</td>\n",
       "    </tr>\n",
       "    <tr>\n",
       "      <th>344434</th>\n",
       "      <td>Øystein claimed part of his father's inheritan...</td>\n",
       "      <td>Эйстейн претендовал на часть отцовского наслед...</td>\n",
       "      <td>2</td>\n",
       "    </tr>\n",
       "    <tr>\n",
       "      <th>344435</th>\n",
       "      <td>Ürümqi Airport was opened to foreign passenger...</td>\n",
       "      <td>Аэропорт в Урумчи был открыт для иностранных п...</td>\n",
       "      <td>2</td>\n",
       "    </tr>\n",
       "  </tbody>\n",
       "</table>\n",
       "<p>344436 rows × 3 columns</p>\n",
       "</div>"
      ],
      "text/plain": [
       "                                                       en  \\\n",
       "0       Ćosić had a successful career in Europe, winni...   \n",
       "1       Ćosić maintained that he did so in order to be...   \n",
       "2       Čabrinović and Princip died of tuberculosis in...   \n",
       "3       Čabrinović moved back into his father's house ...   \n",
       "4       Čachtice has received the status of a town in ...   \n",
       "...                                                   ...   \n",
       "344431  Özal supported the IMF, and to this end he for...   \n",
       "344432  Özarı's career as a player ended early due to ...   \n",
       "344433  Özbiliz was given from the President of the Fo...   \n",
       "344434  Øystein claimed part of his father's inheritan...   \n",
       "344435  Ürümqi Airport was opened to foreign passenger...   \n",
       "\n",
       "                                                       ru  clusters  \n",
       "0       Чосич имел успешную карьеру в Европе, выиграв ...         2  \n",
       "1       Чосич всегда утверждал позднее, что сделал это...         2  \n",
       "2       Чабринович, как и Принцип, умер в тюрьме от ту...         2  \n",
       "3        Чабринович вернулся в дом своего отца в Сараеве.         2  \n",
       "4       Чахтице в 1392 году получило статус города, но...         2  \n",
       "...                                                   ...       ...  \n",
       "344431  Озал поддерживал международный валютный фонд и...         2  \n",
       "344432  Карьера Озары в качестве игрока закончилась ра...         2  \n",
       "344433  Озбилиз от президента Федерации футбола Армени...         2  \n",
       "344434  Эйстейн претендовал на часть отцовского наслед...         2  \n",
       "344435  Аэропорт в Урумчи был открыт для иностранных п...         2  \n",
       "\n",
       "[344436 rows x 3 columns]"
      ]
     },
     "execution_count": 370,
     "metadata": {},
     "output_type": "execute_result"
    }
   ],
   "source": [
    "temp_df_with_labels"
   ]
  },
  {
   "cell_type": "code",
   "execution_count": 371,
   "metadata": {},
   "outputs": [
    {
     "data": {
      "text/plain": [
       "2     338893\n",
       "7       1565\n",
       "16      1550\n",
       "8        505\n",
       "5        388\n",
       "1        246\n",
       "11       212\n",
       "12       173\n",
       "19       134\n",
       "3        130\n",
       "6        116\n",
       "9        116\n",
       "10        97\n",
       "13        55\n",
       "14        55\n",
       "15        54\n",
       "4         47\n",
       "0         44\n",
       "17        33\n",
       "18        23\n",
       "Name: clusters, dtype: int64"
      ]
     },
     "execution_count": 371,
     "metadata": {},
     "output_type": "execute_result"
    }
   ],
   "source": [
    "temp_df_with_labels['clusters'].value_counts()"
   ]
  },
  {
   "cell_type": "code",
   "execution_count": 374,
   "metadata": {},
   "outputs": [
    {
     "name": "stdout",
     "output_type": "stream",
     "text": [
      "(338893, 3)\n"
     ]
    }
   ],
   "source": [
    "cat_2_mask = (temp_df_with_labels['clusters'] == 2)\n",
    "# make a subset containing the largest cluster only\n",
    "sub_df = temp_df_with_labels.loc[cat_2_mask, ]\n",
    "sub_df.reset_index(drop=True, inplace=True)\n",
    "\n",
    "print(sub_df.shape)"
   ]
  },
  {
   "cell_type": "code",
   "execution_count": 375,
   "metadata": {},
   "outputs": [
    {
     "data": {
      "text/html": [
       "<div>\n",
       "<style scoped>\n",
       "    .dataframe tbody tr th:only-of-type {\n",
       "        vertical-align: middle;\n",
       "    }\n",
       "\n",
       "    .dataframe tbody tr th {\n",
       "        vertical-align: top;\n",
       "    }\n",
       "\n",
       "    .dataframe thead th {\n",
       "        text-align: right;\n",
       "    }\n",
       "</style>\n",
       "<table border=\"1\" class=\"dataframe\">\n",
       "  <thead>\n",
       "    <tr style=\"text-align: right;\">\n",
       "      <th></th>\n",
       "      <th>en</th>\n",
       "      <th>ru</th>\n",
       "      <th>clusters</th>\n",
       "    </tr>\n",
       "  </thead>\n",
       "  <tbody>\n",
       "    <tr>\n",
       "      <th>0</th>\n",
       "      <td>Ćosić had a successful career in Europe, winni...</td>\n",
       "      <td>Чосич имел успешную карьеру в Европе, выиграв ...</td>\n",
       "      <td>2</td>\n",
       "    </tr>\n",
       "    <tr>\n",
       "      <th>1</th>\n",
       "      <td>Ćosić maintained that he did so in order to be...</td>\n",
       "      <td>Чосич всегда утверждал позднее, что сделал это...</td>\n",
       "      <td>2</td>\n",
       "    </tr>\n",
       "    <tr>\n",
       "      <th>2</th>\n",
       "      <td>Čabrinović and Princip died of tuberculosis in...</td>\n",
       "      <td>Чабринович, как и Принцип, умер в тюрьме от ту...</td>\n",
       "      <td>2</td>\n",
       "    </tr>\n",
       "    <tr>\n",
       "      <th>3</th>\n",
       "      <td>Čabrinović moved back into his father's house ...</td>\n",
       "      <td>Чабринович вернулся в дом своего отца в Сараеве.</td>\n",
       "      <td>2</td>\n",
       "    </tr>\n",
       "    <tr>\n",
       "      <th>4</th>\n",
       "      <td>Čachtice has received the status of a town in ...</td>\n",
       "      <td>Чахтице в 1392 году получило статус города, но...</td>\n",
       "      <td>2</td>\n",
       "    </tr>\n",
       "    <tr>\n",
       "      <th>...</th>\n",
       "      <td>...</td>\n",
       "      <td>...</td>\n",
       "      <td>...</td>\n",
       "    </tr>\n",
       "    <tr>\n",
       "      <th>338888</th>\n",
       "      <td>Özal supported the IMF, and to this end he for...</td>\n",
       "      <td>Озал поддерживал международный валютный фонд и...</td>\n",
       "      <td>2</td>\n",
       "    </tr>\n",
       "    <tr>\n",
       "      <th>338889</th>\n",
       "      <td>Özarı's career as a player ended early due to ...</td>\n",
       "      <td>Карьера Озары в качестве игрока закончилась ра...</td>\n",
       "      <td>2</td>\n",
       "    </tr>\n",
       "    <tr>\n",
       "      <th>338890</th>\n",
       "      <td>Özbiliz was given from the President of the Fo...</td>\n",
       "      <td>Озбилиз от президента Федерации футбола Армени...</td>\n",
       "      <td>2</td>\n",
       "    </tr>\n",
       "    <tr>\n",
       "      <th>338891</th>\n",
       "      <td>Øystein claimed part of his father's inheritan...</td>\n",
       "      <td>Эйстейн претендовал на часть отцовского наслед...</td>\n",
       "      <td>2</td>\n",
       "    </tr>\n",
       "    <tr>\n",
       "      <th>338892</th>\n",
       "      <td>Ürümqi Airport was opened to foreign passenger...</td>\n",
       "      <td>Аэропорт в Урумчи был открыт для иностранных п...</td>\n",
       "      <td>2</td>\n",
       "    </tr>\n",
       "  </tbody>\n",
       "</table>\n",
       "<p>338893 rows × 3 columns</p>\n",
       "</div>"
      ],
      "text/plain": [
       "                                                       en  \\\n",
       "0       Ćosić had a successful career in Europe, winni...   \n",
       "1       Ćosić maintained that he did so in order to be...   \n",
       "2       Čabrinović and Princip died of tuberculosis in...   \n",
       "3       Čabrinović moved back into his father's house ...   \n",
       "4       Čachtice has received the status of a town in ...   \n",
       "...                                                   ...   \n",
       "338888  Özal supported the IMF, and to this end he for...   \n",
       "338889  Özarı's career as a player ended early due to ...   \n",
       "338890  Özbiliz was given from the President of the Fo...   \n",
       "338891  Øystein claimed part of his father's inheritan...   \n",
       "338892  Ürümqi Airport was opened to foreign passenger...   \n",
       "\n",
       "                                                       ru  clusters  \n",
       "0       Чосич имел успешную карьеру в Европе, выиграв ...         2  \n",
       "1       Чосич всегда утверждал позднее, что сделал это...         2  \n",
       "2       Чабринович, как и Принцип, умер в тюрьме от ту...         2  \n",
       "3        Чабринович вернулся в дом своего отца в Сараеве.         2  \n",
       "4       Чахтице в 1392 году получило статус города, но...         2  \n",
       "...                                                   ...       ...  \n",
       "338888  Озал поддерживал международный валютный фонд и...         2  \n",
       "338889  Карьера Озары в качестве игрока закончилась ра...         2  \n",
       "338890  Озбилиз от президента Федерации футбола Армени...         2  \n",
       "338891  Эйстейн претендовал на часть отцовского наслед...         2  \n",
       "338892  Аэропорт в Урумчи был открыт для иностранных п...         2  \n",
       "\n",
       "[338893 rows x 3 columns]"
      ]
     },
     "execution_count": 375,
     "metadata": {},
     "output_type": "execute_result"
    }
   ],
   "source": [
    "sub_df"
   ]
  },
  {
   "cell_type": "code",
   "execution_count": 376,
   "metadata": {},
   "outputs": [
    {
     "name": "stdout",
     "output_type": "stream",
     "text": [
      "(338893, 1)\n"
     ]
    }
   ],
   "source": [
    "# make a subset of lemmatized texts for the largest cluster\n",
    "lemma_nonan_df = pd.read_csv(os.path.join(DATA_DIR, 'lemmatized_pos_nonan_en_344436.txt'),\n",
    "                           sep='\\t'\n",
    "                          )\n",
    "sub_lemmas_df = lemma_nonan_df.loc[cat_2_mask, ]\n",
    "sub_lemmas_df.reset_index(drop=True, inplace=True)\n",
    "print(sub_lemmas_df.shape)"
   ]
  },
  {
   "cell_type": "code",
   "execution_count": 408,
   "metadata": {},
   "outputs": [
    {
     "name": "stdout",
     "output_type": "stream",
     "text": [
      "(338893,)\n",
      "Extracting features from the training dataset using TfidfVectorizer\n",
      "done in 48.888025s\n",
      "n_samples: 338893, n_features: 10000\n",
      "\n"
     ]
    }
   ],
   "source": [
    "from sklearn.feature_extraction.text import TfidfVectorizer\n",
    "from sklearn.pipeline import make_pipeline\n",
    "from sklearn import metrics\n",
    "\n",
    "from sklearn.cluster import KMeans\n",
    "\n",
    "import logging\n",
    "\n",
    "from time import time\n",
    "\n",
    "import numpy as np\n",
    "\n",
    "\n",
    "# Display progress logs on stdout\n",
    "logging.basicConfig(level=logging.INFO,\n",
    "                    format='%(asctime)s %(levelname)s %(message)s')\n",
    "\n",
    "\n",
    "NUM_CLUSTERS = 30\n",
    "\n",
    "DATA = sub_lemmas_df['en']\n",
    "\n",
    "print(DATA.shape)\n",
    "\n",
    "# #############################################################################\n",
    "print(\"Extracting features from the training dataset \"\n",
    "      \"using TfidfVectorizer\")\n",
    "t0 = time()\n",
    "\n",
    "vectorizer = TfidfVectorizer(max_df=0.5,  # ignore terms that appear in > (0.x * 100)% of docs\n",
    "                             max_features=10000,\n",
    "                             min_df=2,    # ignore terms that appear in < n docs\n",
    "                             stop_words=stopwords,\n",
    "                             use_idf=False,\n",
    "                             ngram_range=(2, 3)  # use bi-grams and tri-grams\n",
    "                            )\n",
    "\n",
    "X = vectorizer.fit_transform(DATA)\n",
    "\n",
    "print(\"done in %fs\" % (time() - t0))\n",
    "print(\"n_samples: %d, n_features: %d\" % X.shape)\n",
    "print()"
   ]
  },
  {
   "cell_type": "code",
   "execution_count": 409,
   "metadata": {
    "scrolled": false
   },
   "outputs": [
    {
     "data": {
      "text/plain": [
       "0         ćosić successful career europe win numerous le...\n",
       "1            ćosić maintain order understand stalinist mind\n",
       "2                čabrinović princip die tuberculosis prison\n",
       "3                     čabrinović move father house sarajevo\n",
       "4              čachtice receive status town degrade village\n",
       "                                ...                        \n",
       "338888    özal support imf end force resignation directo...\n",
       "338889          özarı career player end desire become coach\n",
       "338890    özbiliz give president football federation arm...\n",
       "338891    øystein claim part father inheritance give tit...\n",
       "338892    ürümqi airport open foreign passenger use emer...\n",
       "Name: en, Length: 338893, dtype: object"
      ]
     },
     "execution_count": 409,
     "metadata": {},
     "output_type": "execute_result"
    }
   ],
   "source": [
    "DATA  #344436, 2)"
   ]
  },
  {
   "cell_type": "code",
   "execution_count": 410,
   "metadata": {
    "scrolled": true
   },
   "outputs": [
    {
     "name": "stdout",
     "output_type": "stream",
     "text": [
      "Clustering sparse data with KMeans(algorithm='auto', copy_x=True, init='k-means++', max_iter=100,\n",
      "       n_clusters=30, n_init=1, n_jobs=None, precompute_distances='auto',\n",
      "       random_state=42, tol=0.0001, verbose=1)\n",
      "Initialization complete\n",
      "Iteration  0, inertia 183766.994\n",
      "Iteration  1, inertia 181611.331\n",
      "Iteration  2, inertia 181184.750\n",
      "Iteration  3, inertia 181159.036\n",
      "Iteration  4, inertia 181158.279\n",
      "Iteration  5, inertia 181158.161\n",
      "Iteration  6, inertia 181158.127\n",
      "Iteration  7, inertia 181158.124\n",
      "Converged at iteration 7: center shift 0.000000e+00 within tolerance 5.491528e-09\n",
      "done in 9.024s\n",
      "\n",
      "Silhouette Coefficient: 0.273\n"
     ]
    }
   ],
   "source": [
    "# #############################################################################\n",
    "# Do the actual clustering\n",
    "km = KMeans(n_clusters=NUM_CLUSTERS,\n",
    "            init='k-means++',\n",
    "            max_iter=100,  # сколько раз двигать центроиды\n",
    "            n_init=1,      # сколько раз кидать разные центроиды\n",
    "            random_state=42,\n",
    "            verbose=1)\n",
    "\n",
    "print(\"Clustering sparse data with %s\" % km)\n",
    "t0 = time()\n",
    "km.fit(X)\n",
    "print(\"done in %0.3fs\" % (time() - t0))\n",
    "print()\n",
    "\n",
    "print(\"Silhouette Coefficient: %0.3f\"\n",
    "      % metrics.silhouette_score(X, km.labels_, sample_size=1000))"
   ]
  },
  {
   "cell_type": "code",
   "execution_count": 411,
   "metadata": {
    "scrolled": false
   },
   "outputs": [
    {
     "name": "stdout",
     "output_type": "stream",
     "text": [
      "Top terms per cluster:\n",
      "Cluster 0: collect signature, free state, communist party, electoral commission, russian federation, article constitution, press conference, decide continue, register voter, united russia, party member, popular initiative, follow series, 1980 1990, friend family, game end, game development, game developer, game develop, game design, game console, fuel injection, game engine, game boy, game begin, game become, friendly relation, game base, game allow, game call, game feature, gain reputation, game first, game world, game use, game time, game thrones, game start, game show, game series,\n",
      "====================\n",
      "Cluster 1: prime minister, first time, 19th century, year old, los angeles, take part, civil war, united nations, united kingdom, next year, large number, many year, last year, north america, become first, air force, following year, european union, vice president, several year, high level, become know, south africa, supreme court, several time, video game, 18th century, long time, san francisco, first year, large scale, middle east, post office, music video, spider man, communist party, 17th century, south korea, fall love, begin work,\n",
      "====================\n",
      "Cluster 2: intellectual property, property right, intellectual property right, trade agreement, law firm, public domain, game base, economic growth, research development, television show, significant improvement, find job, use technology, self contain, legal action, part large, action take, berne convention, computer system, give rise, civil code, european parliament, open door, indigenous people, eu member, author book, member world, human mind, free speech, game developer, american british, copyright work, plan open, recognize right, look new, child family, united kingdom, 19th century, wide range, mobile device,\n",
      "====================\n",
      "Cluster 3: national park, first national, surround area, protect area, declare national, area become, nature reserve, part large, wild animal, order protect, part national, natural resource, national parks, people live, support national, surface area, national laboratory, hectare land, central asian, rocky mountains, olympic games, rural area, hold position, natural history, british columbia, number factor, total area, natural resources, new york, km mi, new capital, main road, ministry agriculture, western part, far north, provide access, remain open, cultural activity, project create, west coast,\n",
      "====================\n",
      "Cluster 4: hong kong, mainland china, administrative region, british administration, chief executive, international airport, high degree, japanese occupation, stock exchange, popular music, take care, british colony, rolls royce, box office, revolutionary army, airport terminal, film industry, several month, city government, united kingdom, police force, cross border, south china, high rise, minimum wage, air transport, east asian, football team, music industry, republic china, people republic, people republic china, square meter, end beginning, short period, use service, build first, consider good, make sense, muslim community,\n",
      "====================\n",
      "Cluster 5: political party, support political, major political, new political, party form, social democratic, democratic party, party system, party agree, contest election, party state, parliamentary election, party win, party member, party support, election hold, party national, win election, establish new, form new, party call, social movement, party represent, national level, party hold, prime ministers, national movement, united russia, left wing, social democratic party, high level, party leader, local election, people party, prime minister, federal level, reform party, original form, party become, member local,\n",
      "====================\n",
      "Cluster 6: united states, emigrate united states, emigrate united, brother sister, wife die, new jersey, northern ireland, death age, end war, begin work, continue perform, academic career, maintain contact, home country, atomic bomb, civil war, new york, number year, develop first, united states america, state department, wife son, states america, ten thousand, receive special, salt lake, salt lake city, family settle, lake city, fund project, full control, game developer, game development, game end, full member, game engine, game feature, game first, full length album, full length,\n",
      "====================\n",
      "Cluster 7: high school, school student, high school student, graduate high, graduate high school, year high school, year high, junior high, junior high school, school college, school graduate, school university, los angeles, school teacher, school girl, new york, year old, first year, school begin, act career, first high, school work, elementary school, become high, family move, first day, several year, hall fame, primary school, new jersey, play football, school age, college student, school education, school child, american football, public school, part time, school become, school year,\n",
      "====================\n",
      "Cluster 8: grand prix, formula one, gold medal, south african, end season, mercedes benz, de france, use song, technical problem, make debut, le mans, san marino, suffer severe, far north, united kingdom, president ukraine, win race, become available, film show, able obtain, south africa, many book, south korea, prize money, take part, time record, world championship, post soviet, write many, use french, able take, year award, win second, north american, record first, year follow, race season, leave team, race hold, start season,\n",
      "====================\n",
      "Cluster 9: local population, occupy territory, french army, government begin, living condition, provide protection, population speak, general strike, make contact, ethnic group, return homeland, strategic location, control area, take account, take prisoner, 14th century, act allow, force begin, following year, foreign tourist, use local, launch campaign, war crime, commerce industry, french government, foreign ministry, governor general, certain area, number small, local authority, dutch government, german occupation, large part, israeli foreign, south african, new guinea, security force, develop use, additional information, pay taxis,\n",
      "====================\n",
      "Cluster 10: new york, york city, new york city, move new, move new york, united states, los angeles, united nations, san francisco, travel new york, travel new, city mayor, city police, work new, police department, base new, return new, return new york, city become, hold new, city new, city new york, arrive new york, arrive new, city year, go new, city london, live new, spider man, act career, time new, radio station, general assembly, attack new, city los, city los angeles, live work, high school, move family, open new,\n",
      "====================\n",
      "Cluster 11: united states, united kingdom, return united, return united states, united states army, states army, president united, president united states, states department, united states department, states government, united states government, united states canada, states canada, move united, move united states, united states europe, states europe, states america, states navy, united states navy, united states america, states congress, united states congress, new york, canada united, canada united states, air force, states military, united states military, country united, supreme court, country united states, europe united, europe united states, tour united, release united, tour united states, work united, release united states,\n",
      "====================\n",
      "Cluster 12: significant amount, amount time, amount money, russian army, death threat, financial service, star formation, solar masse, early 1990, latin america, remain uncertain, study find, result election, release single, western part, south asia, position hold, study show, carbon dioxide, many member, allow user, member government, time think, use create, key west, contain many, use word, future wife, future husband, intelligence agency, fact many, time live, central intelligence, central intelligence agency, character use, western world, time travel, north america, europe north, europe north america,\n",
      "====================\n",
      "Cluster 13: next day, spend next, die wound, day people, day take, become ill, secret service, spend night, day work, counter attack, year old, swear oath, take prisoner, small party, day day, day make, announce twitter, attempt make, british troop, north korean, people die, general strike, prime minister, want play, shoot dead, phone call, man woman, day allow, first second, picture show, attempt suicide, return earth, medical student, woman child, vote confidence, gaddafi force, sri lanka, taxi driver, make sure, modern art,\n",
      "====================\n",
      "Cluster 14: soviet union, former soviet, former soviet union, collapse soviet, collapse soviet union, cold war, communist party, diplomatic relation, union russia, eastern europe, united states, council people, nazi germany, academy sciences, council people commissars, people commissars, people republic, red army, air force, recognize independence, establish diplomatic relation, establish diplomatic, end war, work foreign, declare independence, catholic church, cease exist, russian empire, middle east, year plan, foreign work, soviet republic, become part, early 1990, south korea, large number, trade relation, become large, wage war, occupy territory,\n",
      "====================\n",
      "Cluster 15: order prevent, time time, get trouble, agree pay, search engine, us army, provide opportunity, maintain good, file bankruptcy, cease fire, group call, los angeles, british columbia, imperial army, receive information, work group, international law, security measure, federal government, next year, step take, help develop, game begin, game development, game developer, game boy, game develop, game design, game base, game call, game become, game console, youtube video, game end, game engine, game time, game thrones, game start, game show, game series,\n",
      "====================\n",
      "Cluster 16: 20th century, early 20th century, early 20th, beginning 20th century, beginning 20th, mid 20th century, mid 20th, half 20th, half 20th century, 19th 20th century, 19th 20th, decade 20th, decade 20th century, 20th century fox, century fox, 19th century, late 20th, late 20th century, first half, first half 20th, first decade, first decade 20th, 19th early, 19th early 20th, second half, late 19th, century many, early part, end 19th, century see, century become, century early, century use, large number, united states, latter half, first quarter, several time, contribute development, century number,\n",
      "====================\n",
      "Cluster 17: east germany, west germany, state church, become major, begin study, many former, post war, early 1950, form alliance, red army, east pakistan, call great, building use, many people, begin act, interview say, issue concern, german government, age year, take refuge, full control, game developer, game engine, game end, game development, game design, game develop, game console, game call, game boy, game begin, game feature, game make, game first, game industry, game base, game new, fruit company, game play, game player,\n",
      "====================\n",
      "Cluster 18: family member, royal family, friend family, victim family, member take, point view, member group, member work, south korea, take form, queen victoria, continue live, good health, tell happen, post office, show different, various reason, resolution call, outside world, become involve, heart attack, hall fame, intelligence officer, light year, father son, court ruling, political force, police arrest, direct control, legal framework, find way, noble family, american force, human life, mental illness, give gift, relationship end, member government, horror movie, member country,\n",
      "====================\n",
      "Cluster 19: new york, new york times, york times, new york state, york state, return new york, return new, los angeles, new jersey, new york university, york university, move new, move new york, york times report, times report, stock exchange, long island, live new, arrive new york, arrive new, united nations, accord new york, accord new, times write, state new, new england, san francisco, university new, year new, show new, travel new, travel new york, city new, go new, public library, governor new, city new york, leave new, come new, work new,\n",
      "====================\n",
      "Cluster 20: human right, right violation, human right violation, human rights, right activist, human right activist, right abuse, human right abuse, international human, human right group, right group, right organization, international human right, right freedom, human right organization, protection human, right issue, intersex people, united nations, amnesty international, rule law, non governmental, protect human, council europe, falun gong, united states, european parliament, civil society, civil war, sustainable development, non governmental organization, governmental organization, issue relate, human rights council, rights council, raise awareness, member country, human rights watch, rights watch, constitutional court,\n",
      "====================\n",
      "Cluster 21: door open, open door, enter house, presidential election, old brother, construction first, people able, find several, young boy, physical world, short distance, british government, third floor, second third, special effect, computer generate, become common, people try, try escape, game player, game play, game allow, game base, game become, game begin, game boy, game call, game console, game design, game develop, game developer, game development, game time, game end, game engine, game thrones, game feature, game start, game show, game first,\n",
      "====================\n"
     ]
    },
    {
     "name": "stdout",
     "output_type": "stream",
     "text": [
      "Cluster 22: 16th century, early 16th, second half, 17th century, 19th century, catholic church, 13th century, ottoman empire, middle ages, become know, large part, present day, 15th century, local government, century many, become large, protestant reformation, late middle, become major, colonial administration, roman catholic, new spain, east africa, puerto rican, begin take, carry passenger, century use, sphere influence, time call, become symbol, common use, begin produce, building destroy, commercial use, golden age, great interest, come use, mail service, increase power, story tell,\n",
      "====================\n",
      "Cluster 23: air raid, japanese air, attack japanese, east indies, japanese aircraft, remain place, first meeting, physical mental, area use, family live, infantry division, ministry defense, henderson field, next morning, pacific war, city destroy, first month, prime minister, civilian kill, building city, stop work, general charles, front line, kill civilian, north korean, bad weather, city take, thousand people, force occupy, take life, north western, japanese force, begin construction, six day, six day war, progress make, day war, army air, air forces, new guinea,\n",
      "====================\n",
      "Cluster 24: 15th century, second half, ottoman empire, last decade, become capital, century city, century become, build second, black death, century first, relation establish, first building, become large, main entrance, pope pius, city town, european state, many early, name honor, population growth, alcoholic beverage, water supply, atlantic ocean, spanish language, many work, meet year, long period, begin record, war end, period year, mediterranean sea, family name, replace old, third floor, begin late, philosophy science, use system, historical event, political influence, wide range,\n",
      "====================\n",
      "Cluster 25: war end, civil war, end year, democratic party, australian government, local economy, merchant ship, city call, falkland islands, chechen war, 21st century, magazine report, status quo, serious threat, united states, peace treaty, black sea, sixteenth century, peace negotiation, man woman, return homeland, korean war, modern day, start war, government policy, end world, french soldier, south africa, central america, kosovo war, last decade, concentration camp, distinguished service, middle aged, post office, steal car, use service, japanese war, iraq war, training center,\n",
      "====================\n",
      "Cluster 26: woman child, man woman, man woman child, kill man, kill woman, gas chamber, child father, young woman, save life, next morning, child age, ten thousand, group consist, commission report, american british, last time, author several, great depression, private property, british officer, condemn death, people injure, santa anna, vice president, japanese soldier, south african, force leave, group make, birth rate, old man, give chance, early work, russian troop, open fire, child take, small town, year great, plan attack, receive award, direct film,\n",
      "====================\n",
      "Cluster 27: time time, change time, time make, several time, ice sheet, limited edition, time show, name give, real time, effort make, second time, occur time, make new, difficult time, official language, time last, remain silent, statement make, religious tradition, tv show, come close, marshall islands, new warriors, less time, time travel, time take, play song, peace process, give different, old man, marry time, time order, population growth, time need, read book, tv channel, domestic violence, little girl, south korean, say play,\n",
      "====================\n",
      "Cluster 28: system develop, file system, control system, information system, nervous system, report indicate, eliminate need, north american, football league, new system, operating system, main problem, mirror neuron, country world, user interface, nineteenth century, agricultural land, native american, perform task, gaza strip, classification system, machine translation, geological survey, system use, create new, datum use, primary goal, sex education, new feature, develop new, develop method, school system, open world, develop country, many year, late 1940, game player, game become, game feature, game base,\n",
      "====================\n",
      "Cluster 29: must take, take account, take care, public policy, take photo, world world, make clear, take form, first deputy, find dead, resistance movement, time spend, people die, municipal council, 14th century, immune system, take life, world history, protect area, game allow, allow player, non linear, player must, take control, economic growth, research institute, energy efficiency, take step, game industry, game base, game become, game release, game score, game sell, gain support, game series, game begin, gain reputation, game show, game start,\n",
      "====================\n"
     ]
    }
   ],
   "source": [
    "print(\"Top terms per cluster:\")\n",
    "\n",
    "\n",
    "order_centroids = km.cluster_centers_.argsort()[:, ::-1]  # all rows, in desc order\n",
    "\n",
    "terms = vectorizer.get_feature_names()\n",
    "for i in range(NUM_CLUSTERS):\n",
    "    print(\"Cluster %d:\" % i, end='')\n",
    "    for ind in order_centroids[i, :40]:\n",
    "        print(' %s' % terms[ind], end=',')\n",
    "    print()\n",
    "    print('=' * 20)"
   ]
  },
  {
   "cell_type": "code",
   "execution_count": 414,
   "metadata": {
    "scrolled": false
   },
   "outputs": [
    {
     "data": {
      "text/plain": [
       "1     328991\n",
       "11      3554\n",
       "19      1261\n",
       "16       617\n",
       "14       552\n",
       "10       552\n",
       "7        493\n",
       "13       421\n",
       "20       381\n",
       "4        285\n",
       "5        284\n",
       "22       206\n",
       "3        154\n",
       "18       148\n",
       "26       144\n",
       "2        115\n",
       "24       114\n",
       "25       104\n",
       "8         90\n",
       "27        77\n",
       "9         59\n",
       "12        46\n",
       "23        37\n",
       "28        36\n",
       "29        34\n",
       "15        34\n",
       "17        32\n",
       "6         27\n",
       "21        26\n",
       "0         19\n",
       "Name: labels, dtype: int64"
      ]
     },
     "execution_count": 414,
     "metadata": {},
     "output_type": "execute_result"
    }
   ],
   "source": [
    "# Glue back to original data\n",
    "\n",
    "sub_df.loc[:, 'labels'] = km.labels_\n",
    "sub_df['labels'].value_counts()"
   ]
  },
  {
   "cell_type": "code",
   "execution_count": 427,
   "metadata": {
    "scrolled": false
   },
   "outputs": [
    {
     "name": "stdout",
     "output_type": "stream",
     "text": [
      "\"Especially when a serious violation of human rights occurs, the Internet is essential in reporting the atrocity to the outside world.\"\n",
      "«Особенно, когда происходит серьезное нарушение прав человека, Интернет играет важную роль в обличении злодеяний внешнему миру».\n",
      "\n",
      "(Yes/No) Do you feel the need to safeguard the Union in the renewed human rights and freedoms of any nationality?\n",
      "(Да/Нет) Считаете ли вы необходимым гарантирование в обновлённом Союзе прав и свобод человека любой национальности?\n",
      "\n",
      "A Falun Gong spokesperson clarified that the new scripture simply meant it was time to \"bring truth to light\" about human rights abuses committed by the Chinese government.\n",
      "Представитель Фалунь дафа пояснил, что новое заявление просто означает, что пришло время «вынести на свет правду» о нарушениях прав человека, совершаемых китайским правительством.\n",
      "\n",
      "A later court decision overturned the amnesty for defendants suspected of \"egregious human rights violations\" but attempts by Salvadoran lawyers to reopen the case repeatedly failed.\n",
      "Позднейшее решение суда отменило амнистию для фигурантов дел, подозреваемых в «вопиющих нарушениях прав человека», но неоднократные попытки сальвадорских правозащитников инициировать рассмотрение дела не дали результатов.\n",
      "\n",
      "A letter in late November from the National Equal Rights League appealed to Wilson's international advocacy for human rights: \"We appeal to you to have your country undertake for its racial minority that which you forced Poland and Austria to undertake for their racial minorities.\"\n",
      "В письме в конце ноября Национальная лига равных прав обратилась к президенту Вильсону: «Мы обращаемся к вам с просьбой, чтобы ваша страна предприняла меры для защиты прав своего расового меньшинства, которые с вашей помощью были вынуждены принять Польша и Австрия для их расовых меньшинств».\n",
      "\n",
      "A person who believes that his rights under a provincial or territorial human rights act have been violated may seek redress through a Human Rights Commission.\n",
      "Человек, который считает, что его права, гарантированные провинциальным или территориальным законом, были нарушены, может обратиться с жалобой в Комиссию по правам человека.\n",
      "\n",
      "A special US-trained \"counter terrorist\" police battalion is known as the \"Sinchis\" became notorious in the 1980s for their violations of human rights.\n",
      "Специально натренированный инструкторами из США контр-террористический батальон под названием «Sinchis», был широко известен в 1980-е годы своим нарушением прав человека на территории Перу.\n",
      "\n",
      "According to Delfi, the committee specialises in justifying Stalinism, particularly reinterpreting the Soviet deportations from Estonia as benign and making accusations regarding supposed human rights violations in Estonia.\n",
      "Согласно новостному агентству DELFI, комитет специализируется на оправдании сталинизма, в частности, рассматривая советские депортации в Эстонии как «благотворные» и выдвигая обвинения в «нарушениях прав человека» в Эстонии.\n",
      "\n",
      "According to International Advocates for Justice, Falun Gong has filed the largest number of human rights lawsuits in the 21st century and the charges are among the most severe international crimes defined by international criminal laws.\n",
      "По словам International Advocates for Justice в 21-м веке члены Фалуньгун подали наибольшее количество судебных исков против нарушений прав человека, и эти обвинения являются одними из самых серьёзных по определению международного уголовного права.\n",
      "\n",
      "According to Justice et Libération, a human rights organisation based in Kisangani, the violence resulted in around 1,000 deaths and wounded at least 3,000, the majority of whom were civilians.\n",
      "По данным правозащитной организации Justice et Libération, базирующейся в Кисангани, в результате военных действий погибли 1000 человек и получили ранения около 3000.\n",
      "\n",
      "According to Professor David Cesarani, antisemitism from the left has surpassed right-wing antisemitism; however, he says that he has found it hard to define and contest \"because it no longer has any resemblance to Nazi-style Jew hatred, because it is masked by or blended inadvertently into anti-Zionism, and because it is often articulated in the language of human rights.\"\n",
      "По словам профессора Дэвида Cesarani, антисемитизм слева превзошел правый антисемитизм; однако, по его словам, ему было трудно определить и протестировать «, потому что ненависть к евреям уже не носит нацистского характера, потому что она маскируется или смешивается случайно с Антисионизмом, и потому она часто формулируется на языке прав человека».\n",
      "\n",
      "According to a report of Amnesty International of 12 February 2004 there were 200 court cases against him for his human rights activities.\n",
      "Согласно сообщению Amnesty International от 12 февраля 2004 года, Байдемира более 200 раз привлекали к суду за его правозащитную деятельность.\n",
      "\n",
      "According to human rights investigators, the prisoners were scarcely fed bread and given water to drink.\n",
      "Согласно данным правозащитников, узников редко кормили и держали на хлебе и воде.\n",
      "\n",
      "According to leading Iranian human rights defense lawyer Mohammad Seifzadeh, the head of the Judicial System of Iran is required to be a Mojtahed with significant experience in the field.\n",
      "По словам ведущего правозащитника в Иране Мохаммада Сейфзаде, во главе судебной системы Ирана должен стоять аятолла с огромным опытом в этой области.\n",
      "\n",
      "According to the ESI, the money went to bribing Italian and other politicians who voted against PACE resolutions and reports condemning human rights violations in Azerbaijan.\n",
      "По данным ESI, деньги пошли на подкуп итальянских и других, которые голосовали против резолюций и докладов ПАСЕ, осуждающих нарушения прав человека в Азербайджане.\n",
      "\n",
      "Additionally, human rights had to be respected by both parties.\n",
      "Кроме того, права человека должны соблюдаться обеими сторонами.\n",
      "\n",
      "Adopt patterns of production, consumption and reproduction that safeguard Earth's regenerative capacities, human rights and community well-being.\n",
      "Применять такие модели производства, потребления и воспроизводства, которые сохраняют регенеративные возможности Земли, права человека и благополучие сообществ.\n",
      "\n",
      "After a 13-year campaign AI made the human rights of lesbians and gays part of its mandate in 1991 and now advocates for LGBT rights on the international level.\n",
      "В 1991 году, после 13-летней кампании AI сделала права лесбиянок и геев частью своего мандата и теперь выступает за права ЛГБТ на международном уровне.\n",
      "\n",
      "After re-election in 2012 he continued with the democracy and human rights portfolio and additionally the Sakharov Prize Network and transatlantic relations.\n",
      "После переизбрания в 2012 году он продолжил деятельность по демократии и правам человека, а также дополнительно в номинации Премии Сахарова и трансатлантических отношений.\n",
      "\n",
      "After uncovering a conspiracy against him, Alai resolves to take firmer control of his nation and guarantee the human rights of his subjugated peoples.\n",
      "После раскрытия заговора против него Алай решает усиленно контролировать свой народ и гарантировать права человека своих покоренных народов.\n",
      "\n",
      "Alfred Donath (president of the Jewish Federations) said that the law is \"discriminatory and a violation of human rights and religious freedom\".\n",
      "Альфред Донат (президент Федерации еврейских общин Швейцарии) заявил, что этот закон является «дискриминационным и нарушает права человека и религиозную свободу».\n",
      "\n",
      "All of the parties engaged in the conflict have been criticized for numerous human rights violations.\n",
      "Наконец, все стороны, участвующих в конфликте, подвергаются критике за многочисленные нарушения прав человека.\n",
      "\n",
      "All persons have great worth and should be respected as creations of God with basic human rights.\n",
      "Все люди значимы и должны быть уважаемы как Божьи творения, обладающие основными правами человека.\n",
      "\n",
      "All the major human rights monitors agreed that the status of Armenians, those married to or those who associate with Armenians, and those who are perceived to be sympathetic to Armenians, is extremely grave.\n",
      "Все основные наблюдатели по правам человека согласны с тем, что положение армян, тех, кто находится в браке с армянами, ассоциируется с ними или, как считается, с пониманием относится к армянам, чрезвычайно серьёзно.\n",
      "\n",
      "All they have to do is to declare they are going to apply human rights, give the Tibetans back their freedom and agree to accept the Dalai Lama on their territory.\"\n",
      "Всё, что им нужно сделать, это объявить, что они собираются соблюдать права человека, вернуть тибетцам свободу и согласиться принять Далай-ламу на их территории».\n",
      "\n",
      "Along with the Carlsbad Decrees, the Offenburger Program demanded basic and human rights as well as freedom of the press and a progressive income tax structure.\n",
      "Наряду с отказом от Карлсбадских соглашений, в них были также сформулированы основные права и права человека, как, например, свобода печати и прогрессивный подоходный налог.\n",
      "\n",
      "Alongside Miriam van der Have, he became a co-chair of OII Europe, and later executive director, speaking at events across Europe including the launch of a Council of Europe issue paper on \"Human rights and intersex people\" in Montenegro.\n",
      "Наряду с Мириам ван дер Хав, он стал сопредседателем OII Europe, и позднее исполнительным директором этой организации, выступая на мероприятиях по всей Европе, включая создание документа Совета Европы по вопросам «Прав интерсекс-людей в Черногории».\n",
      "\n",
      "Also there were people who defended the human rights and freedoms of oppressed peoples.\n",
      "Также были люди, защищавшие права человека и свободы угнетенных народов.\n",
      "\n",
      "Although Amnesty International in 2003 found considerable improvement in the human rights situation, attributed to a ceasefire and peace talks between the government and the LTTE, by 2007 they reported an escalation in political killings, child recruitment, abductions, and armed clashes, which created a climate of fear in the north and east of the country.\n",
      "Несмотря на то, Международная амнистия в 2003 году обнаружила значительное улучшение ситуации с правами человека, приписываемых прекращению огня и мирным переговорам между правительством и ТОТИ, в 2007 году они же сообщили об эскалации политических убийств, вербовке детей, похищениях и вооруженных столкновениях, которые создали атмосферу страха на севере и востоке страны.\n",
      "\n",
      "Although Bhutan's Constitution was framed to reflect various basic human rights protected by international conventions, Bhutan itself has neither signed nor ratified many key international treaties addressing human rights, including the International Covenant of Civil and Political Rights (ICCPR) and the International Covenant on Economic, Social and Cultural Rights (ICESCR).\n",
      "Хотя в конституции Бутана декларируются основные права человека, защищённые международными конвенциями, сам Бутан не подписал и не ратифицировал многие ключевые международные договоры по правам человека, в том числе международный пакт о гражданских и политических правах и международный пакт об экономических, социальных и культурных правах.\n",
      "\n",
      "Although a court's ability to recognize human rights not explicitly stated in a constitution is not particularly unusual, the Canadian situation is unique in that this ability extends to procedural issues not related to human rights.\n",
      "Хотя право судов признавать права человека, ясно не выраженные в Конституции, не особенно анормально, канадское положение единственно в своём роде, потому что это право распространяется и на процедурные вопросы, не связанные с правами человека.\n",
      "\n"
     ]
    }
   ],
   "source": [
    "cluster_idx = list(sub_df.loc[sub_df['labels'] == 20, ].index)\n",
    "\n",
    "for idx, value in enumerate(cluster_idx):\n",
    "    if idx > 30:\n",
    "        break\n",
    "    print(sub_df.loc[value, 'en'])\n",
    "    print(sub_df.loc[value, 'ru'])\n",
    "    print()"
   ]
  },
  {
   "cell_type": "code",
   "execution_count": 417,
   "metadata": {},
   "outputs": [],
   "source": [
    "sub_df.to_csv(os.path.join(DATA_DIR, 'subset_labels.tsv'),\n",
    "                    sep='\\t',\n",
    "                    index=False\n",
    "                   )"
   ]
  },
  {
   "cell_type": "markdown",
   "metadata": {},
   "source": [
    "# Финальный датафрайм с несколькими кластерами"
   ]
  },
  {
   "cell_type": "code",
   "execution_count": 418,
   "metadata": {
    "scrolled": false
   },
   "outputs": [
    {
     "name": "stdout",
     "output_type": "stream",
     "text": [
      "(344436, 3)\n"
     ]
    },
    {
     "data": {
      "text/html": [
       "<div>\n",
       "<style scoped>\n",
       "    .dataframe tbody tr th:only-of-type {\n",
       "        vertical-align: middle;\n",
       "    }\n",
       "\n",
       "    .dataframe tbody tr th {\n",
       "        vertical-align: top;\n",
       "    }\n",
       "\n",
       "    .dataframe thead th {\n",
       "        text-align: right;\n",
       "    }\n",
       "</style>\n",
       "<table border=\"1\" class=\"dataframe\">\n",
       "  <thead>\n",
       "    <tr style=\"text-align: right;\">\n",
       "      <th></th>\n",
       "      <th>en</th>\n",
       "      <th>ru</th>\n",
       "      <th>clusters</th>\n",
       "    </tr>\n",
       "  </thead>\n",
       "  <tbody>\n",
       "    <tr>\n",
       "      <th>0</th>\n",
       "      <td>Ćosić had a successful career in Europe, winni...</td>\n",
       "      <td>Чосич имел успешную карьеру в Европе, выиграв ...</td>\n",
       "      <td>2</td>\n",
       "    </tr>\n",
       "    <tr>\n",
       "      <th>1</th>\n",
       "      <td>Ćosić maintained that he did so in order to be...</td>\n",
       "      <td>Чосич всегда утверждал позднее, что сделал это...</td>\n",
       "      <td>2</td>\n",
       "    </tr>\n",
       "    <tr>\n",
       "      <th>2</th>\n",
       "      <td>Čabrinović and Princip died of tuberculosis in...</td>\n",
       "      <td>Чабринович, как и Принцип, умер в тюрьме от ту...</td>\n",
       "      <td>2</td>\n",
       "    </tr>\n",
       "    <tr>\n",
       "      <th>3</th>\n",
       "      <td>Čabrinović moved back into his father's house ...</td>\n",
       "      <td>Чабринович вернулся в дом своего отца в Сараеве.</td>\n",
       "      <td>2</td>\n",
       "    </tr>\n",
       "    <tr>\n",
       "      <th>4</th>\n",
       "      <td>Čachtice has received the status of a town in ...</td>\n",
       "      <td>Чахтице в 1392 году получило статус города, но...</td>\n",
       "      <td>2</td>\n",
       "    </tr>\n",
       "    <tr>\n",
       "      <th>...</th>\n",
       "      <td>...</td>\n",
       "      <td>...</td>\n",
       "      <td>...</td>\n",
       "    </tr>\n",
       "    <tr>\n",
       "      <th>344431</th>\n",
       "      <td>Özal supported the IMF, and to this end he for...</td>\n",
       "      <td>Озал поддерживал международный валютный фонд и...</td>\n",
       "      <td>2</td>\n",
       "    </tr>\n",
       "    <tr>\n",
       "      <th>344432</th>\n",
       "      <td>Özarı's career as a player ended early due to ...</td>\n",
       "      <td>Карьера Озары в качестве игрока закончилась ра...</td>\n",
       "      <td>2</td>\n",
       "    </tr>\n",
       "    <tr>\n",
       "      <th>344433</th>\n",
       "      <td>Özbiliz was given from the President of the Fo...</td>\n",
       "      <td>Озбилиз от президента Федерации футбола Армени...</td>\n",
       "      <td>2</td>\n",
       "    </tr>\n",
       "    <tr>\n",
       "      <th>344434</th>\n",
       "      <td>Øystein claimed part of his father's inheritan...</td>\n",
       "      <td>Эйстейн претендовал на часть отцовского наслед...</td>\n",
       "      <td>2</td>\n",
       "    </tr>\n",
       "    <tr>\n",
       "      <th>344435</th>\n",
       "      <td>Ürümqi Airport was opened to foreign passenger...</td>\n",
       "      <td>Аэропорт в Урумчи был открыт для иностранных п...</td>\n",
       "      <td>2</td>\n",
       "    </tr>\n",
       "  </tbody>\n",
       "</table>\n",
       "<p>344436 rows × 3 columns</p>\n",
       "</div>"
      ],
      "text/plain": [
       "                                                       en  \\\n",
       "0       Ćosić had a successful career in Europe, winni...   \n",
       "1       Ćosić maintained that he did so in order to be...   \n",
       "2       Čabrinović and Princip died of tuberculosis in...   \n",
       "3       Čabrinović moved back into his father's house ...   \n",
       "4       Čachtice has received the status of a town in ...   \n",
       "...                                                   ...   \n",
       "344431  Özal supported the IMF, and to this end he for...   \n",
       "344432  Özarı's career as a player ended early due to ...   \n",
       "344433  Özbiliz was given from the President of the Fo...   \n",
       "344434  Øystein claimed part of his father's inheritan...   \n",
       "344435  Ürümqi Airport was opened to foreign passenger...   \n",
       "\n",
       "                                                       ru  clusters  \n",
       "0       Чосич имел успешную карьеру в Европе, выиграв ...         2  \n",
       "1       Чосич всегда утверждал позднее, что сделал это...         2  \n",
       "2       Чабринович, как и Принцип, умер в тюрьме от ту...         2  \n",
       "3        Чабринович вернулся в дом своего отца в Сараеве.         2  \n",
       "4       Чахтице в 1392 году получило статус города, но...         2  \n",
       "...                                                   ...       ...  \n",
       "344431  Озал поддерживал международный валютный фонд и...         2  \n",
       "344432  Карьера Озары в качестве игрока закончилась ра...         2  \n",
       "344433  Озбилиз от президента Федерации футбола Армени...         2  \n",
       "344434  Эйстейн претендовал на часть отцовского наслед...         2  \n",
       "344435  Аэропорт в Урумчи был открыт для иностранных п...         2  \n",
       "\n",
       "[344436 rows x 3 columns]"
      ]
     },
     "execution_count": 418,
     "metadata": {},
     "output_type": "execute_result"
    }
   ],
   "source": [
    "# Load clustered data\n",
    "temp_df_with_labels = pd.read_csv(os.path.join(DATA_DIR, 'bitext_clusters_344436.tsv'),\n",
    "                           sep='\\t'\n",
    "                          )\n",
    "\n",
    "print(temp_df_with_labels.shape)\n",
    "temp_df_with_labels"
   ]
  },
  {
   "cell_type": "code",
   "execution_count": 431,
   "metadata": {},
   "outputs": [],
   "source": [
    "clusters_of_interest_1 = [1, 4, 9, 11, 16, 14, 17, 15]\n",
    "cluster_to_topic_map_1 = {\n",
    "    1: 'Russia, Saint-Petersburg',\n",
    "    4: 'USSR',\n",
    "    9: 'Copyright', \n",
    "    11: 'Arab world', \n",
    "    16: 'World Wars', \n",
    "    14: 'Medical',\n",
    "    17: 'Human genome', \n",
    "    15: 'Vatican'\n",
    "}"
   ]
  },
  {
   "cell_type": "code",
   "execution_count": 437,
   "metadata": {},
   "outputs": [
    {
     "name": "stdout",
     "output_type": "stream",
     "text": [
      "(2313, 3)\n"
     ]
    },
    {
     "name": "stderr",
     "output_type": "stream",
     "text": [
      "/Users/alexskrn/opt/anaconda3/lib/python3.7/site-packages/pandas/core/indexing.py:965: SettingWithCopyWarning: \n",
      "A value is trying to be set on a copy of a slice from a DataFrame.\n",
      "Try using .loc[row_indexer,col_indexer] = value instead\n",
      "\n",
      "See the caveats in the documentation: https://pandas.pydata.org/pandas-docs/stable/user_guide/indexing.html#returning-a-view-versus-a-copy\n",
      "  self.obj[item] = s\n",
      "/Users/alexskrn/opt/anaconda3/lib/python3.7/site-packages/pandas/core/indexing.py:670: SettingWithCopyWarning: \n",
      "A value is trying to be set on a copy of a slice from a DataFrame\n",
      "\n",
      "See the caveats in the documentation: https://pandas.pydata.org/pandas-docs/stable/user_guide/indexing.html#returning-a-view-versus-a-copy\n",
      "  self._setitem_with_indexer(indexer, value)\n",
      "/Users/alexskrn/opt/anaconda3/lib/python3.7/site-packages/ipykernel_launcher.py:7: SettingWithCopyWarning: \n",
      "A value is trying to be set on a copy of a slice from a DataFrame\n",
      "\n",
      "See the caveats in the documentation: https://pandas.pydata.org/pandas-docs/stable/user_guide/indexing.html#returning-a-view-versus-a-copy\n",
      "  import sys\n"
     ]
    },
    {
     "data": {
      "text/html": [
       "<div>\n",
       "<style scoped>\n",
       "    .dataframe tbody tr th:only-of-type {\n",
       "        vertical-align: middle;\n",
       "    }\n",
       "\n",
       "    .dataframe tbody tr th {\n",
       "        vertical-align: top;\n",
       "    }\n",
       "\n",
       "    .dataframe thead th {\n",
       "        text-align: right;\n",
       "    }\n",
       "</style>\n",
       "<table border=\"1\" class=\"dataframe\">\n",
       "  <thead>\n",
       "    <tr style=\"text-align: right;\">\n",
       "      <th></th>\n",
       "      <th>en</th>\n",
       "      <th>ru</th>\n",
       "      <th>clusters</th>\n",
       "    </tr>\n",
       "  </thead>\n",
       "  <tbody>\n",
       "    <tr>\n",
       "      <th>0</th>\n",
       "      <td>\"Brazil and World War II: The Forgotten Ally.</td>\n",
       "      <td>Бразилия и Вторая мировая война: забытый союзн...</td>\n",
       "      <td>World Wars</td>\n",
       "    </tr>\n",
       "    <tr>\n",
       "      <th>1</th>\n",
       "      <td>\"There are strong concerns about Pope Pius XII...</td>\n",
       "      <td>«Существуют серьезные опасения по поводу полит...</td>\n",
       "      <td>World Wars</td>\n",
       "    </tr>\n",
       "    <tr>\n",
       "      <th>2</th>\n",
       "      <td>\"Women in Saudi Arabia are caught in a system ...</td>\n",
       "      <td>«Женщины в Саудовской Аравии попадают в систем...</td>\n",
       "      <td>Arab world</td>\n",
       "    </tr>\n",
       "    <tr>\n",
       "      <th>3</th>\n",
       "      <td>(2004, March 9) The main bodies providing prot...</td>\n",
       "      <td>Основными органами, обеспечивающими защиту авт...</td>\n",
       "      <td>Copyright</td>\n",
       "    </tr>\n",
       "    <tr>\n",
       "      <th>4</th>\n",
       "      <td>(That is a parody of the low-quality Indian-ma...</td>\n",
       "      <td>(Это пародия на низкокачественные индийские си...</td>\n",
       "      <td>World Wars</td>\n",
       "    </tr>\n",
       "    <tr>\n",
       "      <th>...</th>\n",
       "      <td>...</td>\n",
       "      <td>...</td>\n",
       "      <td>...</td>\n",
       "    </tr>\n",
       "    <tr>\n",
       "      <th>2308</th>\n",
       "      <td>Writers such as General Farndale occasionally ...</td>\n",
       "      <td>Полезно заметить, что такие авторы, как генера...</td>\n",
       "      <td>World Wars</td>\n",
       "    </tr>\n",
       "    <tr>\n",
       "      <th>2309</th>\n",
       "      <td>Yamaguchi's grandparents were sent to an inter...</td>\n",
       "      <td>Дедушка и бабушка Ямагучи во время Второй миро...</td>\n",
       "      <td>World Wars</td>\n",
       "    </tr>\n",
       "    <tr>\n",
       "      <th>2310</th>\n",
       "      <td>Yet St. Petersburg Main Office of Public Build...</td>\n",
       "      <td>Но Санкт-Петербургское главное управление публ...</td>\n",
       "      <td>Russia, Saint-Petersburg</td>\n",
       "    </tr>\n",
       "    <tr>\n",
       "      <th>2311</th>\n",
       "      <td>You can meet Vikings, musketeers as well as so...</td>\n",
       "      <td>На их фестивалях можно встретить и викингов, и...</td>\n",
       "      <td>World Wars</td>\n",
       "    </tr>\n",
       "    <tr>\n",
       "      <th>2312</th>\n",
       "      <td>Zaritsky, in an interview, talked about his be...</td>\n",
       "      <td>Зарицкий рассказывал в одном из интервью, что ...</td>\n",
       "      <td>World Wars</td>\n",
       "    </tr>\n",
       "  </tbody>\n",
       "</table>\n",
       "<p>2313 rows × 3 columns</p>\n",
       "</div>"
      ],
      "text/plain": [
       "                                                     en  \\\n",
       "0         \"Brazil and World War II: The Forgotten Ally.   \n",
       "1     \"There are strong concerns about Pope Pius XII...   \n",
       "2     \"Women in Saudi Arabia are caught in a system ...   \n",
       "3     (2004, March 9) The main bodies providing prot...   \n",
       "4     (That is a parody of the low-quality Indian-ma...   \n",
       "...                                                 ...   \n",
       "2308  Writers such as General Farndale occasionally ...   \n",
       "2309  Yamaguchi's grandparents were sent to an inter...   \n",
       "2310  Yet St. Petersburg Main Office of Public Build...   \n",
       "2311  You can meet Vikings, musketeers as well as so...   \n",
       "2312  Zaritsky, in an interview, talked about his be...   \n",
       "\n",
       "                                                     ru  \\\n",
       "0     Бразилия и Вторая мировая война: забытый союзн...   \n",
       "1     «Существуют серьезные опасения по поводу полит...   \n",
       "2     «Женщины в Саудовской Аравии попадают в систем...   \n",
       "3     Основными органами, обеспечивающими защиту авт...   \n",
       "4     (Это пародия на низкокачественные индийские си...   \n",
       "...                                                 ...   \n",
       "2308  Полезно заметить, что такие авторы, как генера...   \n",
       "2309  Дедушка и бабушка Ямагучи во время Второй миро...   \n",
       "2310  Но Санкт-Петербургское главное управление публ...   \n",
       "2311  На их фестивалях можно встретить и викингов, и...   \n",
       "2312  Зарицкий рассказывал в одном из интервью, что ...   \n",
       "\n",
       "                      clusters  \n",
       "0                   World Wars  \n",
       "1                   World Wars  \n",
       "2                   Arab world  \n",
       "3                    Copyright  \n",
       "4                   World Wars  \n",
       "...                        ...  \n",
       "2308                World Wars  \n",
       "2309                World Wars  \n",
       "2310  Russia, Saint-Petersburg  \n",
       "2311                World Wars  \n",
       "2312                World Wars  \n",
       "\n",
       "[2313 rows x 3 columns]"
      ]
     },
     "execution_count": 437,
     "metadata": {},
     "output_type": "execute_result"
    }
   ],
   "source": [
    "temp_db_1 = pd.DataFrame\n",
    "temp_db_1 = temp_df_with_labels.loc[temp_df_with_labels['clusters'].isin(clusters_of_interest_1)]\n",
    "temp_db_1.reset_index(drop=True, inplace=True)\n",
    "\n",
    "# re-name clusters\n",
    "for key, value in cluster_to_topic_map_1.items():\n",
    "    temp_db_1.loc[temp_db_1['clusters'] == key, 'clusters'] = value\n",
    "\n",
    "print(temp_db_1.shape)\n",
    "temp_db_1"
   ]
  },
  {
   "cell_type": "code",
   "execution_count": null,
   "metadata": {},
   "outputs": [],
   "source": []
  },
  {
   "cell_type": "code",
   "execution_count": 429,
   "metadata": {},
   "outputs": [
    {
     "name": "stdout",
     "output_type": "stream",
     "text": [
      "(338893, 3)\n"
     ]
    },
    {
     "data": {
      "text/html": [
       "<div>\n",
       "<style scoped>\n",
       "    .dataframe tbody tr th:only-of-type {\n",
       "        vertical-align: middle;\n",
       "    }\n",
       "\n",
       "    .dataframe tbody tr th {\n",
       "        vertical-align: top;\n",
       "    }\n",
       "\n",
       "    .dataframe thead th {\n",
       "        text-align: right;\n",
       "    }\n",
       "</style>\n",
       "<table border=\"1\" class=\"dataframe\">\n",
       "  <thead>\n",
       "    <tr style=\"text-align: right;\">\n",
       "      <th></th>\n",
       "      <th>en</th>\n",
       "      <th>ru</th>\n",
       "      <th>clusters</th>\n",
       "    </tr>\n",
       "  </thead>\n",
       "  <tbody>\n",
       "    <tr>\n",
       "      <th>0</th>\n",
       "      <td>Ćosić had a successful career in Europe, winni...</td>\n",
       "      <td>Чосич имел успешную карьеру в Европе, выиграв ...</td>\n",
       "      <td>1</td>\n",
       "    </tr>\n",
       "    <tr>\n",
       "      <th>1</th>\n",
       "      <td>Ćosić maintained that he did so in order to be...</td>\n",
       "      <td>Чосич всегда утверждал позднее, что сделал это...</td>\n",
       "      <td>1</td>\n",
       "    </tr>\n",
       "    <tr>\n",
       "      <th>2</th>\n",
       "      <td>Čabrinović and Princip died of tuberculosis in...</td>\n",
       "      <td>Чабринович, как и Принцип, умер в тюрьме от ту...</td>\n",
       "      <td>1</td>\n",
       "    </tr>\n",
       "    <tr>\n",
       "      <th>3</th>\n",
       "      <td>Čabrinović moved back into his father's house ...</td>\n",
       "      <td>Чабринович вернулся в дом своего отца в Сараеве.</td>\n",
       "      <td>1</td>\n",
       "    </tr>\n",
       "    <tr>\n",
       "      <th>4</th>\n",
       "      <td>Čachtice has received the status of a town in ...</td>\n",
       "      <td>Чахтице в 1392 году получило статус города, но...</td>\n",
       "      <td>1</td>\n",
       "    </tr>\n",
       "    <tr>\n",
       "      <th>...</th>\n",
       "      <td>...</td>\n",
       "      <td>...</td>\n",
       "      <td>...</td>\n",
       "    </tr>\n",
       "    <tr>\n",
       "      <th>338888</th>\n",
       "      <td>Özal supported the IMF, and to this end he for...</td>\n",
       "      <td>Озал поддерживал международный валютный фонд и...</td>\n",
       "      <td>1</td>\n",
       "    </tr>\n",
       "    <tr>\n",
       "      <th>338889</th>\n",
       "      <td>Özarı's career as a player ended early due to ...</td>\n",
       "      <td>Карьера Озары в качестве игрока закончилась ра...</td>\n",
       "      <td>1</td>\n",
       "    </tr>\n",
       "    <tr>\n",
       "      <th>338890</th>\n",
       "      <td>Özbiliz was given from the President of the Fo...</td>\n",
       "      <td>Озбилиз от президента Федерации футбола Армени...</td>\n",
       "      <td>1</td>\n",
       "    </tr>\n",
       "    <tr>\n",
       "      <th>338891</th>\n",
       "      <td>Øystein claimed part of his father's inheritan...</td>\n",
       "      <td>Эйстейн претендовал на часть отцовского наслед...</td>\n",
       "      <td>1</td>\n",
       "    </tr>\n",
       "    <tr>\n",
       "      <th>338892</th>\n",
       "      <td>Ürümqi Airport was opened to foreign passenger...</td>\n",
       "      <td>Аэропорт в Урумчи был открыт для иностранных п...</td>\n",
       "      <td>1</td>\n",
       "    </tr>\n",
       "  </tbody>\n",
       "</table>\n",
       "<p>338893 rows × 3 columns</p>\n",
       "</div>"
      ],
      "text/plain": [
       "                                                       en  \\\n",
       "0       Ćosić had a successful career in Europe, winni...   \n",
       "1       Ćosić maintained that he did so in order to be...   \n",
       "2       Čabrinović and Princip died of tuberculosis in...   \n",
       "3       Čabrinović moved back into his father's house ...   \n",
       "4       Čachtice has received the status of a town in ...   \n",
       "...                                                   ...   \n",
       "338888  Özal supported the IMF, and to this end he for...   \n",
       "338889  Özarı's career as a player ended early due to ...   \n",
       "338890  Özbiliz was given from the President of the Fo...   \n",
       "338891  Øystein claimed part of his father's inheritan...   \n",
       "338892  Ürümqi Airport was opened to foreign passenger...   \n",
       "\n",
       "                                                       ru  clusters  \n",
       "0       Чосич имел успешную карьеру в Европе, выиграв ...         1  \n",
       "1       Чосич всегда утверждал позднее, что сделал это...         1  \n",
       "2       Чабринович, как и Принцип, умер в тюрьме от ту...         1  \n",
       "3        Чабринович вернулся в дом своего отца в Сараеве.         1  \n",
       "4       Чахтице в 1392 году получило статус города, но...         1  \n",
       "...                                                   ...       ...  \n",
       "338888  Озал поддерживал международный валютный фонд и...         1  \n",
       "338889  Карьера Озары в качестве игрока закончилась ра...         1  \n",
       "338890  Озбилиз от президента Федерации футбола Армени...         1  \n",
       "338891  Эйстейн претендовал на часть отцовского наслед...         1  \n",
       "338892  Аэропорт в Урумчи был открыт для иностранных п...         1  \n",
       "\n",
       "[338893 rows x 3 columns]"
      ]
     },
     "execution_count": 429,
     "metadata": {},
     "output_type": "execute_result"
    }
   ],
   "source": [
    "sub_df = pd.read_csv(os.path.join(DATA_DIR, 'subset_labels.tsv'),\n",
    "                           sep='\\t'\n",
    "                          )\n",
    "sub_df.drop(columns=['clusters'], inplace=True)\n",
    "sub_df.rename(columns={'labels': 'clusters'}, inplace=True)\n",
    "\n",
    "print(sub_df.shape)\n",
    "sub_df"
   ]
  },
  {
   "cell_type": "code",
   "execution_count": 439,
   "metadata": {},
   "outputs": [],
   "source": [
    "clusters_of_interest_2 = [2, 5, 14, 20]\n",
    "cluster_to_topic_map_2 = {\n",
    "    2: 'IP',\n",
    "    5: 'Politics',\n",
    "    14: 'USSR',\n",
    "    20: 'Human rights'\n",
    "}"
   ]
  },
  {
   "cell_type": "code",
   "execution_count": 440,
   "metadata": {},
   "outputs": [
    {
     "name": "stdout",
     "output_type": "stream",
     "text": [
      "(1332, 3)\n"
     ]
    },
    {
     "name": "stderr",
     "output_type": "stream",
     "text": [
      "/Users/alexskrn/opt/anaconda3/lib/python3.7/site-packages/pandas/core/indexing.py:965: SettingWithCopyWarning: \n",
      "A value is trying to be set on a copy of a slice from a DataFrame.\n",
      "Try using .loc[row_indexer,col_indexer] = value instead\n",
      "\n",
      "See the caveats in the documentation: https://pandas.pydata.org/pandas-docs/stable/user_guide/indexing.html#returning-a-view-versus-a-copy\n",
      "  self.obj[item] = s\n",
      "/Users/alexskrn/opt/anaconda3/lib/python3.7/site-packages/pandas/core/indexing.py:670: SettingWithCopyWarning: \n",
      "A value is trying to be set on a copy of a slice from a DataFrame\n",
      "\n",
      "See the caveats in the documentation: https://pandas.pydata.org/pandas-docs/stable/user_guide/indexing.html#returning-a-view-versus-a-copy\n",
      "  self._setitem_with_indexer(indexer, value)\n",
      "/Users/alexskrn/opt/anaconda3/lib/python3.7/site-packages/ipykernel_launcher.py:7: SettingWithCopyWarning: \n",
      "A value is trying to be set on a copy of a slice from a DataFrame\n",
      "\n",
      "See the caveats in the documentation: https://pandas.pydata.org/pandas-docs/stable/user_guide/indexing.html#returning-a-view-versus-a-copy\n",
      "  import sys\n"
     ]
    },
    {
     "data": {
      "text/html": [
       "<div>\n",
       "<style scoped>\n",
       "    .dataframe tbody tr th:only-of-type {\n",
       "        vertical-align: middle;\n",
       "    }\n",
       "\n",
       "    .dataframe tbody tr th {\n",
       "        vertical-align: top;\n",
       "    }\n",
       "\n",
       "    .dataframe thead th {\n",
       "        text-align: right;\n",
       "    }\n",
       "</style>\n",
       "<table border=\"1\" class=\"dataframe\">\n",
       "  <thead>\n",
       "    <tr style=\"text-align: right;\">\n",
       "      <th></th>\n",
       "      <th>en</th>\n",
       "      <th>ru</th>\n",
       "      <th>clusters</th>\n",
       "    </tr>\n",
       "  </thead>\n",
       "  <tbody>\n",
       "    <tr>\n",
       "      <th>0</th>\n",
       "      <td>\"Did You Say \"Intellectual Property\"?</td>\n",
       "      <td>RMS Говорите, «интеллектуальная собственность»?</td>\n",
       "      <td>IP</td>\n",
       "    </tr>\n",
       "    <tr>\n",
       "      <th>1</th>\n",
       "      <td>\"Especially when a serious violation of human ...</td>\n",
       "      <td>«Особенно, когда происходит серьезное нарушени...</td>\n",
       "      <td>Human rights</td>\n",
       "    </tr>\n",
       "    <tr>\n",
       "      <th>2</th>\n",
       "      <td>\"FRAND\" intellectual property licensing OMA me...</td>\n",
       "      <td>Лицензирования прав интеллектуальной собственн...</td>\n",
       "      <td>IP</td>\n",
       "    </tr>\n",
       "    <tr>\n",
       "      <th>3</th>\n",
       "      <td>(Yes/No) Do you feel the need to safeguard the...</td>\n",
       "      <td>(Да/Нет) Считаете ли вы необходимым гарантиров...</td>\n",
       "      <td>Human rights</td>\n",
       "    </tr>\n",
       "    <tr>\n",
       "      <th>4</th>\n",
       "      <td>2008 he was awarded the gold medal of the Worl...</td>\n",
       "      <td>В 2008 году награжден золотой медалью Всемирно...</td>\n",
       "      <td>IP</td>\n",
       "    </tr>\n",
       "    <tr>\n",
       "      <th>...</th>\n",
       "      <td>...</td>\n",
       "      <td>...</td>\n",
       "      <td>...</td>\n",
       "    </tr>\n",
       "    <tr>\n",
       "      <th>1327</th>\n",
       "      <td>Works of Soviet authors were copyrighted in al...</td>\n",
       "      <td>Работы советских авторов были защищены авторск...</td>\n",
       "      <td>USSR</td>\n",
       "    </tr>\n",
       "    <tr>\n",
       "      <th>1328</th>\n",
       "      <td>Worldwide Pants Inc., who own the intellectual...</td>\n",
       "      <td>Компания Worldwide Pants Inc., владеющая интел...</td>\n",
       "      <td>IP</td>\n",
       "    </tr>\n",
       "    <tr>\n",
       "      <th>1329</th>\n",
       "      <td>Worried by the persecution of Christians in th...</td>\n",
       "      <td>Обеспокоенный гонениями на христиан в Советско...</td>\n",
       "      <td>USSR</td>\n",
       "    </tr>\n",
       "    <tr>\n",
       "      <th>1330</th>\n",
       "      <td>Yet during 1941 Britain had sent 676 aircraft ...</td>\n",
       "      <td>Тем не менее, в течение 1941 года Великобритан...</td>\n",
       "      <td>USSR</td>\n",
       "    </tr>\n",
       "    <tr>\n",
       "      <th>1331</th>\n",
       "      <td>Yet in 1924 Mikhail Frunze expresses gratitude...</td>\n",
       "      <td>Всё же в 1924 году Фрунзе М. В. объявляет ему ...</td>\n",
       "      <td>USSR</td>\n",
       "    </tr>\n",
       "  </tbody>\n",
       "</table>\n",
       "<p>1332 rows × 3 columns</p>\n",
       "</div>"
      ],
      "text/plain": [
       "                                                     en  \\\n",
       "0                 \"Did You Say \"Intellectual Property\"?   \n",
       "1     \"Especially when a serious violation of human ...   \n",
       "2     \"FRAND\" intellectual property licensing OMA me...   \n",
       "3     (Yes/No) Do you feel the need to safeguard the...   \n",
       "4     2008 he was awarded the gold medal of the Worl...   \n",
       "...                                                 ...   \n",
       "1327  Works of Soviet authors were copyrighted in al...   \n",
       "1328  Worldwide Pants Inc., who own the intellectual...   \n",
       "1329  Worried by the persecution of Christians in th...   \n",
       "1330  Yet during 1941 Britain had sent 676 aircraft ...   \n",
       "1331  Yet in 1924 Mikhail Frunze expresses gratitude...   \n",
       "\n",
       "                                                     ru      clusters  \n",
       "0       RMS Говорите, «интеллектуальная собственность»?            IP  \n",
       "1     «Особенно, когда происходит серьезное нарушени...  Human rights  \n",
       "2     Лицензирования прав интеллектуальной собственн...            IP  \n",
       "3     (Да/Нет) Считаете ли вы необходимым гарантиров...  Human rights  \n",
       "4     В 2008 году награжден золотой медалью Всемирно...            IP  \n",
       "...                                                 ...           ...  \n",
       "1327  Работы советских авторов были защищены авторск...          USSR  \n",
       "1328  Компания Worldwide Pants Inc., владеющая интел...            IP  \n",
       "1329  Обеспокоенный гонениями на христиан в Советско...          USSR  \n",
       "1330  Тем не менее, в течение 1941 года Великобритан...          USSR  \n",
       "1331  Всё же в 1924 году Фрунзе М. В. объявляет ему ...          USSR  \n",
       "\n",
       "[1332 rows x 3 columns]"
      ]
     },
     "execution_count": 440,
     "metadata": {},
     "output_type": "execute_result"
    }
   ],
   "source": [
    "temp_db_2 = pd.DataFrame\n",
    "temp_db_2 = sub_df.loc[sub_df['clusters'].isin(clusters_of_interest_2)]\n",
    "temp_db_2.reset_index(drop=True, inplace=True)\n",
    "\n",
    "# re-name clusters\n",
    "for key, value in cluster_to_topic_map_2.items():\n",
    "    temp_db_2.loc[temp_db_2['clusters'] == key, 'clusters'] = value\n",
    "\n",
    "print(temp_db_2.shape)\n",
    "temp_db_2"
   ]
  },
  {
   "cell_type": "code",
   "execution_count": 441,
   "metadata": {},
   "outputs": [
    {
     "data": {
      "text/html": [
       "<div>\n",
       "<style scoped>\n",
       "    .dataframe tbody tr th:only-of-type {\n",
       "        vertical-align: middle;\n",
       "    }\n",
       "\n",
       "    .dataframe tbody tr th {\n",
       "        vertical-align: top;\n",
       "    }\n",
       "\n",
       "    .dataframe thead th {\n",
       "        text-align: right;\n",
       "    }\n",
       "</style>\n",
       "<table border=\"1\" class=\"dataframe\">\n",
       "  <thead>\n",
       "    <tr style=\"text-align: right;\">\n",
       "      <th></th>\n",
       "      <th>en</th>\n",
       "      <th>ru</th>\n",
       "      <th>clusters</th>\n",
       "    </tr>\n",
       "  </thead>\n",
       "  <tbody>\n",
       "    <tr>\n",
       "      <th>0</th>\n",
       "      <td>\"Brazil and World War II: The Forgotten Ally.</td>\n",
       "      <td>Бразилия и Вторая мировая война: забытый союзн...</td>\n",
       "      <td>World Wars</td>\n",
       "    </tr>\n",
       "    <tr>\n",
       "      <th>1</th>\n",
       "      <td>\"There are strong concerns about Pope Pius XII...</td>\n",
       "      <td>«Существуют серьезные опасения по поводу полит...</td>\n",
       "      <td>World Wars</td>\n",
       "    </tr>\n",
       "    <tr>\n",
       "      <th>2</th>\n",
       "      <td>\"Women in Saudi Arabia are caught in a system ...</td>\n",
       "      <td>«Женщины в Саудовской Аравии попадают в систем...</td>\n",
       "      <td>Arab world</td>\n",
       "    </tr>\n",
       "    <tr>\n",
       "      <th>3</th>\n",
       "      <td>(2004, March 9) The main bodies providing prot...</td>\n",
       "      <td>Основными органами, обеспечивающими защиту авт...</td>\n",
       "      <td>Copyright</td>\n",
       "    </tr>\n",
       "    <tr>\n",
       "      <th>4</th>\n",
       "      <td>(That is a parody of the low-quality Indian-ma...</td>\n",
       "      <td>(Это пародия на низкокачественные индийские си...</td>\n",
       "      <td>World Wars</td>\n",
       "    </tr>\n",
       "    <tr>\n",
       "      <th>...</th>\n",
       "      <td>...</td>\n",
       "      <td>...</td>\n",
       "      <td>...</td>\n",
       "    </tr>\n",
       "    <tr>\n",
       "      <th>1327</th>\n",
       "      <td>Works of Soviet authors were copyrighted in al...</td>\n",
       "      <td>Работы советских авторов были защищены авторск...</td>\n",
       "      <td>USSR</td>\n",
       "    </tr>\n",
       "    <tr>\n",
       "      <th>1328</th>\n",
       "      <td>Worldwide Pants Inc., who own the intellectual...</td>\n",
       "      <td>Компания Worldwide Pants Inc., владеющая интел...</td>\n",
       "      <td>IP</td>\n",
       "    </tr>\n",
       "    <tr>\n",
       "      <th>1329</th>\n",
       "      <td>Worried by the persecution of Christians in th...</td>\n",
       "      <td>Обеспокоенный гонениями на христиан в Советско...</td>\n",
       "      <td>USSR</td>\n",
       "    </tr>\n",
       "    <tr>\n",
       "      <th>1330</th>\n",
       "      <td>Yet during 1941 Britain had sent 676 aircraft ...</td>\n",
       "      <td>Тем не менее, в течение 1941 года Великобритан...</td>\n",
       "      <td>USSR</td>\n",
       "    </tr>\n",
       "    <tr>\n",
       "      <th>1331</th>\n",
       "      <td>Yet in 1924 Mikhail Frunze expresses gratitude...</td>\n",
       "      <td>Всё же в 1924 году Фрунзе М. В. объявляет ему ...</td>\n",
       "      <td>USSR</td>\n",
       "    </tr>\n",
       "  </tbody>\n",
       "</table>\n",
       "<p>3645 rows × 3 columns</p>\n",
       "</div>"
      ],
      "text/plain": [
       "                                                     en  \\\n",
       "0         \"Brazil and World War II: The Forgotten Ally.   \n",
       "1     \"There are strong concerns about Pope Pius XII...   \n",
       "2     \"Women in Saudi Arabia are caught in a system ...   \n",
       "3     (2004, March 9) The main bodies providing prot...   \n",
       "4     (That is a parody of the low-quality Indian-ma...   \n",
       "...                                                 ...   \n",
       "1327  Works of Soviet authors were copyrighted in al...   \n",
       "1328  Worldwide Pants Inc., who own the intellectual...   \n",
       "1329  Worried by the persecution of Christians in th...   \n",
       "1330  Yet during 1941 Britain had sent 676 aircraft ...   \n",
       "1331  Yet in 1924 Mikhail Frunze expresses gratitude...   \n",
       "\n",
       "                                                     ru    clusters  \n",
       "0     Бразилия и Вторая мировая война: забытый союзн...  World Wars  \n",
       "1     «Существуют серьезные опасения по поводу полит...  World Wars  \n",
       "2     «Женщины в Саудовской Аравии попадают в систем...  Arab world  \n",
       "3     Основными органами, обеспечивающими защиту авт...   Copyright  \n",
       "4     (Это пародия на низкокачественные индийские си...  World Wars  \n",
       "...                                                 ...         ...  \n",
       "1327  Работы советских авторов были защищены авторск...        USSR  \n",
       "1328  Компания Worldwide Pants Inc., владеющая интел...          IP  \n",
       "1329  Обеспокоенный гонениями на христиан в Советско...        USSR  \n",
       "1330  Тем не менее, в течение 1941 года Великобритан...        USSR  \n",
       "1331  Всё же в 1924 году Фрунзе М. В. объявляет ему ...        USSR  \n",
       "\n",
       "[3645 rows x 3 columns]"
      ]
     },
     "execution_count": 441,
     "metadata": {},
     "output_type": "execute_result"
    }
   ],
   "source": [
    "final_df = pd.DataFrame()\n",
    "\n",
    "final_df = pd.concat([temp_db_1, temp_db_2], axis=0)\n",
    "\n",
    "final_df"
   ]
  },
  {
   "cell_type": "code",
   "execution_count": 449,
   "metadata": {},
   "outputs": [
    {
     "name": "stdout",
     "output_type": "stream",
     "text": [
      "World Wars                  1550\n",
      "USSR                         599\n",
      "Human rights                 381\n",
      "Politics                     284\n",
      "Russia, Saint-Petersburg     246\n",
      "Arab world                   212\n",
      "Copyright                    116\n",
      "IP                           115\n",
      "Medical                       55\n",
      "Vatican                       54\n",
      "Human genome                  33\n",
      "Name: clusters, dtype: int64\n"
     ]
    }
   ],
   "source": [
    "print(final_df['clusters'].value_counts())"
   ]
  },
  {
   "cell_type": "code",
   "execution_count": 450,
   "metadata": {
    "scrolled": true
   },
   "outputs": [
    {
     "name": "stdout",
     "output_type": "stream",
     "text": [
      "World Wars      1550\n",
      "Russia           845\n",
      "Human rights     381\n",
      "Politics         284\n",
      "Copyright        231\n",
      "Arab world       212\n",
      "Medical           88\n",
      "Vatican           54\n",
      "Name: clusters, dtype: int64\n"
     ]
    }
   ],
   "source": [
    "# Consolidate clusters\n",
    "final_df.loc[final_df['clusters'] == 'Russia, Saint-Petersburg', 'clusters'] = 'Russia'\n",
    "final_df.loc[final_df['clusters'] == 'USSR', 'clusters'] = 'Russia'\n",
    "\n",
    "final_df.loc[final_df['clusters'] == 'IP', 'clusters'] = 'Copyright'\n",
    "\n",
    "final_df.loc[final_df['clusters'] == 'Human genome', 'clusters'] = 'Medical'\n",
    "\n",
    "\n",
    "print(final_df['clusters'].value_counts())"
   ]
  },
  {
   "cell_type": "code",
   "execution_count": null,
   "metadata": {},
   "outputs": [],
   "source": []
  },
  {
   "cell_type": "code",
   "execution_count": 451,
   "metadata": {},
   "outputs": [
    {
     "data": {
      "text/html": [
       "<div>\n",
       "<style scoped>\n",
       "    .dataframe tbody tr th:only-of-type {\n",
       "        vertical-align: middle;\n",
       "    }\n",
       "\n",
       "    .dataframe tbody tr th {\n",
       "        vertical-align: top;\n",
       "    }\n",
       "\n",
       "    .dataframe thead th {\n",
       "        text-align: right;\n",
       "    }\n",
       "</style>\n",
       "<table border=\"1\" class=\"dataframe\">\n",
       "  <thead>\n",
       "    <tr style=\"text-align: right;\">\n",
       "      <th></th>\n",
       "      <th>en</th>\n",
       "      <th>ru</th>\n",
       "      <th>clusters</th>\n",
       "    </tr>\n",
       "  </thead>\n",
       "  <tbody>\n",
       "    <tr>\n",
       "      <th>0</th>\n",
       "      <td>\"Brazil and World War II: The Forgotten Ally.</td>\n",
       "      <td>Бразилия и Вторая мировая война: забытый союзн...</td>\n",
       "      <td>World Wars</td>\n",
       "    </tr>\n",
       "    <tr>\n",
       "      <th>1</th>\n",
       "      <td>\"There are strong concerns about Pope Pius XII...</td>\n",
       "      <td>«Существуют серьезные опасения по поводу полит...</td>\n",
       "      <td>World Wars</td>\n",
       "    </tr>\n",
       "    <tr>\n",
       "      <th>2</th>\n",
       "      <td>\"Women in Saudi Arabia are caught in a system ...</td>\n",
       "      <td>«Женщины в Саудовской Аравии попадают в систем...</td>\n",
       "      <td>Arab world</td>\n",
       "    </tr>\n",
       "    <tr>\n",
       "      <th>3</th>\n",
       "      <td>(2004, March 9) The main bodies providing prot...</td>\n",
       "      <td>Основными органами, обеспечивающими защиту авт...</td>\n",
       "      <td>Copyright</td>\n",
       "    </tr>\n",
       "    <tr>\n",
       "      <th>4</th>\n",
       "      <td>(That is a parody of the low-quality Indian-ma...</td>\n",
       "      <td>(Это пародия на низкокачественные индийские си...</td>\n",
       "      <td>World Wars</td>\n",
       "    </tr>\n",
       "    <tr>\n",
       "      <th>...</th>\n",
       "      <td>...</td>\n",
       "      <td>...</td>\n",
       "      <td>...</td>\n",
       "    </tr>\n",
       "    <tr>\n",
       "      <th>1327</th>\n",
       "      <td>Works of Soviet authors were copyrighted in al...</td>\n",
       "      <td>Работы советских авторов были защищены авторск...</td>\n",
       "      <td>Russia</td>\n",
       "    </tr>\n",
       "    <tr>\n",
       "      <th>1328</th>\n",
       "      <td>Worldwide Pants Inc., who own the intellectual...</td>\n",
       "      <td>Компания Worldwide Pants Inc., владеющая интел...</td>\n",
       "      <td>Copyright</td>\n",
       "    </tr>\n",
       "    <tr>\n",
       "      <th>1329</th>\n",
       "      <td>Worried by the persecution of Christians in th...</td>\n",
       "      <td>Обеспокоенный гонениями на христиан в Советско...</td>\n",
       "      <td>Russia</td>\n",
       "    </tr>\n",
       "    <tr>\n",
       "      <th>1330</th>\n",
       "      <td>Yet during 1941 Britain had sent 676 aircraft ...</td>\n",
       "      <td>Тем не менее, в течение 1941 года Великобритан...</td>\n",
       "      <td>Russia</td>\n",
       "    </tr>\n",
       "    <tr>\n",
       "      <th>1331</th>\n",
       "      <td>Yet in 1924 Mikhail Frunze expresses gratitude...</td>\n",
       "      <td>Всё же в 1924 году Фрунзе М. В. объявляет ему ...</td>\n",
       "      <td>Russia</td>\n",
       "    </tr>\n",
       "  </tbody>\n",
       "</table>\n",
       "<p>3645 rows × 3 columns</p>\n",
       "</div>"
      ],
      "text/plain": [
       "                                                     en  \\\n",
       "0         \"Brazil and World War II: The Forgotten Ally.   \n",
       "1     \"There are strong concerns about Pope Pius XII...   \n",
       "2     \"Women in Saudi Arabia are caught in a system ...   \n",
       "3     (2004, March 9) The main bodies providing prot...   \n",
       "4     (That is a parody of the low-quality Indian-ma...   \n",
       "...                                                 ...   \n",
       "1327  Works of Soviet authors were copyrighted in al...   \n",
       "1328  Worldwide Pants Inc., who own the intellectual...   \n",
       "1329  Worried by the persecution of Christians in th...   \n",
       "1330  Yet during 1941 Britain had sent 676 aircraft ...   \n",
       "1331  Yet in 1924 Mikhail Frunze expresses gratitude...   \n",
       "\n",
       "                                                     ru    clusters  \n",
       "0     Бразилия и Вторая мировая война: забытый союзн...  World Wars  \n",
       "1     «Существуют серьезные опасения по поводу полит...  World Wars  \n",
       "2     «Женщины в Саудовской Аравии попадают в систем...  Arab world  \n",
       "3     Основными органами, обеспечивающими защиту авт...   Copyright  \n",
       "4     (Это пародия на низкокачественные индийские си...  World Wars  \n",
       "...                                                 ...         ...  \n",
       "1327  Работы советских авторов были защищены авторск...      Russia  \n",
       "1328  Компания Worldwide Pants Inc., владеющая интел...   Copyright  \n",
       "1329  Обеспокоенный гонениями на христиан в Советско...      Russia  \n",
       "1330  Тем не менее, в течение 1941 года Великобритан...      Russia  \n",
       "1331  Всё же в 1924 году Фрунзе М. В. объявляет ему ...      Russia  \n",
       "\n",
       "[3645 rows x 3 columns]"
      ]
     },
     "execution_count": 451,
     "metadata": {},
     "output_type": "execute_result"
    }
   ],
   "source": [
    "final_df"
   ]
  },
  {
   "cell_type": "code",
   "execution_count": 452,
   "metadata": {},
   "outputs": [],
   "source": [
    "final_df.to_csv(os.path.join(DATA_DIR, 'data_clusters_3645_rows.txt'),\n",
    "                    sep='\\t',\n",
    "                    index=False\n",
    "                   )"
   ]
  },
  {
   "cell_type": "code",
   "execution_count": 454,
   "metadata": {},
   "outputs": [
    {
     "name": "stdout",
     "output_type": "stream",
     "text": [
      "en\tru\tclusters\r\n",
      "\"\"\"Brazil and World War II: The Forgotten Ally.\"\tБразилия и Вторая мировая война: забытый союзник (англ.)\tWorld Wars\r\n",
      "\"\"\"There are strong concerns about Pope Pius XII's political role during World War II which should not be ignored,\"\" Lauder declared in a statement.\"\t«Существуют серьезные опасения по поводу политической роли Папы Пия XII во время Второй мировой войны, которую нельзя игнорировать», - заявил Лаудер в своем заявлении .\tWorld Wars\r\n"
     ]
    }
   ],
   "source": [
    "!head -3 {DATA_DIR}/'data_clusters_3645_rows.txt'"
   ]
  },
  {
   "cell_type": "code",
   "execution_count": null,
   "metadata": {},
   "outputs": [],
   "source": []
  }
 ],
 "metadata": {
  "kernelspec": {
   "display_name": "Python 3",
   "language": "python",
   "name": "python3"
  },
  "language_info": {
   "codemirror_mode": {
    "name": "ipython",
    "version": 3
   },
   "file_extension": ".py",
   "mimetype": "text/x-python",
   "name": "python",
   "nbconvert_exporter": "python",
   "pygments_lexer": "ipython3",
   "version": "3.7.6"
  }
 },
 "nbformat": 4,
 "nbformat_minor": 4
}
