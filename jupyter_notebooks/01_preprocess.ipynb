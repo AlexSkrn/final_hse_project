{
 "cells": [
  {
   "cell_type": "markdown",
   "metadata": {},
   "source": [
    "\n",
    "# Steps:\n",
    "\n",
    "    (1) Look at data\n",
    "\n",
    "    (2) Combine into a single tab-delimited file \n",
    "\n",
    "    (3)(1) Sort & remove duplicate lines & (2) Remove near duplicate lines\n",
    "\n",
    "    (4) Remove lines where SRC == TRG or where SRC ~= TRG"
   ]
  },
  {
   "cell_type": "markdown",
   "metadata": {},
   "source": [
    "### (1) Look at data"
   ]
  },
  {
   "cell_type": "code",
   "execution_count": 1,
   "metadata": {},
   "outputs": [
    {
     "name": "stdout",
     "output_type": "stream",
     "text": [
      "/Users/alexskrn/Documents/NLP/HSE/final_project/project/jupyter_notebooks\r\n"
     ]
    }
   ],
   "source": [
    "!pwd"
   ]
  },
  {
   "cell_type": "code",
   "execution_count": 4,
   "metadata": {},
   "outputs": [],
   "source": [
    "PROC_DATA_PREFIX = '../wiki-matrix-data'\n",
    "\n",
    "SRC_EN = 'WikiMatrix.en-ru.txt.en'\n",
    "SRC_RU = 'WikiMatrix.en-ru.txt.ru'"
   ]
  },
  {
   "cell_type": "code",
   "execution_count": 8,
   "metadata": {},
   "outputs": [
    {
     "name": "stdout",
     "output_type": "stream",
     "text": [
      "  508579 ../wiki-matrix-data/WikiMatrix.en-ru.txt.en\n",
      "  508579 ../wiki-matrix-data/WikiMatrix.en-ru.txt.ru\n"
     ]
    }
   ],
   "source": [
    "# Number of lines\n",
    "!wc -l {PROC_DATA_PREFIX}/{SRC_EN}\n",
    "!wc -l {PROC_DATA_PREFIX}/{SRC_RU}"
   ]
  },
  {
   "cell_type": "markdown",
   "metadata": {},
   "source": [
    "### (2) Combine into a single tab-delimited file"
   ]
  },
  {
   "cell_type": "code",
   "execution_count": 9,
   "metadata": {},
   "outputs": [
    {
     "name": "stdout",
     "output_type": "stream",
     "text": [
      "  508579 ../wiki-matrix-data/en_ru\n",
      "The glory of the Lord has risen upon thee\".\tКакую же из милостей вашего Господа вы считаете ложью?».\n",
      "Fear of the Lord is aking to wonder (or awe).\tВоистину, мучений от твоего Господа надлежит остерегаться».\n",
      "I think I washed his body 50 times.\"\tЯ думаю, что я омыла его тело 50 раз.»\n",
      "There has come to you clear evidence from your Lord.\tК вам пришло ясное знамение от вашего Господа.\n"
     ]
    }
   ],
   "source": [
    "!paste {PROC_DATA_PREFIX}/{SRC_EN} {PROC_DATA_PREFIX}/{SRC_RU} > \\\n",
    "       {PROC_DATA_PREFIX}/en_ru\n",
    "\n",
    "!wc -l {PROC_DATA_PREFIX}/en_ru\n",
    "!head -4 {PROC_DATA_PREFIX}/en_ru"
   ]
  },
  {
   "cell_type": "markdown",
   "metadata": {},
   "source": [
    "### (3)(1) Sort & remove duplicate lines "
   ]
  },
  {
   "cell_type": "code",
   "execution_count": 10,
   "metadata": {
    "scrolled": true
   },
   "outputs": [
    {
     "name": "stdout",
     "output_type": "stream",
     "text": [
      "  508579 ../wiki-matrix-data/en_ru_sort_uniq\n",
      "最弱と呼ばれても...岩谷麻優、いつか見つける青い鳥.\t最弱と呼ばれても...岩谷麻優、いつか見つける青い鳥 (яп.) (недоступная ссылка).\n",
      "Ćosić had a successful career in Europe, winning numerous league and club titles, as well as six gold medals with the Yugoslavian national team.\tЧосич имел успешную карьеру в Европе, выиграв множество клубных и личных титулов, а также шесть золотых медалей со сборной Югославии.\n",
      "Ćosić maintained that he did so in order to better understand the Stalinist mind.\tЧосич всегда утверждал позднее, что сделал это для лучшего понимания образа мыслей сталинистов.\n",
      "昆明犬|中国狼青|中国昆明犬档案 – 狗民网 – 狗与爱的世界.\t昆明犬|中国狼青|中国昆明犬档案 — 狗民网 — 狗与爱的世界.\n"
     ]
    }
   ],
   "source": [
    "!sort -u {PROC_DATA_PREFIX}/en_ru > {PROC_DATA_PREFIX}/en_ru_sort_uniq\n",
    "!wc -l {PROC_DATA_PREFIX}/en_ru_sort_uniq\n",
    "!head -4 {PROC_DATA_PREFIX}/en_ru_sort_uniq"
   ]
  },
  {
   "cell_type": "code",
   "execution_count": 12,
   "metadata": {},
   "outputs": [
    {
     "name": "stdout",
     "output_type": "stream",
     "text": [
      "Özal believed Turkey's future security depended on the continuation of a strong relationship with the United States.\tТургут Озал полагал, что будущая безопасность Турции тесно связана с продолжением партнерских отношений с Соединенными Штатами.\r\n",
      "Özal supported the IMF, and to this end he forced the resignation of the director of the Central Bank, İsmail Aydınoğlu, who opposed it.\tОзал поддерживал международный валютный фонд и вынудил уйти в отставку директора Центрального банка Исмаила Айдыноглу, который противостоял этому.\r\n",
      "Özarı's career as a player ended early due to his desire to become a coach.\tКарьера Озары в качестве игрока закончилась рано из-за его желания стать тренером.\r\n",
      "Özbiliz was given from the President of the Football Federation of Armenia Ruben Hayrapetyan an Armenia team T-shirt with the number 23.\tОзбилиз от президента Федерации футбола Армении Рубена Айрапетяна получил футболку сборной Армении под номером 23.\r\n",
      "Øystein claimed part of his father's inheritance and was given the title of king, with a third of the kingdom.\tЭйстейн претендовал на часть отцовского наследства и получил королевский титул и треть королевства.\r\n",
      "Ürümqi Airport was opened to foreign passengers in 1973, and has been used for emergency landings for flights between Europe and west Asia.\tАэропорт в Урумчи был открыт для иностранных пассажиров в 1973 году, и служил для экстренной посадки самолетов, следовавших в Европу и западную Азию.\r\n",
      "ם becomes מ when it is not the final letter.\tם становится מ, когда это не последняя буква.\r\n",
      "ניפגש בכיכר .\tЭкспозиция на площадке.\r\n",
      "תשתו משהו?\tБудешь пить?\r\n",
      "相煎何太急?\tКуда спешу?\r\n"
     ]
    }
   ],
   "source": [
    "!tail -10 {PROC_DATA_PREFIX}/en_ru_sort_uniq"
   ]
  },
  {
   "cell_type": "markdown",
   "metadata": {},
   "source": [
    "### (3)(2) Remove near duplicate lines"
   ]
  },
  {
   "cell_type": "code",
   "execution_count": 1,
   "metadata": {},
   "outputs": [],
   "source": [
    "import nltk\n",
    "from nltk.metrics.distance import jaro_similarity"
   ]
  },
  {
   "cell_type": "code",
   "execution_count": 14,
   "metadata": {
    "scrolled": true
   },
   "outputs": [
    {
     "name": "stdout",
     "output_type": "stream",
     "text": [
      "  508579 ../wiki-matrix-data/en_ru_sort_uniq\n",
      "  508426 ../wiki-matrix-data/en_ru_sort_uniq_remsim\n"
     ]
    }
   ],
   "source": [
    "# Get rid of near duplicate lines\n",
    "# takes long - wait !\n",
    "threshold = 0.85\n",
    "with open(PROC_DATA_PREFIX + '/' + 'en_ru_sort_uniq', 'r', encoding='utf8') as inF, \\\n",
    "     open(PROC_DATA_PREFIX + '/' + 'en_ru_sort_uniq_remsim', 'w', encoding='utf8') as toF:\n",
    "    prev_line = inF.readline()\n",
    "    for curr_line in inF:\n",
    "        if jaro_similarity(prev_line, curr_line) > threshold:  # Two lines are very similar,\n",
    "            prev_line = curr_line                              # forget previous line\n",
    "        else:\n",
    "            toF.write(prev_line)   # If not similar, put previous line into file,\n",
    "            prev_line = curr_line  # then forget previous line\n",
    "\n",
    "!wc -l {PROC_DATA_PREFIX}/'en_ru_sort_uniq'\n",
    "!wc -l {PROC_DATA_PREFIX}/'en_ru_sort_uniq_remsim'"
   ]
  },
  {
   "cell_type": "markdown",
   "metadata": {},
   "source": [
    "\n",
    "# Remove lines with non-ExtendedLatin or non-Cyrillic characters"
   ]
  },
  {
   "cell_type": "code",
   "execution_count": null,
   "metadata": {},
   "outputs": [],
   "source": [
    "import os\n",
    "\n",
    "def has_non_ascii(line):\n",
    "    \"\"\"Check if line contains unwanted characters.\n",
    "    \n",
    "    Return True if outside of UTF-8 decimal range 0-383 for Extended Latin.\"\"\"\n",
    "    for char in line:\n",
    "        if ord(char) > 383:\n",
    "            return True\n",
    "    return False\n",
    "\n",
    "def has_non_ascii_and_cyr(line):\n",
    "    \"\"\"Check if line contains unwanted characters\n",
    "    \n",
    "    Return True if outside of UTF-8 decimal range 0-383 or 1024-1279\n",
    "    for Extended Latin and Cyrillic, respectively.\"\"\"\n",
    "    for char in line:\n",
    "        condition_1 = ord(char) > 383 and ord(char) < 1024\n",
    "        condition_2 = ord(char) > 1279\n",
    "        if condition_1 or condition_2:\n",
    "            return True\n",
    "    return False"
   ]
  },
  {
   "cell_type": "code",
   "execution_count": 71,
   "metadata": {},
   "outputs": [
    {
     "name": "stdout",
     "output_type": "stream",
     "text": [
      "# of lines with non-Extended-Latin chars in en:  30256\n",
      "# of lines with non-Extended-Latine or non-Cyrillic chars in ru:  54968\n",
      "Total # of violating lines:  68221\n"
     ]
    }
   ],
   "source": [
    "ttl_count = 0\n",
    "count_en = 0\n",
    "count_ru = 0\n",
    "idx_en = []\n",
    "idx_ru = []\n",
    "with open(os.path.join(PROC_DATA_PREFIX, 'en_ru_sort_uniq_remsim'), 'r', encoding='utf8') as f:\n",
    "    for idx, line in enumerate(f):\n",
    "        en, ru = line.split('\\t')\n",
    "        en_side_cond = has_non_ascii(en)\n",
    "        ru_side_cond = has_non_ascii_and_cyr(ru)\n",
    "        if en_side_cond:\n",
    "            count_en += 1\n",
    "            idx_en.append(idx)\n",
    "        if ru_side_cond:\n",
    "            count_ru += 1\n",
    "            idx_ru.append(idx)\n",
    "        if en_side_cond or ru_side_cond:\n",
    "            ttl_count += 1\n",
    "\n",
    "print('# of lines with non-Extended-Latin chars in en: ', count_en)\n",
    "print('# of lines with non-Extended-Latine or non-Cyrillic chars in ru: ', count_ru)\n",
    "print('Total # of violating lines: ', ttl_count)"
   ]
  },
  {
   "cell_type": "code",
   "execution_count": 73,
   "metadata": {},
   "outputs": [
    {
     "name": "stdout",
     "output_type": "stream",
     "text": [
      "最弱と呼ばれても...岩谷麻優、いつか見つける青い鳥.\t最弱と呼ばれても...岩谷麻優、いつか見つける青い鳥 (яп.) (недоступная ссылка).\r\n",
      "Ćosić had a successful career in Europe, winning numerous league and club titles, as well as six gold medals with the Yugoslavian national team.\tЧосич имел успешную карьеру в Европе, выиграв множество клубных и личных титулов, а также шесть золотых медалей со сборной Югославии.\r\n"
     ]
    }
   ],
   "source": [
    "!head -2 {PROC_DATA_PREFIX}/'en_ru_sort_uniq_remsim'"
   ]
  },
  {
   "cell_type": "code",
   "execution_count": 72,
   "metadata": {
    "scrolled": true
   },
   "outputs": [
    {
     "data": {
      "text/plain": [
       "[0, 3, 4, 5, 6, 21, 22, 23, 24, 25]"
      ]
     },
     "execution_count": 72,
     "metadata": {},
     "output_type": "execute_result"
    }
   ],
   "source": [
    "idx_en[:10]"
   ]
  },
  {
   "cell_type": "code",
   "execution_count": 81,
   "metadata": {
    "scrolled": false
   },
   "outputs": [
    {
     "name": "stdout",
     "output_type": "stream",
     "text": [
      "最弱と呼ばれても...岩谷麻優、いつか見つける青い鳥.\t最弱と呼ばれても...岩谷麻優、いつか見つける青い鳥 (яп.) (недоступная ссылка).\r\n"
     ]
    }
   ],
   "source": [
    "!sed -n {idx_en[0] + 1}p {PROC_DATA_PREFIX}/'en_ru_sort_uniq_remsim'"
   ]
  },
  {
   "cell_type": "code",
   "execution_count": 83,
   "metadata": {
    "scrolled": false
   },
   "outputs": [
    {
     "name": "stdout",
     "output_type": "stream",
     "text": [
      "昆明犬|中国狼青|中国昆明犬档案 – 狗民网 – 狗与爱的世界.\t昆明犬|中国狼青|中国昆明犬档案 — 狗民网 — 狗与爱的世界.\r\n"
     ]
    }
   ],
   "source": [
    "!sed -n {idx_en[1] + 1}p {PROC_DATA_PREFIX}/'en_ru_sort_uniq_remsim'"
   ]
  },
  {
   "cell_type": "code",
   "execution_count": 85,
   "metadata": {},
   "outputs": [
    {
     "name": "stdout",
     "output_type": "stream",
     "text": [
      "  508426 ../wiki-matrix-data/en_ru_sort_uniq_remsim\n",
      "  440205 ../wiki-matrix-data/en_ru_sort_uniq_remsim_ascii\n"
     ]
    }
   ],
   "source": [
    "with open(os.path.join(PROC_DATA_PREFIX, 'en_ru_sort_uniq_remsim'), 'r', encoding='utf8') as fromF,\\\n",
    "    open(os.path.join(PROC_DATA_PREFIX, 'en_ru_sort_uniq_remsim_ascii'), 'w', encoding='utf8') as toF:\n",
    "    for line in fromF:\n",
    "        en, ru = line.split('\\t')\n",
    "        en_side_cond = has_non_ascii(en)\n",
    "        ru_side_cond = has_non_ascii_and_cyr(ru)\n",
    "        if en_side_cond or ru_side_cond:\n",
    "            pass\n",
    "        else:\n",
    "            toF.write(line)\n",
    "\n",
    "!wc -l {PROC_DATA_PREFIX}/'en_ru_sort_uniq_remsim'\n",
    "!wc -l {PROC_DATA_PREFIX}/'en_ru_sort_uniq_remsim_ascii'   "
   ]
  },
  {
   "cell_type": "markdown",
   "metadata": {},
   "source": [
    "### (4) Remove lines where ENG == RUS or ENG ~= RUS"
   ]
  },
  {
   "cell_type": "code",
   "execution_count": 86,
   "metadata": {
    "scrolled": true
   },
   "outputs": [],
   "source": [
    "# Examples of similar SRC and TRG\n",
    "# !sed -n -e '34934{p;q;}' file"
   ]
  },
  {
   "cell_type": "code",
   "execution_count": 93,
   "metadata": {
    "scrolled": true
   },
   "outputs": [],
   "source": [
    "# !sed -n -e '28134{p;q;}' file"
   ]
  },
  {
   "cell_type": "code",
   "execution_count": 88,
   "metadata": {},
   "outputs": [],
   "source": [
    "# # ENG and RUS are very similar\n",
    "# str1 = \"95-37553 (E) 281195\"\n",
    "# str2 = \"95-37555.R 281195 281195\"\n",
    "# jaro_similarity(str1, str2)"
   ]
  },
  {
   "cell_type": "code",
   "execution_count": 89,
   "metadata": {},
   "outputs": [],
   "source": [
    "# # ENG and RUS are not similar\n",
    "# str1 = \"\"\"Гуманитарный призыв\"\"\"\n",
    "# str2 = \"\"\"Humanitarian appeal\"\"\"\n",
    "# jaro_similarity(str1, str2)"
   ]
  },
  {
   "cell_type": "code",
   "execution_count": 5,
   "metadata": {},
   "outputs": [
    {
     "data": {
      "text/plain": [
       "0.8675213675213675"
      ]
     },
     "execution_count": 5,
     "metadata": {},
     "output_type": "execute_result"
    }
   ],
   "source": [
    "str1 = \"Aphrodite finally hits stores in the US today!.\"\n",
    "str2 = \"«Aphrodite» finally hits stores in the US today! (англ.) (недоступная ссылка).\"\n",
    "jaro_similarity(str1, str2)"
   ]
  },
  {
   "cell_type": "code",
   "execution_count": 90,
   "metadata": {},
   "outputs": [
    {
     "name": "stdout",
     "output_type": "stream",
     "text": [
      "440205\n",
      "  440205 ../wiki-matrix-data/sim_scores.txt\n",
      "  508426 ../wiki-matrix-data/en_ru_sort_uniq_remsim\n"
     ]
    }
   ],
   "source": [
    "# Count all similarity scores - takes long - wait !\n",
    "jaro_simil_scores_list = []\n",
    "with open(PROC_DATA_PREFIX + '/' + 'en_ru_sort_uniq_remsim_ascii', 'r', encoding='utf8') as inF, \\\n",
    "     open(PROC_DATA_PREFIX + '/' + 'sim_scores.txt', 'w', encoding='utf8') as toF:\n",
    "    for line in inF:\n",
    "        line_list = line.split('\\t')\n",
    "        src_str, trg_str = line_list[0].strip(), line_list[1].strip()\n",
    "        sim_score = jaro_similarity(src_str, trg_str)\n",
    "        jaro_simil_scores_list.append(sim_score)\n",
    "        toF.write('{}\\n'.format(sim_score))\n",
    "\n",
    "print(len(jaro_simil_scores_list))\n",
    "!wc -l {PROC_DATA_PREFIX}/sim_scores.txt\n",
    "!wc -l {PROC_DATA_PREFIX}/en_ru_sort_uniq_remsim_ascii"
   ]
  },
  {
   "cell_type": "code",
   "execution_count": 91,
   "metadata": {},
   "outputs": [
    {
     "name": "stdout",
     "output_type": "stream",
     "text": [
      "wc: ../wiki-matrix-data/en_ru_sort_uniq_remsim_jaro: open: No such file or directory\r\n"
     ]
    }
   ],
   "source": [
    "# Keep lines where ENG and RUS are very distinct\n",
    "threshold = 0.45\n",
    "with open(PROC_DATA_PREFIX + '/' + 'en_ru_sort_uniq_remsim_ascii', 'r', encoding='utf8') as inF_text, \\\n",
    "    open(PROC_DATA_PREFIX + '/' + 'en_ru_sort_uniq_remsim_ascii_jaro', 'w', encoding='utf8') as toF_text:\n",
    "    for i, line in enumerate(inF_text):\n",
    "        if jaro_simil_scores_list[i] < threshold:  # If SRC and TRG are not too simialr, keep the line\n",
    "            toF_text.write(line)"
   ]
  },
  {
   "cell_type": "code",
   "execution_count": 92,
   "metadata": {},
   "outputs": [
    {
     "name": "stdout",
     "output_type": "stream",
     "text": [
      "  344460 ../wiki-matrix-data/en_ru_sort_uniq_remsim_ascii_jaro\r\n"
     ]
    }
   ],
   "source": [
    "!wc -l {PROC_DATA_PREFIX}/'en_ru_sort_uniq_remsim_ascii_jaro'"
   ]
  },
  {
   "cell_type": "code",
   "execution_count": null,
   "metadata": {},
   "outputs": [],
   "source": []
  },
  {
   "cell_type": "code",
   "execution_count": 94,
   "metadata": {},
   "outputs": [],
   "source": [
    "!cp {PROC_DATA_PREFIX}/'en_ru_sort_uniq_remsim_ascii_jaro' \\\n",
    "    {PROC_DATA_PREFIX}/'cleaned_bitext.txt'"
   ]
  },
  {
   "cell_type": "code",
   "execution_count": 95,
   "metadata": {},
   "outputs": [
    {
     "name": "stdout",
     "output_type": "stream",
     "text": [
      "Ćosić had a successful career in Europe, winning numerous league and club titles, as well as six gold medals with the Yugoslavian national team.\tЧосич имел успешную карьеру в Европе, выиграв множество клубных и личных титулов, а также шесть золотых медалей со сборной Югославии.\r\n",
      "Ćosić maintained that he did so in order to better understand the Stalinist mind.\tЧосич всегда утверждал позднее, что сделал это для лучшего понимания образа мыслей сталинистов.\r\n",
      "Čabrinović and Princip died of tuberculosis in prison.\tЧабринович, как и Принцип, умер в тюрьме от туберкулёза.\r\n",
      "Čabrinović moved back into his father's house in Sarajevo.\tЧабринович вернулся в дом своего отца в Сараеве.\r\n",
      "Čachtice has received the status of a town in 1392, but it was later degraded back to a village.\tЧахтице в 1392 году получило статус города, но позже опять стало деревней.\r\n"
     ]
    }
   ],
   "source": [
    "!head -5 {PROC_DATA_PREFIX}/'cleaned_bitext.txt'"
   ]
  },
  {
   "cell_type": "markdown",
   "metadata": {},
   "source": [
    "# To pandas DataFrame"
   ]
  },
  {
   "cell_type": "code",
   "execution_count": 97,
   "metadata": {},
   "outputs": [],
   "source": [
    "data = []\n",
    "with open(os.path.join(PROC_DATA_PREFIX, 'cleaned_bitext.txt'), 'r', encoding='utf8') as f:\n",
    "    for line in f:\n",
    "        en, ru = line.split('\\t')\n",
    "        en, ru = en.strip(), ru.strip()\n",
    "        data.append((en, ru))"
   ]
  },
  {
   "cell_type": "code",
   "execution_count": 98,
   "metadata": {},
   "outputs": [],
   "source": [
    "import pandas as pd\n",
    "\n",
    "df = pd.DataFrame(data, columns=['en', 'ru'])"
   ]
  },
  {
   "cell_type": "code",
   "execution_count": 99,
   "metadata": {
    "scrolled": false
   },
   "outputs": [
    {
     "data": {
      "text/html": [
       "<div>\n",
       "<style scoped>\n",
       "    .dataframe tbody tr th:only-of-type {\n",
       "        vertical-align: middle;\n",
       "    }\n",
       "\n",
       "    .dataframe tbody tr th {\n",
       "        vertical-align: top;\n",
       "    }\n",
       "\n",
       "    .dataframe thead th {\n",
       "        text-align: right;\n",
       "    }\n",
       "</style>\n",
       "<table border=\"1\" class=\"dataframe\">\n",
       "  <thead>\n",
       "    <tr style=\"text-align: right;\">\n",
       "      <th></th>\n",
       "      <th>en</th>\n",
       "      <th>ru</th>\n",
       "    </tr>\n",
       "  </thead>\n",
       "  <tbody>\n",
       "    <tr>\n",
       "      <th>0</th>\n",
       "      <td>Ćosić had a successful career in Europe, winni...</td>\n",
       "      <td>Чосич имел успешную карьеру в Европе, выиграв ...</td>\n",
       "    </tr>\n",
       "    <tr>\n",
       "      <th>1</th>\n",
       "      <td>Ćosić maintained that he did so in order to be...</td>\n",
       "      <td>Чосич всегда утверждал позднее, что сделал это...</td>\n",
       "    </tr>\n",
       "    <tr>\n",
       "      <th>2</th>\n",
       "      <td>Čabrinović and Princip died of tuberculosis in...</td>\n",
       "      <td>Чабринович, как и Принцип, умер в тюрьме от ту...</td>\n",
       "    </tr>\n",
       "    <tr>\n",
       "      <th>3</th>\n",
       "      <td>Čabrinović moved back into his father's house ...</td>\n",
       "      <td>Чабринович вернулся в дом своего отца в Сараеве.</td>\n",
       "    </tr>\n",
       "    <tr>\n",
       "      <th>4</th>\n",
       "      <td>Čachtice has received the status of a town in ...</td>\n",
       "      <td>Чахтице в 1392 году получило статус города, но...</td>\n",
       "    </tr>\n",
       "  </tbody>\n",
       "</table>\n",
       "</div>"
      ],
      "text/plain": [
       "                                                  en  \\\n",
       "0  Ćosić had a successful career in Europe, winni...   \n",
       "1  Ćosić maintained that he did so in order to be...   \n",
       "2  Čabrinović and Princip died of tuberculosis in...   \n",
       "3  Čabrinović moved back into his father's house ...   \n",
       "4  Čachtice has received the status of a town in ...   \n",
       "\n",
       "                                                  ru  \n",
       "0  Чосич имел успешную карьеру в Европе, выиграв ...  \n",
       "1  Чосич всегда утверждал позднее, что сделал это...  \n",
       "2  Чабринович, как и Принцип, умер в тюрьме от ту...  \n",
       "3   Чабринович вернулся в дом своего отца в Сараеве.  \n",
       "4  Чахтице в 1392 году получило статус города, но...  "
      ]
     },
     "execution_count": 99,
     "metadata": {},
     "output_type": "execute_result"
    }
   ],
   "source": [
    "df.head()"
   ]
  },
  {
   "cell_type": "code",
   "execution_count": 104,
   "metadata": {
    "scrolled": true
   },
   "outputs": [
    {
     "data": {
      "text/plain": [
       "(344460, 2)"
      ]
     },
     "execution_count": 104,
     "metadata": {},
     "output_type": "execute_result"
    }
   ],
   "source": [
    "df.shape"
   ]
  },
  {
   "cell_type": "code",
   "execution_count": 105,
   "metadata": {},
   "outputs": [
    {
     "data": {
      "text/plain": [
       "en    0\n",
       "ru    0\n",
       "dtype: int64"
      ]
     },
     "execution_count": 105,
     "metadata": {},
     "output_type": "execute_result"
    }
   ],
   "source": [
    "df.isna().sum()"
   ]
  },
  {
   "cell_type": "code",
   "execution_count": 106,
   "metadata": {},
   "outputs": [
    {
     "name": "stdout",
     "output_type": "stream",
     "text": [
      "en                 .]]\n",
      "ru    Ёситаро Номура).\n",
      "Name: 2371, dtype: object\n",
      "en           3004.\n",
      "ru    Почему 4004?\n",
      "Name: 2965, dtype: object\n"
     ]
    }
   ],
   "source": [
    "print(df.loc[2371])\n",
    "print(df.loc[2965])"
   ]
  },
  {
   "cell_type": "code",
   "execution_count": 109,
   "metadata": {},
   "outputs": [],
   "source": [
    "df.drop([2371, 2965], inplace=True)"
   ]
  },
  {
   "cell_type": "code",
   "execution_count": 110,
   "metadata": {
    "scrolled": true
   },
   "outputs": [
    {
     "data": {
      "text/plain": [
       "(344458, 2)"
      ]
     },
     "execution_count": 110,
     "metadata": {},
     "output_type": "execute_result"
    }
   ],
   "source": [
    "df.shape"
   ]
  },
  {
   "cell_type": "code",
   "execution_count": null,
   "metadata": {},
   "outputs": [],
   "source": []
  },
  {
   "cell_type": "code",
   "execution_count": null,
   "metadata": {},
   "outputs": [],
   "source": []
  },
  {
   "cell_type": "markdown",
   "metadata": {},
   "source": [
    "# To .tsv file"
   ]
  },
  {
   "cell_type": "code",
   "execution_count": 111,
   "metadata": {},
   "outputs": [],
   "source": [
    "df.to_csv(os.path.join(PROC_DATA_PREFIX, 'cleaned_bitext.tsv'),\n",
    "          sep='\\t',\n",
    "         index=False\n",
    "         )"
   ]
  },
  {
   "cell_type": "code",
   "execution_count": 127,
   "metadata": {
    "scrolled": true
   },
   "outputs": [
    {
     "name": "stdout",
     "output_type": "stream",
     "text": [
      "(344458, 2)\n"
     ]
    },
    {
     "data": {
      "text/html": [
       "<div>\n",
       "<style scoped>\n",
       "    .dataframe tbody tr th:only-of-type {\n",
       "        vertical-align: middle;\n",
       "    }\n",
       "\n",
       "    .dataframe tbody tr th {\n",
       "        vertical-align: top;\n",
       "    }\n",
       "\n",
       "    .dataframe thead th {\n",
       "        text-align: right;\n",
       "    }\n",
       "</style>\n",
       "<table border=\"1\" class=\"dataframe\">\n",
       "  <thead>\n",
       "    <tr style=\"text-align: right;\">\n",
       "      <th></th>\n",
       "      <th>en</th>\n",
       "      <th>ru</th>\n",
       "    </tr>\n",
       "  </thead>\n",
       "  <tbody>\n",
       "    <tr>\n",
       "      <th>0</th>\n",
       "      <td>Ćosić had a successful career in Europe, winni...</td>\n",
       "      <td>Чосич имел успешную карьеру в Европе, выиграв ...</td>\n",
       "    </tr>\n",
       "    <tr>\n",
       "      <th>1</th>\n",
       "      <td>Ćosić maintained that he did so in order to be...</td>\n",
       "      <td>Чосич всегда утверждал позднее, что сделал это...</td>\n",
       "    </tr>\n",
       "    <tr>\n",
       "      <th>2</th>\n",
       "      <td>Čabrinović and Princip died of tuberculosis in...</td>\n",
       "      <td>Чабринович, как и Принцип, умер в тюрьме от ту...</td>\n",
       "    </tr>\n",
       "    <tr>\n",
       "      <th>3</th>\n",
       "      <td>Čabrinović moved back into his father's house ...</td>\n",
       "      <td>Чабринович вернулся в дом своего отца в Сараеве.</td>\n",
       "    </tr>\n",
       "    <tr>\n",
       "      <th>4</th>\n",
       "      <td>Čachtice has received the status of a town in ...</td>\n",
       "      <td>Чахтице в 1392 году получило статус города, но...</td>\n",
       "    </tr>\n",
       "  </tbody>\n",
       "</table>\n",
       "</div>"
      ],
      "text/plain": [
       "                                                  en  \\\n",
       "0  Ćosić had a successful career in Europe, winni...   \n",
       "1  Ćosić maintained that he did so in order to be...   \n",
       "2  Čabrinović and Princip died of tuberculosis in...   \n",
       "3  Čabrinović moved back into his father's house ...   \n",
       "4  Čachtice has received the status of a town in ...   \n",
       "\n",
       "                                                  ru  \n",
       "0  Чосич имел успешную карьеру в Европе, выиграв ...  \n",
       "1  Чосич всегда утверждал позднее, что сделал это...  \n",
       "2  Чабринович, как и Принцип, умер в тюрьме от ту...  \n",
       "3   Чабринович вернулся в дом своего отца в Сараеве.  \n",
       "4  Чахтице в 1392 году получило статус города, но...  "
      ]
     },
     "execution_count": 127,
     "metadata": {},
     "output_type": "execute_result"
    }
   ],
   "source": [
    "df = pd.read_csv(os.path.join(PROC_DATA_PREFIX, 'cleaned_bitext.tsv'),\n",
    "            sep='\\t'\n",
    "           )\n",
    "print(df.shape)\n",
    "df.head()"
   ]
  },
  {
   "cell_type": "code",
   "execution_count": 131,
   "metadata": {},
   "outputs": [],
   "source": [
    "idx_to_del = [301, 470, 598, 1786, 28949, 30834, 82651, 112950, 152069, 179739, 179756, 187081,\n",
    " 189852, 202804, 210494, 218046, 225407, 231795, 301153, 329733, 334206, 343912]"
   ]
  },
  {
   "cell_type": "code",
   "execution_count": 132,
   "metadata": {},
   "outputs": [
    {
     "name": "stdout",
     "output_type": "stream",
     "text": [
      "en                 \"Chaos;HEAd\".\n",
      "ru    Появляется и в Chaos;Head.\n",
      "Name: 301, dtype: object\n",
      "en           \"Except us.\n",
      "ru    Никто, кроме нас!»\n",
      "Name: 470, dtype: object\n",
      "en    \"He's Everywhere!\n",
      "ru         «Он повсюду!\n",
      "Name: 598, dtype: object\n",
      "en        \"What about them?\".\n",
      "ru    Ты знаешь, что с ними?»\n",
      "Name: 1786, dtype: object\n",
      "en    And often forever.\n",
      "ru     И часто навсегда.\n",
      "Name: 28949, dtype: object\n",
      "en    Anywhere!\"\n",
      "ru      Везде!».\n",
      "Name: 30834, dtype: object\n",
      "en     Forever?\n",
      "ru    Навсегда?\n",
      "Name: 82651, dtype: object\n",
      "en    How to you.\n",
      "ru          А ты?\n",
      "Name: 112950, dtype: object\n",
      "en    Indeed!\".\n",
      "ru        Ин)».\n",
      "Name: 152069, dtype: object\n",
      "en       Maybe even ever?\"\n",
      "ru    Хоть когда-нибудь?».\n",
      "Name: 179739, dtype: object\n",
      "en    Maybe they're around somewhere.\n",
      "ru     Может быть, где-то они и есть.\n",
      "Name: 179756, dtype: object\n",
      "en        Never do it differently.\n",
      "ru    Никогда не поступайте иначе.\n",
      "Name: 187081, dtype: object\n",
      "en      Now & Then.\n",
      "ru    Сейчас&Потом.\n",
      "Name: 189852, dtype: object\n",
      "en    Or is there someone else?\n",
      "ru     А может, кто-нибудь ещё?\n",
      "Name: 202804, dtype: object\n",
      "en        Probably nothing.\n",
      "ru    Скорее всего ничего .\n",
      "Name: 210494, dtype: object\n",
      "en    Seauseen.\n",
      "ru        Туда.\n",
      "Name: 218046, dtype: object\n",
      "en        Shortly afterwards.\n",
      "ru    Некоторое время спустя.\n",
      "Name: 225407, dtype: object\n",
      "en        Somewhere far away.\n",
      "ru    И куда-нибудь подальше.\n",
      "Name: 231795, dtype: object\n",
      "en         There are 51 of them.\n",
      "ru    Всего их насчитывается 51.\n",
      "Name: 301153, dtype: object\n",
      "en     Up and Down!\n",
      "ru    Вверх и вниз.\n",
      "Name: 329733, dtype: object\n",
      "en         What else?\n",
      "ru    Что-нибудь еще?\n",
      "Name: 334206, dtype: object\n",
      "en       You, over there!\n",
      "ru    Эй вы там, наверху!\n",
      "Name: 343912, dtype: object\n"
     ]
    }
   ],
   "source": [
    "for idx in idx_to_del:\n",
    "    print(df.loc[idx])"
   ]
  },
  {
   "cell_type": "code",
   "execution_count": 133,
   "metadata": {
    "scrolled": true
   },
   "outputs": [
    {
     "data": {
      "text/plain": [
       "(344436, 2)"
      ]
     },
     "execution_count": 133,
     "metadata": {},
     "output_type": "execute_result"
    }
   ],
   "source": [
    "df.drop(idx_to_del, inplace=True)\n",
    "df.shape"
   ]
  },
  {
   "cell_type": "code",
   "execution_count": 134,
   "metadata": {
    "scrolled": true
   },
   "outputs": [
    {
     "name": "stdout",
     "output_type": "stream",
     "text": [
      "(344436, 2)\n"
     ]
    },
    {
     "data": {
      "text/html": [
       "<div>\n",
       "<style scoped>\n",
       "    .dataframe tbody tr th:only-of-type {\n",
       "        vertical-align: middle;\n",
       "    }\n",
       "\n",
       "    .dataframe tbody tr th {\n",
       "        vertical-align: top;\n",
       "    }\n",
       "\n",
       "    .dataframe thead th {\n",
       "        text-align: right;\n",
       "    }\n",
       "</style>\n",
       "<table border=\"1\" class=\"dataframe\">\n",
       "  <thead>\n",
       "    <tr style=\"text-align: right;\">\n",
       "      <th></th>\n",
       "      <th>en</th>\n",
       "      <th>ru</th>\n",
       "    </tr>\n",
       "  </thead>\n",
       "  <tbody>\n",
       "    <tr>\n",
       "      <th>0</th>\n",
       "      <td>Ćosić had a successful career in Europe, winni...</td>\n",
       "      <td>Чосич имел успешную карьеру в Европе, выиграв ...</td>\n",
       "    </tr>\n",
       "    <tr>\n",
       "      <th>1</th>\n",
       "      <td>Ćosić maintained that he did so in order to be...</td>\n",
       "      <td>Чосич всегда утверждал позднее, что сделал это...</td>\n",
       "    </tr>\n",
       "    <tr>\n",
       "      <th>2</th>\n",
       "      <td>Čabrinović and Princip died of tuberculosis in...</td>\n",
       "      <td>Чабринович, как и Принцип, умер в тюрьме от ту...</td>\n",
       "    </tr>\n",
       "    <tr>\n",
       "      <th>3</th>\n",
       "      <td>Čabrinović moved back into his father's house ...</td>\n",
       "      <td>Чабринович вернулся в дом своего отца в Сараеве.</td>\n",
       "    </tr>\n",
       "    <tr>\n",
       "      <th>4</th>\n",
       "      <td>Čachtice has received the status of a town in ...</td>\n",
       "      <td>Чахтице в 1392 году получило статус города, но...</td>\n",
       "    </tr>\n",
       "  </tbody>\n",
       "</table>\n",
       "</div>"
      ],
      "text/plain": [
       "                                                  en  \\\n",
       "0  Ćosić had a successful career in Europe, winni...   \n",
       "1  Ćosić maintained that he did so in order to be...   \n",
       "2  Čabrinović and Princip died of tuberculosis in...   \n",
       "3  Čabrinović moved back into his father's house ...   \n",
       "4  Čachtice has received the status of a town in ...   \n",
       "\n",
       "                                                  ru  \n",
       "0  Чосич имел успешную карьеру в Европе, выиграв ...  \n",
       "1  Чосич всегда утверждал позднее, что сделал это...  \n",
       "2  Чабринович, как и Принцип, умер в тюрьме от ту...  \n",
       "3   Чабринович вернулся в дом своего отца в Сараеве.  \n",
       "4  Чахтице в 1392 году получило статус города, но...  "
      ]
     },
     "execution_count": 134,
     "metadata": {},
     "output_type": "execute_result"
    }
   ],
   "source": [
    "df.to_csv(os.path.join(PROC_DATA_PREFIX, 'cleaned_bitext_344436.tsv'),\n",
    "          sep='\\t',\n",
    "         index=False\n",
    "         )\n",
    "\n",
    "df = pd.read_csv(os.path.join(PROC_DATA_PREFIX, 'cleaned_bitext_344436.tsv'),\n",
    "            sep='\\t'\n",
    "           )\n",
    "print(df.shape)\n",
    "df.head()"
   ]
  },
  {
   "cell_type": "code",
   "execution_count": null,
   "metadata": {},
   "outputs": [],
   "source": []
  },
  {
   "cell_type": "code",
   "execution_count": null,
   "metadata": {},
   "outputs": [],
   "source": []
  },
  {
   "cell_type": "code",
   "execution_count": null,
   "metadata": {},
   "outputs": [],
   "source": []
  },
  {
   "cell_type": "code",
   "execution_count": null,
   "metadata": {},
   "outputs": [],
   "source": []
  },
  {
   "cell_type": "markdown",
   "metadata": {},
   "source": [
    "STOPPED HERE"
   ]
  },
  {
   "cell_type": "markdown",
   "metadata": {},
   "source": [
    "### (5) Word tokenize (+ remove punct, digits, stop words) "
   ]
  },
  {
   "cell_type": "code",
   "execution_count": 1,
   "metadata": {},
   "outputs": [],
   "source": [
    "import string\n",
    "import nltk\n",
    "\n",
    "stopwords = ['the', 'a', 'an', 'of',\n",
    "#              's', 'and', 'и', 'or', 'или',   # Inclusion of these into stop words \n",
    "#              'been', 'being', 'by'           # causes word alignment to deteriorate\n",
    "            ]\n",
    "\n",
    "def preprocess(text):\n",
    "    \"\"\"Return a string cleaned up.\"\"\"\n",
    "    text = text.lower()  # lowercase\n",
    "    # word-tokenize & remove numbers if the entire token consists of numbers\n",
    "    text = ' '.join(t for t in nltk.wordpunct_tokenize(text) if not t.isdigit() and not t in stopwords)\n",
    "    # remove punctuation\n",
    "    punct_remove = set(string.punctuation) | {'−', '\\t', '\\n', '\\r', '\\x0b', '\\x0c', '◦', '°'}\n",
    "    text = ''.join(char for char in text if char not in punct_remove)\n",
    "    # strip extra whitespaces\n",
    "    text = ' '.join(text.split())\n",
    "    return text"
   ]
  },
  {
   "cell_type": "code",
   "execution_count": 27,
   "metadata": {},
   "outputs": [
    {
     "data": {
      "text/plain": [
       "'participation as partner in international facility in russia to provide enrichment services for reliable supply fuel to iran s nuclear reactors'"
      ]
     },
     "execution_count": 27,
     "metadata": {},
     "output_type": "execute_result"
    }
   ],
   "source": [
    "# check if it works as expected\n",
    "# text = \"\"\"!\"#$%&'()*+,-−./:;<=>?@[\\]^_`{|}~\"\"\"\n",
    "text = \"◦ The Participation as a partner in an the international facility in Russia to provide enrichment services for a reliable supply of fuel to Iran's nuclear reactors.\"\n",
    "preprocess(text)"
   ]
  },
  {
   "cell_type": "code",
   "execution_count": 28,
   "metadata": {},
   "outputs": [],
   "source": [
    "# Word tokenize and clean up - from now on I have two files - raw text and tokenized text\n",
    "with open(PROC_DATA_PREFIX + '/' + 'en_ru_sort_uniq_remsim_jaro', 'r', encoding='utf8') as inF, \\\n",
    "     open(PROC_DATA_PREFIX + '/' + 'en_ru_sort_uniq_remsim_jaro_tok', 'w', encoding='utf8') as toF:\n",
    "    for line in inF:\n",
    "        line_list = line.split('\\t')\n",
    "        src_str, trg_str = line_list[0].strip(), line_list[1].strip()\n",
    "        toF.write('{}\\t{}\\n'.format(preprocess(src_str), preprocess(trg_str)))"
   ]
  },
  {
   "cell_type": "code",
   "execution_count": 29,
   "metadata": {},
   "outputs": [
    {
     "name": "stdout",
     "output_type": "stream",
     "text": [
      "   25971 /Users/alexskrn/Documents/NLP/WordAlign/wordalign_notebooks/data/en_ru_sort_uniq_remsim_jaro\n",
      "   25971 /Users/alexskrn/Documents/NLP/WordAlign/wordalign_notebooks/data/en_ru_sort_uniq_remsim_jaro_tok\n"
     ]
    }
   ],
   "source": [
    "!wc -l {PROC_DATA_PREFIX}/'en_ru_sort_uniq_remsim_jaro'\n",
    "!wc -l {PROC_DATA_PREFIX}/'en_ru_sort_uniq_remsim_jaro_tok'"
   ]
  },
  {
   "cell_type": "code",
   "execution_count": 30,
   "metadata": {},
   "outputs": [
    {
     "name": "stdout",
     "output_type": "stream",
     "text": [
      "BEFORE\n",
      "\n",
      "− Antoine Kesia-Mbe Mindua (Democratic Republic of Congo)\t- Антуан Кесия-Мбе Миндуа (Демократическая Республика Конго)\n",
      "− Howard Morrison (United Kingdom)\t- Говард Моррисон (Соединенное Королевство)\n",
      "◦ Development with IAEA of a standing multilateral mechanism for reliable access to nuclear fuel, based on ideas to be considered at the next meeting of the Board of Governors.\t:: создания совместно с МАГАТЭ постоянного многостороннего механизма надежного обеспечения доступа к ядерному топливу на основе идей, которые будут рассмотрены на следующем заседании Совета управляющих.\n",
      "◦ Establishment on commercial terms of a buffer stock to hold a reserve of up to five years' supply of nuclear fuel dedicated to Iran, with the participation and under supervision of IAEA.\t:: создания на коммерческих началах резервных запасов предназначенного для Ирана ядерного топлива, рассчитанных на пять лет, при участии и под контролем МАГАТЭ;\n",
      "\n",
      "AFTER\n",
      "\n",
      "antoine kesia mbe mindua democratic republic congo\tантуан кесия мбе миндуа демократическая республика конго\n",
      "howard morrison united kingdom\tговард моррисон соединенное королевство\n",
      "development with iaea standing multilateral mechanism for reliable access to nuclear fuel based on ideas to be considered at next meeting board governors\tсоздания совместно с магатэ постоянного многостороннего механизма надежного обеспечения доступа к ядерному топливу на основе идей которые будут рассмотрены на следующем заседании совета управляющих\n",
      "establishment on commercial terms buffer stock to hold reserve up to five years supply nuclear fuel dedicated to iran with participation and under supervision iaea\tсоздания на коммерческих началах резервных запасов предназначенного для ирана ядерного топлива рассчитанных на пять лет при участии и под контролем магатэ\n"
     ]
    }
   ],
   "source": [
    "print('BEFORE\\n')\n",
    "!head -2 {PROC_DATA_PREFIX}/'en_ru_sort_uniq_remsim_jaro'\n",
    "!tail -2 {PROC_DATA_PREFIX}/'en_ru_sort_uniq_remsim_jaro'\n",
    "print('\\nAFTER\\n')\n",
    "!head -2 {PROC_DATA_PREFIX}/'en_ru_sort_uniq_remsim_jaro_tok'\n",
    "!tail -2 {PROC_DATA_PREFIX}/'en_ru_sort_uniq_remsim_jaro_tok'"
   ]
  },
  {
   "cell_type": "markdown",
   "metadata": {},
   "source": [
    "### (6)(1) Remove outliers (where diff in sentence length between SRC and TRG is too large)"
   ]
  },
  {
   "cell_type": "code",
   "execution_count": 31,
   "metadata": {},
   "outputs": [],
   "source": [
    "# Count sentence lengths\n",
    "def count_sent_len(data_prefix, file_in, file_out):\n",
    "    \"\"\"Count sentence length in tab-delim file_in and write counts to file_out.\"\"\"\n",
    "    with open(data_prefix + '/' + file_in, 'r', encoding='utf8') as inF, \\\n",
    "        open(data_prefix + '/' + file_out, 'w', encoding='utf8') as toF_nums:\n",
    "        for line in inF:\n",
    "            line_list = line.split('\\t')\n",
    "            src_str, trg_str = line_list[0].strip(), line_list[1].strip()\n",
    "            src_len, trg_len = len(src_str.split()), len(trg_str.split())\n",
    "            toF_nums.write('{}\\t{}\\n'.format(src_len, trg_len))"
   ]
  },
  {
   "cell_type": "code",
   "execution_count": 32,
   "metadata": {},
   "outputs": [],
   "source": [
    "count_sent_len(PROC_DATA_PREFIX, 'en_ru_sort_uniq_remsim_jaro_tok', 'sent_lengths.txt')"
   ]
  },
  {
   "cell_type": "code",
   "execution_count": 33,
   "metadata": {
    "scrolled": true
   },
   "outputs": [
    {
     "name": "stdout",
     "output_type": "stream",
     "text": [
      "   25971 /Users/alexskrn/Documents/NLP/WordAlign/wordalign_notebooks/data/en_ru_sort_uniq_remsim_jaro_tok\n",
      "   25971 /Users/alexskrn/Documents/NLP/WordAlign/wordalign_notebooks/data/sent_lengths.txt\n",
      "7\t7\n",
      "4\t4\n",
      "4\t4\n"
     ]
    }
   ],
   "source": [
    "!wc -l {PROC_DATA_PREFIX}/'en_ru_sort_uniq_remsim_jaro_tok'\n",
    "!wc -l {PROC_DATA_PREFIX}/'sent_lengths.txt'\n",
    "!head -3 {PROC_DATA_PREFIX}/'sent_lengths.txt'"
   ]
  },
  {
   "cell_type": "code",
   "execution_count": 34,
   "metadata": {},
   "outputs": [],
   "source": [
    "import matplotlib.pyplot as plt\n",
    "import pandas as pd\n",
    "import numpy as np\n",
    "\n",
    "my_data = pd.read_csv(PROC_DATA_PREFIX + '/' + 'sent_lengths.txt', sep='\\t', header=None)\n",
    "my_data.columns = ['src_len', 'trg_len']"
   ]
  },
  {
   "cell_type": "code",
   "execution_count": 35,
   "metadata": {
    "scrolled": true
   },
   "outputs": [
    {
     "data": {
      "text/html": [
       "<div>\n",
       "<style scoped>\n",
       "    .dataframe tbody tr th:only-of-type {\n",
       "        vertical-align: middle;\n",
       "    }\n",
       "\n",
       "    .dataframe tbody tr th {\n",
       "        vertical-align: top;\n",
       "    }\n",
       "\n",
       "    .dataframe thead th {\n",
       "        text-align: right;\n",
       "    }\n",
       "</style>\n",
       "<table border=\"1\" class=\"dataframe\">\n",
       "  <thead>\n",
       "    <tr style=\"text-align: right;\">\n",
       "      <th></th>\n",
       "      <th>src_len</th>\n",
       "      <th>trg_len</th>\n",
       "      <th>diff</th>\n",
       "    </tr>\n",
       "  </thead>\n",
       "  <tbody>\n",
       "    <tr>\n",
       "      <td>0</td>\n",
       "      <td>7</td>\n",
       "      <td>7</td>\n",
       "      <td>0</td>\n",
       "    </tr>\n",
       "    <tr>\n",
       "      <td>1</td>\n",
       "      <td>4</td>\n",
       "      <td>4</td>\n",
       "      <td>0</td>\n",
       "    </tr>\n",
       "    <tr>\n",
       "      <td>2</td>\n",
       "      <td>4</td>\n",
       "      <td>4</td>\n",
       "      <td>0</td>\n",
       "    </tr>\n",
       "    <tr>\n",
       "      <td>3</td>\n",
       "      <td>5</td>\n",
       "      <td>5</td>\n",
       "      <td>0</td>\n",
       "    </tr>\n",
       "    <tr>\n",
       "      <td>4</td>\n",
       "      <td>5</td>\n",
       "      <td>5</td>\n",
       "      <td>0</td>\n",
       "    </tr>\n",
       "  </tbody>\n",
       "</table>\n",
       "</div>"
      ],
      "text/plain": [
       "   src_len  trg_len  diff\n",
       "0        7        7     0\n",
       "1        4        4     0\n",
       "2        4        4     0\n",
       "3        5        5     0\n",
       "4        5        5     0"
      ]
     },
     "execution_count": 35,
     "metadata": {},
     "output_type": "execute_result"
    }
   ],
   "source": [
    "my_data['diff'] = my_data.loc[:, 'src_len'] - my_data.loc[:, 'trg_len']\n",
    "my_data.head()"
   ]
  },
  {
   "cell_type": "code",
   "execution_count": 36,
   "metadata": {},
   "outputs": [
    {
     "data": {
      "text/html": [
       "<div>\n",
       "<style scoped>\n",
       "    .dataframe tbody tr th:only-of-type {\n",
       "        vertical-align: middle;\n",
       "    }\n",
       "\n",
       "    .dataframe tbody tr th {\n",
       "        vertical-align: top;\n",
       "    }\n",
       "\n",
       "    .dataframe thead th {\n",
       "        text-align: right;\n",
       "    }\n",
       "</style>\n",
       "<table border=\"1\" class=\"dataframe\">\n",
       "  <thead>\n",
       "    <tr style=\"text-align: right;\">\n",
       "      <th></th>\n",
       "      <th>src_len</th>\n",
       "      <th>trg_len</th>\n",
       "      <th>diff</th>\n",
       "    </tr>\n",
       "  </thead>\n",
       "  <tbody>\n",
       "    <tr>\n",
       "      <td>25966</td>\n",
       "      <td>39</td>\n",
       "      <td>38</td>\n",
       "      <td>1</td>\n",
       "    </tr>\n",
       "    <tr>\n",
       "      <td>25967</td>\n",
       "      <td>29</td>\n",
       "      <td>34</td>\n",
       "      <td>-5</td>\n",
       "    </tr>\n",
       "    <tr>\n",
       "      <td>25968</td>\n",
       "      <td>3</td>\n",
       "      <td>3</td>\n",
       "      <td>0</td>\n",
       "    </tr>\n",
       "    <tr>\n",
       "      <td>25969</td>\n",
       "      <td>23</td>\n",
       "      <td>24</td>\n",
       "      <td>-1</td>\n",
       "    </tr>\n",
       "    <tr>\n",
       "      <td>25970</td>\n",
       "      <td>25</td>\n",
       "      <td>21</td>\n",
       "      <td>4</td>\n",
       "    </tr>\n",
       "  </tbody>\n",
       "</table>\n",
       "</div>"
      ],
      "text/plain": [
       "       src_len  trg_len  diff\n",
       "25966       39       38     1\n",
       "25967       29       34    -5\n",
       "25968        3        3     0\n",
       "25969       23       24    -1\n",
       "25970       25       21     4"
      ]
     },
     "execution_count": 36,
     "metadata": {},
     "output_type": "execute_result"
    }
   ],
   "source": [
    "my_data.tail()"
   ]
  },
  {
   "cell_type": "code",
   "execution_count": 39,
   "metadata": {},
   "outputs": [
    {
     "name": "stdout",
     "output_type": "stream",
     "text": [
      "Mean difference and standard deviation of the difference in length between SRC and TRG senteces:\n",
      "-2.3534326749066268 4.74472866424436\n"
     ]
    }
   ],
   "source": [
    "# Calculate the mean difference and standard deviation of the difference in length\n",
    "diff_mean = np.mean(my_data.loc[:, \"diff\"])\n",
    "diff_std = np.std(my_data.loc[:, \"diff\"])\n",
    "print('Mean difference and standard deviation of the difference in length between SRC and TRG senteces:')\n",
    "print(diff_mean, diff_std)"
   ]
  },
  {
   "cell_type": "code",
   "execution_count": 40,
   "metadata": {
    "scrolled": true
   },
   "outputs": [
    {
     "data": {
      "image/png": "[encoded data removed]",
      "text/plain": [
       "<Figure size 432x288 with 1 Axes>"
      ]
     },
     "metadata": {
      "needs_background": "light"
     },
     "output_type": "display_data"
    }
   ],
   "source": [
    "# Plot the differences\n",
    "plt.hist(my_data.loc[:, \"diff\"])\n",
    "plt.title('Plot of the difference in length between SRC and TRG sentences')\n",
    "plt.xlabel(\"difference in length between source and target sentences\")\n",
    "plt.ylabel(\"frequency\\n(i.e. how often such difference can be seen)\")\n",
    "plt.show()"
   ]
  },
  {
   "cell_type": "code",
   "execution_count": null,
   "metadata": {},
   "outputs": [],
   "source": [
    "# The above shows that Russian translations are usually longer than the English sources"
   ]
  },
  {
   "cell_type": "code",
   "execution_count": 41,
   "metadata": {},
   "outputs": [
    {
     "name": "stdout",
     "output_type": "stream",
     "text": [
      "-11.842890003395347 7.136024653582094\n"
     ]
    }
   ],
   "source": [
    "# Maximum number of standard deviations allowed in the difference \n",
    "# in length between the source and target sentences\n",
    "std = 2\n",
    "limit_hi = diff_mean + std * diff_std\n",
    "limit_lo = diff_mean - std * diff_std\n",
    "print(limit_lo, limit_hi)"
   ]
  },
  {
   "cell_type": "code",
   "execution_count": 42,
   "metadata": {},
   "outputs": [
    {
     "name": "stdout",
     "output_type": "stream",
     "text": [
      "    1238 /Users/alexskrn/Documents/NLP/WordAlign/wordalign_notebooks/data/outliers_at_2_std.txt\n",
      "security council encourages all ecowas states especially those most affected by illicit trade in small arms and light weapons to submit as did other states national reports on actions undertaken to implement united nations programme action for small arms and light weapons to secretary general in advance biennial review meeting\tсовет безопасности побуждает все государства эковас особенно те из них которые в наибольшей мере затрагивает незаконная торговля стрелковым оружием и легкими вооружениями представить генеральному секретарю как это сделали другие государства национальные доклады о принятых ими мерах по осуществлению программы действий организации объединенных наций по стрелковому оружию и легким вооружениям до начала проводимого раз в два года совещания по рассмотрению действия которое состоится в году\n",
      "c l0 corrosion resistant multiple seal canned drive magnetic drive bellows or diaphragm pumps or progressive cavity tubing pumps including peristaltic or roller pumps in which only elastometric tubing is corrosion resistant with manufacturer s specified maximum flow rate m3 per minute or greater under standard temperature k and standard pressure kp conditions\tc коррозиеустойчивые насосы мощностью м3 в минуту или более при стандартной температуре 293ºk и стандартном давлении kpa включая многокамерные герметизированные магнитные насосы и насосы работающие по принципу выдавливания или прогрессивного увеличения объема например перистальтические или ротационные насосы в которых эластометрические трубки являются единственными коррозиеустойчивыми элементами\n",
      "as immediate priority ensure transition to democracy including through promoting facilitating and providing technical advice and assistance to single inclusive and transparent national dialogue to libyan electoral processes and to process preparing drafting and adopting new libyan constitution promoting empowerment and political participation all parts libyan society in particular women youth and minorities and through provision good offices to support inclusive libyan political settlement and to promote political environment for integration ex combatants into libyan national security forces or their demobilization and reintegration into civilian life\tобеспечение в качестве первоочередной задачи перехода к демократии в том числе путем поощрения и облегчения проведения общенационального и транспарентного диалога с участием всех слоев общества осуществления избирательных процессов в ливии и подготовки составления проекта и принятия новой конституции ливии а также оказания в этой связи технической консультационной и иной помощи поощрения расширения прав и возможностей и политического участия всех слоев ливийского общества в частности женщин молодежи и меньшинств и путем предоставления добрых услуг для поддержки всеохватного политического урегулирования в ливии и содействия созданию благоприятных политических условий для включения бывших комбатантов в состав национальных сил безопасности ливии или их демобилизации и вовлечения в гражданскую жизнь\n"
     ]
    }
   ],
   "source": [
    "# Inspect sentences regarded as outliers by the above standard \n",
    "with open(PROC_DATA_PREFIX + '/' + 'en_ru_sort_uniq_remsim_jaro_tok', 'r', encoding='utf8') as inF, \\\n",
    "     open(PROC_DATA_PREFIX + '/' + 'outliers_at_2_std.txt', 'w', encoding='utf8') as toF:\n",
    "    for idx, line in enumerate(inF):\n",
    "        if (my_data.loc[:, \"diff\"][idx] > limit_hi) or (my_data.loc[:, \"diff\"][idx] < limit_lo):\n",
    "            toF.write(line)  # write sentences where difference in length is outside of above limits\n",
    "\n",
    "!wc -l {PROC_DATA_PREFIX}/'outliers_at_2_std.txt'\n",
    "!head -3 {PROC_DATA_PREFIX}/'outliers_at_2_std.txt'"
   ]
  },
  {
   "cell_type": "code",
   "execution_count": 43,
   "metadata": {},
   "outputs": [
    {
     "name": "stdout",
     "output_type": "stream",
     "text": [
      "   25971 /Users/alexskrn/Documents/NLP/WordAlign/wordalign_notebooks/data/en_ru_sort_uniq_remsim_jaro_tok\n",
      "   24733 /Users/alexskrn/Documents/NLP/WordAlign/wordalign_notebooks/data/en_ru_sort_uniq_remsim_jaro_tok_2std\n"
     ]
    }
   ],
   "source": [
    "# remove outliers from raw text & tokenized text files\n",
    "# tokenized file first\n",
    "with open(PROC_DATA_PREFIX + '/' + 'en_ru_sort_uniq_remsim_jaro_tok', 'r', encoding='utf8') as inF, \\\n",
    "     open(PROC_DATA_PREFIX + '/' + 'en_ru_sort_uniq_remsim_jaro_tok_2std', 'w', encoding='utf8') as toF:\n",
    "    for idx, line in enumerate(inF):\n",
    "        if (my_data.loc[:, \"diff\"][idx] < limit_hi) and (my_data.loc[:, \"diff\"][idx] > limit_lo):\n",
    "            toF.write(line)  # keep line if difference is within above limits\n",
    "            \n",
    "!wc -l {PROC_DATA_PREFIX}/'en_ru_sort_uniq_remsim_jaro_tok'\n",
    "!wc -l {PROC_DATA_PREFIX}/'en_ru_sort_uniq_remsim_jaro_tok_2std'"
   ]
  },
  {
   "cell_type": "code",
   "execution_count": 44,
   "metadata": {},
   "outputs": [
    {
     "name": "stdout",
     "output_type": "stream",
     "text": [
      "   25971 /Users/alexskrn/Documents/NLP/WordAlign/wordalign_notebooks/data/en_ru_sort_uniq_remsim_jaro\n",
      "   24733 /Users/alexskrn/Documents/NLP/WordAlign/wordalign_notebooks/data/en_ru_sort_uniq_remsim_jaro_2std\n"
     ]
    }
   ],
   "source": [
    "# remove outliers from raw text & tokenized text files\n",
    "# raw text next\n",
    "with open(PROC_DATA_PREFIX + '/' + 'en_ru_sort_uniq_remsim_jaro', 'r', encoding='utf8') as inF, \\\n",
    "     open(PROC_DATA_PREFIX + '/' + 'en_ru_sort_uniq_remsim_jaro_2std', 'w', encoding='utf8') as toF:\n",
    "    for idx, line in enumerate(inF):\n",
    "        if (my_data.loc[:, \"diff\"][idx] < limit_hi) and (my_data.loc[:, \"diff\"][idx] > limit_lo):\n",
    "            toF.write(line)  # keep line if difference is within above limits\n",
    "            \n",
    "!wc -l {PROC_DATA_PREFIX}/'en_ru_sort_uniq_remsim_jaro'\n",
    "!wc -l {PROC_DATA_PREFIX}/'en_ru_sort_uniq_remsim_jaro_2std'"
   ]
  },
  {
   "cell_type": "markdown",
   "metadata": {},
   "source": [
    "### (6)(2) Remove too long sentences"
   ]
  },
  {
   "cell_type": "code",
   "execution_count": 45,
   "metadata": {
    "scrolled": true
   },
   "outputs": [
    {
     "name": "stdout",
     "output_type": "stream",
     "text": [
      "(25971, 2)\n"
     ]
    },
    {
     "data": {
      "text/html": [
       "<div>\n",
       "<style scoped>\n",
       "    .dataframe tbody tr th:only-of-type {\n",
       "        vertical-align: middle;\n",
       "    }\n",
       "\n",
       "    .dataframe tbody tr th {\n",
       "        vertical-align: top;\n",
       "    }\n",
       "\n",
       "    .dataframe thead th {\n",
       "        text-align: right;\n",
       "    }\n",
       "</style>\n",
       "<table border=\"1\" class=\"dataframe\">\n",
       "  <thead>\n",
       "    <tr style=\"text-align: right;\">\n",
       "      <th></th>\n",
       "      <th>src_len</th>\n",
       "      <th>trg_len</th>\n",
       "    </tr>\n",
       "  </thead>\n",
       "  <tbody>\n",
       "    <tr>\n",
       "      <td>0</td>\n",
       "      <td>7</td>\n",
       "      <td>7</td>\n",
       "    </tr>\n",
       "    <tr>\n",
       "      <td>1</td>\n",
       "      <td>4</td>\n",
       "      <td>4</td>\n",
       "    </tr>\n",
       "    <tr>\n",
       "      <td>2</td>\n",
       "      <td>4</td>\n",
       "      <td>4</td>\n",
       "    </tr>\n",
       "    <tr>\n",
       "      <td>3</td>\n",
       "      <td>5</td>\n",
       "      <td>5</td>\n",
       "    </tr>\n",
       "    <tr>\n",
       "      <td>4</td>\n",
       "      <td>5</td>\n",
       "      <td>5</td>\n",
       "    </tr>\n",
       "  </tbody>\n",
       "</table>\n",
       "</div>"
      ],
      "text/plain": [
       "   src_len  trg_len\n",
       "0        7        7\n",
       "1        4        4\n",
       "2        4        4\n",
       "3        5        5\n",
       "4        5        5"
      ]
     },
     "execution_count": 45,
     "metadata": {},
     "output_type": "execute_result"
    }
   ],
   "source": [
    "import pandas as pd\n",
    "\n",
    "counts_data = pd.read_csv(PROC_DATA_PREFIX + '/' + 'sent_lengths.txt', sep='\\t', header=None)\n",
    "counts_data.columns = ['src_len', 'trg_len']\n",
    "print(counts_data.shape)\n",
    "counts_data.head()"
   ]
  },
  {
   "cell_type": "code",
   "execution_count": 46,
   "metadata": {},
   "outputs": [],
   "source": [
    "# Remove too long sentences\n",
    "# Raw file first -- This file is to go into Database\n",
    "threshold = 40\n",
    "with open(PROC_DATA_PREFIX + '/' + 'en_ru_sort_uniq_remsim_jaro_2std', 'r', encoding='utf8') as inF, \\\n",
    "     open(PROC_DATA_PREFIX + '/' + 'en_ru_sort_uniq_remsim_jaro_2std_40', 'w', encoding='utf8') as toF:\n",
    "    for idx, line in enumerate(inF):\n",
    "        if (counts_data.loc[:, 'src_len'][idx] < threshold) and (counts_data.loc[:, 'trg_len'][idx] < threshold):\n",
    "            toF.write(line)  # keep lines which are less than 40 words long"
   ]
  },
  {
   "cell_type": "code",
   "execution_count": 48,
   "metadata": {
    "scrolled": true
   },
   "outputs": [
    {
     "name": "stdout",
     "output_type": "stream",
     "text": [
      "   24733 /Users/alexskrn/Documents/NLP/WordAlign/wordalign_notebooks/data/en_ru_sort_uniq_remsim_jaro_2std\n",
      "   14561 /Users/alexskrn/Documents/NLP/WordAlign/wordalign_notebooks/data/en_ru_sort_uniq_remsim_jaro_2std_40\n"
     ]
    }
   ],
   "source": [
    "!wc -l {PROC_DATA_PREFIX}/'en_ru_sort_uniq_remsim_jaro_2std'\n",
    "!wc -l {PROC_DATA_PREFIX}/'en_ru_sort_uniq_remsim_jaro_2std_40'"
   ]
  },
  {
   "cell_type": "code",
   "execution_count": 49,
   "metadata": {},
   "outputs": [
    {
     "name": "stdout",
     "output_type": "stream",
     "text": [
      "   24733 /Users/alexskrn/Documents/NLP/WordAlign/wordalign_notebooks/data/en_ru_sort_uniq_remsim_jaro_tok_2std\n",
      "   14561 /Users/alexskrn/Documents/NLP/WordAlign/wordalign_notebooks/data/en_ru_sort_uniq_remsim_jaro_tok_2std_40\n"
     ]
    }
   ],
   "source": [
    "# Remove too long sentences\n",
    "# Tok file -- This file is be used for Word Alignment\n",
    "threshold = 40\n",
    "with open(PROC_DATA_PREFIX + '/' + 'en_ru_sort_uniq_remsim_jaro_tok_2std', 'r', encoding='utf8') as inF, \\\n",
    "     open(PROC_DATA_PREFIX + '/' + 'en_ru_sort_uniq_remsim_jaro_tok_2std_40', 'w', encoding='utf8') as toF:\n",
    "    for idx, line in enumerate(inF):\n",
    "        if (counts_data.loc[:, 'src_len'][idx] < threshold) and (counts_data.loc[:, 'trg_len'][idx] < threshold):\n",
    "            toF.write(line)  # keep lines which are less than 40 words long\n",
    "\n",
    "!wc -l {PROC_DATA_PREFIX}/'en_ru_sort_uniq_remsim_jaro_tok_2std'\n",
    "!wc -l {PROC_DATA_PREFIX}/'en_ru_sort_uniq_remsim_jaro_tok_2std_40'"
   ]
  },
  {
   "cell_type": "code",
   "execution_count": null,
   "metadata": {},
   "outputs": [],
   "source": []
  }
 ],
 "metadata": {
  "kernelspec": {
   "display_name": "Python 3",
   "language": "python",
   "name": "python3"
  },
  "language_info": {
   "codemirror_mode": {
    "name": "ipython",
    "version": 3
   },
   "file_extension": ".py",
   "mimetype": "text/x-python",
   "name": "python",
   "nbconvert_exporter": "python",
   "pygments_lexer": "ipython3",
   "version": "3.7.6"
  }
 },
 "nbformat": 4,
 "nbformat_minor": 2
}
